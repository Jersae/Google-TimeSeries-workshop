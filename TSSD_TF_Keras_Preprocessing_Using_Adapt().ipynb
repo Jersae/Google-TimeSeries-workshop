{
  "nbformat": 4,
  "nbformat_minor": 0,
  "metadata": {
    "colab": {
      "name": "TSSD - TF Keras Preprocessing - Using Adapt().ipynb",
      "provenance": [],
      "include_colab_link": true
    },
    "kernelspec": {
      "name": "python3",
      "display_name": "Python 3"
    }
  },
  "cells": [
    {
      "cell_type": "markdown",
      "metadata": {
        "id": "view-in-github",
        "colab_type": "text"
      },
      "source": [
        "<a href=\"https://colab.research.google.com/github/Jersae/Google-TimeSeries-workshop/blob/main/TSSD_TF_Keras_Preprocessing_Using_Adapt().ipynb\" target=\"_parent\"><img src=\"https://colab.research.google.com/assets/colab-badge.svg\" alt=\"Open In Colab\"/></a>"
      ]
    },
    {
      "cell_type": "code",
      "metadata": {
        "id": "n9bgJXJfytys"
      },
      "source": [
        "import numpy as np\n",
        "import tensorflow as tf\n",
        "\n",
        "from tensorflow.keras.layers.experimental import preprocessing"
      ],
      "execution_count": 1,
      "outputs": []
    },
    {
      "cell_type": "code",
      "metadata": {
        "colab": {
          "base_uri": "https://localhost:8080/"
        },
        "id": "_ruRiHHiy-n0",
        "outputId": "fe331d85-6459-4cb4-fdeb-523d1dcfd0be"
      },
      "source": [
        "print(tf.__version__)"
      ],
      "execution_count": 2,
      "outputs": [
        {
          "output_type": "stream",
          "text": [
            "2.4.1\n"
          ],
          "name": "stdout"
        }
      ]
    },
    {
      "cell_type": "markdown",
      "metadata": {
        "id": "zQNYP4cky7iD"
      },
      "source": [
        "## Using Adapt"
      ]
    },
    {
      "cell_type": "code",
      "metadata": {
        "id": "3ngLuglhy3T5"
      },
      "source": [
        "data = np.array([[0.1, 0.2, 0.3], [0.8, 0.9, 1.0], [1.5, 1.6, 1.7],])\n",
        "norm_layer = preprocessing.Normalization()\n",
        "norm_layer.adapt(data)\n",
        "normalized_data = norm_layer(data)"
      ],
      "execution_count": 3,
      "outputs": []
    },
    {
      "cell_type": "code",
      "metadata": {
        "colab": {
          "base_uri": "https://localhost:8080/"
        },
        "id": "d9vf58DfzTLZ",
        "outputId": "865d8363-6f09-4636-9df0-d19c9aea3087"
      },
      "source": [
        "data.mean(), data.std()"
      ],
      "execution_count": 4,
      "outputs": [
        {
          "output_type": "execute_result",
          "data": {
            "text/plain": [
              "(0.8999999999999999, 0.5773502691896257)"
            ]
          },
          "metadata": {
            "tags": []
          },
          "execution_count": 4
        }
      ]
    },
    {
      "cell_type": "code",
      "metadata": {
        "colab": {
          "base_uri": "https://localhost:8080/"
        },
        "id": "LUESFSfMy3a5",
        "outputId": "d1847afb-ccf1-4d0f-caf6-4f85e877293e"
      },
      "source": [
        "print(\"Features mean: %.2f\" % (normalized_data.numpy().mean()))\n",
        "print(\"Features std: %.2f\" % (normalized_data.numpy().std()))"
      ],
      "execution_count": 5,
      "outputs": [
        {
          "output_type": "stream",
          "text": [
            "Features mean: 0.00\n",
            "Features std: 1.00\n"
          ],
          "name": "stdout"
        }
      ]
    },
    {
      "cell_type": "markdown",
      "metadata": {
        "id": "JHPUxuo6z-WM"
      },
      "source": [
        "### Our Original data transformed"
      ]
    },
    {
      "cell_type": "code",
      "metadata": {
        "colab": {
          "base_uri": "https://localhost:8080/"
        },
        "id": "NMULJtOWzIxJ",
        "outputId": "fdf89c41-121a-4ae0-e645-a6399ea1820f"
      },
      "source": [
        "normalized_data"
      ],
      "execution_count": 6,
      "outputs": [
        {
          "output_type": "execute_result",
          "data": {
            "text/plain": [
              "<tf.Tensor: shape=(3, 3), dtype=float32, numpy=\n",
              "array([[-1.2247449, -1.2247449, -1.2247449],\n",
              "       [ 0.       ,  0.       ,  0.       ],\n",
              "       [ 1.2247449,  1.224745 ,  1.224745 ]], dtype=float32)>"
            ]
          },
          "metadata": {
            "tags": []
          },
          "execution_count": 6
        }
      ]
    },
    {
      "cell_type": "markdown",
      "metadata": {
        "id": "He17cdVz21g8"
      },
      "source": [
        "## Lets look at doing it for a full dataset"
      ]
    },
    {
      "cell_type": "code",
      "metadata": {
        "id": "SftELYon0fUF",
        "colab": {
          "base_uri": "https://localhost:8080/"
        },
        "outputId": "553e2711-659a-4c11-a509-bcfdaed1ba44"
      },
      "source": [
        "(x_train,y_train),(x_test,y_test) = tf.keras.datasets.cifar10.load_data() #tf.keras.datasets.mnist.load_data()"
      ],
      "execution_count": 7,
      "outputs": [
        {
          "output_type": "stream",
          "text": [
            "Downloading data from https://www.cs.toronto.edu/~kriz/cifar-10-python.tar.gz\n",
            "170500096/170498071 [==============================] - 6s 0us/step\n"
          ],
          "name": "stdout"
        }
      ]
    },
    {
      "cell_type": "code",
      "metadata": {
        "colab": {
          "base_uri": "https://localhost:8080/"
        },
        "id": "EGAJseSZ3Z77",
        "outputId": "20b0918a-cfc4-4924-a4da-e8bd218a4591"
      },
      "source": [
        "x_train = x_train.reshape((len(x_train), -1))\n",
        "input_shape = x_train.shape[1:]\n",
        "classes = 10\n",
        "input_shape"
      ],
      "execution_count": 8,
      "outputs": [
        {
          "output_type": "execute_result",
          "data": {
            "text/plain": [
              "(3072,)"
            ]
          },
          "metadata": {
            "tags": []
          },
          "execution_count": 8
        }
      ]
    },
    {
      "cell_type": "code",
      "metadata": {
        "id": "SD9WDYhN3tfJ"
      },
      "source": [
        "# Create a Normalization layer and set its internal state using the training data\n",
        "normalizer = preprocessing.Normalization(name=\"Basic_Normalization\")\n",
        "normalizer.adapt(x_train)"
      ],
      "execution_count": 9,
      "outputs": []
    },
    {
      "cell_type": "code",
      "metadata": {
        "colab": {
          "base_uri": "https://localhost:8080/"
        },
        "id": "7a3EEG3P3yco",
        "outputId": "c7ff275e-e08b-4486-d588-121bc3bf9c5f"
      },
      "source": [
        "x_train[0]"
      ],
      "execution_count": 10,
      "outputs": [
        {
          "output_type": "execute_result",
          "data": {
            "text/plain": [
              "array([ 59,  62,  63, ..., 123,  92,  72], dtype=uint8)"
            ]
          },
          "metadata": {
            "tags": []
          },
          "execution_count": 10
        }
      ]
    },
    {
      "cell_type": "code",
      "metadata": {
        "colab": {
          "base_uri": "https://localhost:8080/"
        },
        "id": "QH_jQ3WR32IB",
        "outputId": "f9d8a4ac-381f-4e1f-8fac-e1025104f0c3"
      },
      "source": [
        "normalizer(x_train[0])"
      ],
      "execution_count": 11,
      "outputs": [
        {
          "output_type": "execute_result",
          "data": {
            "text/plain": [
              "<tf.Tensor: shape=(3072, 3072), dtype=float32, numpy=\n",
              "array([[-0.976824  , -1.0569063 , -0.9142917 , ..., -1.041793  ,\n",
              "        -1.0670669 , -0.83814293],\n",
              "       [-0.9359588 , -1.0157582 , -0.877001  , ..., -0.99558634,\n",
              "        -1.0191808 , -0.7927413 ],\n",
              "       [-0.9223371 , -1.0020422 , -0.86457074, ..., -0.9801841 ,\n",
              "        -1.0032188 , -0.7776074 ],\n",
              "       ...,\n",
              "       [-0.10503357, -0.17907873, -0.11875609, ..., -0.05604991,\n",
              "        -0.04549665,  0.130426  ],\n",
              "       [-0.52730703, -0.6042765 , -0.50409365, ..., -0.53351927,\n",
              "        -0.54031974, -0.33872458],\n",
              "       [-0.79974157, -0.8785976 , -0.75269854, ..., -0.841564  ,\n",
              "        -0.85956043, -0.64140236]], dtype=float32)>"
            ]
          },
          "metadata": {
            "tags": []
          },
          "execution_count": 11
        }
      ]
    },
    {
      "cell_type": "code",
      "metadata": {
        "id": "dLDl2eBD3QPz"
      },
      "source": [
        "\n",
        "# Create a model that include the normalization layer\n",
        "inputs = tf.keras.Input(shape=input_shape)\n",
        "x = normalizer(inputs)\n",
        "outputs = tf.keras.layers.Dense(classes, activation=\"softmax\")(x)\n",
        "model = tf.keras.Model(inputs, outputs)\n",
        "\n",
        "# Train the model\n",
        "model.compile(optimizer=\"adam\", loss=\"sparse_categorical_crossentropy\")\n"
      ],
      "execution_count": 12,
      "outputs": []
    },
    {
      "cell_type": "code",
      "metadata": {
        "colab": {
          "base_uri": "https://localhost:8080/"
        },
        "id": "NpVBCNWJ44On",
        "outputId": "ff06e4e7-c3f3-4708-8917-e13349c10ff1"
      },
      "source": [
        "model.fit(x_train, y_train)"
      ],
      "execution_count": 13,
      "outputs": [
        {
          "output_type": "stream",
          "text": [
            "1563/1563 [==============================] - 3s 2ms/step - loss: 2.1895\n"
          ],
          "name": "stdout"
        },
        {
          "output_type": "execute_result",
          "data": {
            "text/plain": [
              "<tensorflow.python.keras.callbacks.History at 0x7ffa59f6a650>"
            ]
          },
          "metadata": {
            "tags": []
          },
          "execution_count": 13
        }
      ]
    },
    {
      "cell_type": "code",
      "metadata": {
        "id": "50AjS0pYXQER",
        "colab": {
          "base_uri": "https://localhost:8080/"
        },
        "outputId": "decb39b9-ae98-439b-8a3b-4d33dfcb6890"
      },
      "source": [
        "normalizer.count_params(), normalizer.get_config()"
      ],
      "execution_count": 14,
      "outputs": [
        {
          "output_type": "execute_result",
          "data": {
            "text/plain": [
              "(6145,\n",
              " {'axis': (-1,),\n",
              "  'batch_input_shape': (None, None),\n",
              "  'dtype': 'float32',\n",
              "  'name': 'Basic_Normalization',\n",
              "  'trainable': True})"
            ]
          },
          "metadata": {
            "tags": []
          },
          "execution_count": 14
        }
      ]
    },
    {
      "cell_type": "code",
      "metadata": {
        "id": "XV_7_iKLhWpF"
      },
      "source": [
        "model.save('./basic_model.h5',save_format='h5')"
      ],
      "execution_count": 15,
      "outputs": []
    },
    {
      "cell_type": "code",
      "metadata": {
        "colab": {
          "base_uri": "https://localhost:8080/"
        },
        "id": "ee3dqYDEjFxu",
        "outputId": "ab124efc-3359-48d6-be1f-ae8a38cdec09"
      },
      "source": [
        "ls"
      ],
      "execution_count": 16,
      "outputs": [
        {
          "output_type": "stream",
          "text": [
            "basic_model.h5  \u001b[0m\u001b[01;34msample_data\u001b[0m/\n"
          ],
          "name": "stdout"
        }
      ]
    },
    {
      "cell_type": "markdown",
      "metadata": {
        "id": "g3O1ViFCjyKJ"
      },
      "source": [
        "## Restarting and loading the saved model\n",
        "\n",
        "https://www.tensorflow.org/tutorials/keras/save_and_load"
      ]
    },
    {
      "cell_type": "code",
      "metadata": {
        "id": "gtpDTYnE2vOG"
      },
      "source": [
        "import tensorflow as tf\n",
        "\n",
        "from tensorflow.keras.layers.experimental import preprocessing"
      ],
      "execution_count": 17,
      "outputs": []
    },
    {
      "cell_type": "code",
      "metadata": {
        "id": "NyLPXjMnhOcE"
      },
      "source": [
        "model = tf.keras.models.load_model('./basic_model.h5')"
      ],
      "execution_count": 18,
      "outputs": []
    },
    {
      "cell_type": "code",
      "metadata": {
        "colab": {
          "base_uri": "https://localhost:8080/"
        },
        "id": "X6QXgy2HhOes",
        "outputId": "2964b22a-76a7-46e8-e8d5-4d89041d2d14"
      },
      "source": [
        "# We can see the Normalization layer is there with its parameters having been saved and are not trainable\n",
        "model.summary()"
      ],
      "execution_count": 19,
      "outputs": [
        {
          "output_type": "stream",
          "text": [
            "Model: \"model\"\n",
            "_________________________________________________________________\n",
            "Layer (type)                 Output Shape              Param #   \n",
            "=================================================================\n",
            "input_1 (InputLayer)         [(None, 3072)]            0         \n",
            "_________________________________________________________________\n",
            "Basic_Normalization (Normali (None, 3072)              6145      \n",
            "_________________________________________________________________\n",
            "dense (Dense)                (None, 10)                30730     \n",
            "=================================================================\n",
            "Total params: 36,875\n",
            "Trainable params: 30,730\n",
            "Non-trainable params: 6,145\n",
            "_________________________________________________________________\n"
          ],
          "name": "stdout"
        }
      ]
    },
    {
      "cell_type": "markdown",
      "metadata": {
        "id": "1N_C3WDmKodA"
      },
      "source": [
        "## Catergorical Lookups"
      ]
    },
    {
      "cell_type": "code",
      "metadata": {
        "id": "bvbrAc7mKrEs"
      },
      "source": [
        "# Define some toy data\n",
        "data = tf.constant([\"horse\", \"dog\", \"cat\", \"bee\", \"bird\", \"ant\"])"
      ],
      "execution_count": 20,
      "outputs": []
    },
    {
      "cell_type": "code",
      "metadata": {
        "id": "XJdhYHheKt2-"
      },
      "source": [
        "# Use StringLookup to build an index of the feature values\n",
        "indexer = preprocessing.StringLookup()\n",
        "indexer.adapt(data)"
      ],
      "execution_count": 21,
      "outputs": []
    },
    {
      "cell_type": "code",
      "metadata": {
        "id": "R5hCEw3HKvqI"
      },
      "source": [
        "# Use CategoryEncoding to encode the integer indices to a one-hot vector\n",
        "encoder = preprocessing.CategoryEncoding(output_mode=\"binary\")\n",
        "encoder.adapt(indexer(data))"
      ],
      "execution_count": 22,
      "outputs": []
    },
    {
      "cell_type": "code",
      "metadata": {
        "colab": {
          "base_uri": "https://localhost:8080/"
        },
        "id": "FG9OLbfxK6a3",
        "outputId": "ffbbda27-5dd4-4947-a5e6-dd5126257ef6"
      },
      "source": [
        "# Convert new test data (which includes unknown feature values)\n",
        "# Note that index 0 is reserved for missing values (which you should specify as the empty string \"\"), and index 1 is reserved for out-of-vocabulary values (values that were not seen during adapt()).\n",
        "test_data = tf.constant([\"ant\", \"bee\", \"cat\", \"dog\", \"bird\", \"elephant\",\"\", \"whale\"])\n",
        "encoded_data = encoder(indexer(test_data))\n",
        "print(encoded_data)"
      ],
      "execution_count": 23,
      "outputs": [
        {
          "output_type": "stream",
          "text": [
            "tf.Tensor(\n",
            "[[0. 0. 0. 0. 0. 0. 0. 1.]\n",
            " [0. 0. 0. 0. 0. 0. 1. 0.]\n",
            " [0. 0. 0. 0. 1. 0. 0. 0.]\n",
            " [0. 0. 0. 1. 0. 0. 0. 0.]\n",
            " [0. 0. 0. 0. 0. 1. 0. 0.]\n",
            " [0. 1. 0. 0. 0. 0. 0. 0.]\n",
            " [1. 0. 0. 0. 0. 0. 0. 0.]\n",
            " [0. 1. 0. 0. 0. 0. 0. 0.]], shape=(8, 8), dtype=float32)\n"
          ],
          "name": "stdout"
        }
      ]
    },
    {
      "cell_type": "code",
      "metadata": {
        "id": "XYXLPPGLK7Wc"
      },
      "source": [
        ""
      ],
      "execution_count": 23,
      "outputs": []
    }
  ]
}