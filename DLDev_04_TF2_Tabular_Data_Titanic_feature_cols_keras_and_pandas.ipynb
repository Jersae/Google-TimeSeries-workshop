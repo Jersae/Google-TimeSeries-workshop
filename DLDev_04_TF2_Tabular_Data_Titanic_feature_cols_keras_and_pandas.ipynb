{
  "nbformat": 4,
  "nbformat_minor": 0,
  "metadata": {
    "colab": {
      "name": "DLDev - 04 - TF2 -Tabular-Data-Titanic feature_cols_keras and pandas.ipynb",
      "provenance": [],
      "collapsed_sections": [],
      "include_colab_link": true
    },
    "kernelspec": {
      "name": "python3",
      "display_name": "Python 3"
    }
  },
  "cells": [
    {
      "cell_type": "markdown",
      "metadata": {
        "id": "view-in-github",
        "colab_type": "text"
      },
      "source": [
        "<a href=\"https://colab.research.google.com/github/Jersae/Google-TimeSeries-workshop/blob/main/DLDev_04_TF2_Tabular_Data_Titanic_feature_cols_keras_and_pandas.ipynb\" target=\"_parent\"><img src=\"https://colab.research.google.com/assets/colab-badge.svg\" alt=\"Open In Colab\"/></a>"
      ]
    },
    {
      "cell_type": "markdown",
      "metadata": {
        "id": "UWHgTu27Po4G"
      },
      "source": [
        ""
      ]
    },
    {
      "cell_type": "markdown",
      "metadata": {
        "id": "NWzW68_Q9AgO"
      },
      "source": [
        "# Titanic prediction - with Feature Columns\n",
        "\n",
        "https://www.tensorflow.org/guide/feature_columns"
      ]
    },
    {
      "cell_type": "markdown",
      "metadata": {
        "id": "IM4nFr3GewTr"
      },
      "source": [
        "## Classify structured data using feature columns"
      ]
    },
    {
      "cell_type": "markdown",
      "metadata": {
        "id": "e8ywE5KgoJiW"
      },
      "source": [
        "### KEY PARTS\n",
        "1. Load data in Pandas\n",
        "2. Create Columns\n",
        "3. Assemble model\n",
        "\n"
      ]
    },
    {
      "cell_type": "code",
      "metadata": {
        "id": "cSB0cwwqBD9h"
      },
      "source": [
        ""
      ],
      "execution_count": null,
      "outputs": []
    },
    {
      "cell_type": "markdown",
      "metadata": {
        "id": "A8jDSKpbqkNt"
      },
      "source": [
        "## Imports\n",
        "\n",
        "Import TensorFlow, feature columns, and supporting libraries."
      ]
    },
    {
      "cell_type": "code",
      "metadata": {
        "id": "d9fF6-a8gHo8"
      },
      "source": [
        "\n",
        "from matplotlib import pyplot as plt\n",
        "import matplotlib\n",
        "\n",
        "import pandas as pd\n",
        "import tensorflow as tf\n",
        "\n",
        "from sklearn.model_selection import train_test_split\n",
        "\n",
        "from tensorflow import feature_column as fc\n"
      ],
      "execution_count": null,
      "outputs": []
    },
    {
      "cell_type": "code",
      "metadata": {
        "id": "ZTgly3TGKg_H",
        "colab": {
          "base_uri": "https://localhost:8080/",
          "height": 35
        },
        "outputId": "21360eb3-573c-40d0-e1c0-75929505650e"
      },
      "source": [
        "tf.__version__"
      ],
      "execution_count": null,
      "outputs": [
        {
          "output_type": "execute_result",
          "data": {
            "application/vnd.google.colaboratory.intrinsic+json": {
              "type": "string"
            },
            "text/plain": [
              "'2.4.1'"
            ]
          },
          "metadata": {
            "tags": []
          },
          "execution_count": 3
        }
      ]
    },
    {
      "cell_type": "markdown",
      "metadata": {
        "id": "ts8nmPzTrLGq"
      },
      "source": [
        "## Download the dataset\n"
      ]
    },
    {
      "cell_type": "code",
      "metadata": {
        "id": "ziX45M_aPrdL"
      },
      "source": [
        ""
      ],
      "execution_count": null,
      "outputs": []
    },
    {
      "cell_type": "code",
      "metadata": {
        "id": "qUrcI5C6OLX1",
        "colab": {
          "base_uri": "https://localhost:8080/"
        },
        "outputId": "b7038a01-ae29-4f15-8785-43106cbdc944"
      },
      "source": [
        "!wget -qq https://www.dropbox.com/s/8299rs4rhkog018/titanic.zip\n",
        "  \n",
        "!unzip -qq titanic.zip\n",
        "!rm -r titanic.zip\n",
        "!rm -r __MACOSX\n",
        "\n",
        "!ls"
      ],
      "execution_count": null,
      "outputs": [
        {
          "output_type": "stream",
          "text": [
            "sample_data  titanic\n"
          ],
          "name": "stdout"
        }
      ]
    },
    {
      "cell_type": "code",
      "metadata": {
        "id": "BQ9ungpnP2_H",
        "colab": {
          "base_uri": "https://localhost:8080/"
        },
        "outputId": "1fac7936-0c2e-493b-c826-b2e4fedf96f4"
      },
      "source": [
        "!ls titanic"
      ],
      "execution_count": null,
      "outputs": [
        {
          "output_type": "stream",
          "text": [
            "gender_submission.csv  test.csv  train.csv\n"
          ],
          "name": "stdout"
        }
      ]
    },
    {
      "cell_type": "code",
      "metadata": {
        "id": "DeqLNdQKgWIj"
      },
      "source": [
        ""
      ],
      "execution_count": null,
      "outputs": []
    },
    {
      "cell_type": "markdown",
      "metadata": {
        "id": "bDmhOJwSr7_E"
      },
      "source": [
        "## Use Pandas to load and preprocess the data\n",
        "\n",
        "[Pandas](https://pandas.pydata.org/) "
      ]
    },
    {
      "cell_type": "markdown",
      "metadata": {
        "id": "Bngd-f-tWsAZ"
      },
      "source": [
        "### Titanic dataset \n",
        "\n",
        "\n",
        "\n",
        "\n",
        "- Survived 0 - died , 1 - survived\n",
        "\n",
        "- PassengerId: and id given to each traveler on the boat.\n",
        "- Pclass: the passenger class. It has three possible values: 1,2,3.\n",
        "- The Name\n",
        "- The Sex\n",
        "- The Age\n",
        "- SibSp: number of siblings and spouses traveling with the passenger \n",
        "- Parch: number of parents and children traveling with the passenger\n",
        "- The ticket number\n",
        "- The ticket Fare\n",
        "- The cabin number \n",
        "- The embarkation. It has three possible values S,C,Q \n"
      ]
    },
    {
      "cell_type": "markdown",
      "metadata": {
        "id": "yLh4Ua1T7K5z"
      },
      "source": [
        "1. Feature type:\n",
        "  * Continuous features can be represented by `numeric_column`.\n",
        "  * Categorical features can be represented by any `categorical_column_with_*`\n",
        "  column:\n",
        "    - `categorical_column_with_vocabulary_list`\n",
        "    - `categorical_column_with_vocabulary_file`\n",
        "    - `categorical_column_with_hash_bucket`\n",
        "    - `categorical_column_with_identity`\n",
        "    - `weighted_categorical_column`"
      ]
    },
    {
      "cell_type": "code",
      "metadata": {
        "id": "vk-QkPqmqciR",
        "colab": {
          "base_uri": "https://localhost:8080/",
          "height": 390
        },
        "outputId": "5dd0a04e-9ce7-4f4e-c755-653e96e6a5d6"
      },
      "source": [
        "df = pd.read_csv('./titanic/train.csv')\n",
        "df.head(10)"
      ],
      "execution_count": null,
      "outputs": [
        {
          "output_type": "execute_result",
          "data": {
            "text/html": [
              "<div>\n",
              "<style scoped>\n",
              "    .dataframe tbody tr th:only-of-type {\n",
              "        vertical-align: middle;\n",
              "    }\n",
              "\n",
              "    .dataframe tbody tr th {\n",
              "        vertical-align: top;\n",
              "    }\n",
              "\n",
              "    .dataframe thead th {\n",
              "        text-align: right;\n",
              "    }\n",
              "</style>\n",
              "<table border=\"1\" class=\"dataframe\">\n",
              "  <thead>\n",
              "    <tr style=\"text-align: right;\">\n",
              "      <th></th>\n",
              "      <th>PassengerId</th>\n",
              "      <th>Survived</th>\n",
              "      <th>Pclass</th>\n",
              "      <th>Name</th>\n",
              "      <th>Sex</th>\n",
              "      <th>Age</th>\n",
              "      <th>SibSp</th>\n",
              "      <th>Parch</th>\n",
              "      <th>Ticket</th>\n",
              "      <th>Fare</th>\n",
              "      <th>Cabin</th>\n",
              "      <th>Embarked</th>\n",
              "    </tr>\n",
              "  </thead>\n",
              "  <tbody>\n",
              "    <tr>\n",
              "      <th>0</th>\n",
              "      <td>1</td>\n",
              "      <td>0</td>\n",
              "      <td>3</td>\n",
              "      <td>Braund, Mr. Owen Harris</td>\n",
              "      <td>male</td>\n",
              "      <td>22.0</td>\n",
              "      <td>1</td>\n",
              "      <td>0</td>\n",
              "      <td>A/5 21171</td>\n",
              "      <td>7.2500</td>\n",
              "      <td>NaN</td>\n",
              "      <td>S</td>\n",
              "    </tr>\n",
              "    <tr>\n",
              "      <th>1</th>\n",
              "      <td>2</td>\n",
              "      <td>1</td>\n",
              "      <td>1</td>\n",
              "      <td>Cumings, Mrs. John Bradley (Florence Briggs Th...</td>\n",
              "      <td>female</td>\n",
              "      <td>38.0</td>\n",
              "      <td>1</td>\n",
              "      <td>0</td>\n",
              "      <td>PC 17599</td>\n",
              "      <td>71.2833</td>\n",
              "      <td>C85</td>\n",
              "      <td>C</td>\n",
              "    </tr>\n",
              "    <tr>\n",
              "      <th>2</th>\n",
              "      <td>3</td>\n",
              "      <td>1</td>\n",
              "      <td>3</td>\n",
              "      <td>Heikkinen, Miss. Laina</td>\n",
              "      <td>female</td>\n",
              "      <td>26.0</td>\n",
              "      <td>0</td>\n",
              "      <td>0</td>\n",
              "      <td>STON/O2. 3101282</td>\n",
              "      <td>7.9250</td>\n",
              "      <td>NaN</td>\n",
              "      <td>S</td>\n",
              "    </tr>\n",
              "    <tr>\n",
              "      <th>3</th>\n",
              "      <td>4</td>\n",
              "      <td>1</td>\n",
              "      <td>1</td>\n",
              "      <td>Futrelle, Mrs. Jacques Heath (Lily May Peel)</td>\n",
              "      <td>female</td>\n",
              "      <td>35.0</td>\n",
              "      <td>1</td>\n",
              "      <td>0</td>\n",
              "      <td>113803</td>\n",
              "      <td>53.1000</td>\n",
              "      <td>C123</td>\n",
              "      <td>S</td>\n",
              "    </tr>\n",
              "    <tr>\n",
              "      <th>4</th>\n",
              "      <td>5</td>\n",
              "      <td>0</td>\n",
              "      <td>3</td>\n",
              "      <td>Allen, Mr. William Henry</td>\n",
              "      <td>male</td>\n",
              "      <td>35.0</td>\n",
              "      <td>0</td>\n",
              "      <td>0</td>\n",
              "      <td>373450</td>\n",
              "      <td>8.0500</td>\n",
              "      <td>NaN</td>\n",
              "      <td>S</td>\n",
              "    </tr>\n",
              "    <tr>\n",
              "      <th>5</th>\n",
              "      <td>6</td>\n",
              "      <td>0</td>\n",
              "      <td>3</td>\n",
              "      <td>Moran, Mr. James</td>\n",
              "      <td>male</td>\n",
              "      <td>NaN</td>\n",
              "      <td>0</td>\n",
              "      <td>0</td>\n",
              "      <td>330877</td>\n",
              "      <td>8.4583</td>\n",
              "      <td>NaN</td>\n",
              "      <td>Q</td>\n",
              "    </tr>\n",
              "    <tr>\n",
              "      <th>6</th>\n",
              "      <td>7</td>\n",
              "      <td>0</td>\n",
              "      <td>1</td>\n",
              "      <td>McCarthy, Mr. Timothy J</td>\n",
              "      <td>male</td>\n",
              "      <td>54.0</td>\n",
              "      <td>0</td>\n",
              "      <td>0</td>\n",
              "      <td>17463</td>\n",
              "      <td>51.8625</td>\n",
              "      <td>E46</td>\n",
              "      <td>S</td>\n",
              "    </tr>\n",
              "    <tr>\n",
              "      <th>7</th>\n",
              "      <td>8</td>\n",
              "      <td>0</td>\n",
              "      <td>3</td>\n",
              "      <td>Palsson, Master. Gosta Leonard</td>\n",
              "      <td>male</td>\n",
              "      <td>2.0</td>\n",
              "      <td>3</td>\n",
              "      <td>1</td>\n",
              "      <td>349909</td>\n",
              "      <td>21.0750</td>\n",
              "      <td>NaN</td>\n",
              "      <td>S</td>\n",
              "    </tr>\n",
              "    <tr>\n",
              "      <th>8</th>\n",
              "      <td>9</td>\n",
              "      <td>1</td>\n",
              "      <td>3</td>\n",
              "      <td>Johnson, Mrs. Oscar W (Elisabeth Vilhelmina Berg)</td>\n",
              "      <td>female</td>\n",
              "      <td>27.0</td>\n",
              "      <td>0</td>\n",
              "      <td>2</td>\n",
              "      <td>347742</td>\n",
              "      <td>11.1333</td>\n",
              "      <td>NaN</td>\n",
              "      <td>S</td>\n",
              "    </tr>\n",
              "    <tr>\n",
              "      <th>9</th>\n",
              "      <td>10</td>\n",
              "      <td>1</td>\n",
              "      <td>2</td>\n",
              "      <td>Nasser, Mrs. Nicholas (Adele Achem)</td>\n",
              "      <td>female</td>\n",
              "      <td>14.0</td>\n",
              "      <td>1</td>\n",
              "      <td>0</td>\n",
              "      <td>237736</td>\n",
              "      <td>30.0708</td>\n",
              "      <td>NaN</td>\n",
              "      <td>C</td>\n",
              "    </tr>\n",
              "  </tbody>\n",
              "</table>\n",
              "</div>"
            ],
            "text/plain": [
              "   PassengerId  Survived  Pclass  ...     Fare Cabin  Embarked\n",
              "0            1         0       3  ...   7.2500   NaN         S\n",
              "1            2         1       1  ...  71.2833   C85         C\n",
              "2            3         1       3  ...   7.9250   NaN         S\n",
              "3            4         1       1  ...  53.1000  C123         S\n",
              "4            5         0       3  ...   8.0500   NaN         S\n",
              "5            6         0       3  ...   8.4583   NaN         Q\n",
              "6            7         0       1  ...  51.8625   E46         S\n",
              "7            8         0       3  ...  21.0750   NaN         S\n",
              "8            9         1       3  ...  11.1333   NaN         S\n",
              "9           10         1       2  ...  30.0708   NaN         C\n",
              "\n",
              "[10 rows x 12 columns]"
            ]
          },
          "metadata": {
            "tags": []
          },
          "execution_count": 6
        }
      ]
    },
    {
      "cell_type": "code",
      "metadata": {
        "id": "Juh_jPBxLCIG",
        "colab": {
          "base_uri": "https://localhost:8080/",
          "height": 294
        },
        "outputId": "785a180a-95d4-4ea2-da63-d4d302df9922"
      },
      "source": [
        "df.describe()"
      ],
      "execution_count": null,
      "outputs": [
        {
          "output_type": "execute_result",
          "data": {
            "text/html": [
              "<div>\n",
              "<style scoped>\n",
              "    .dataframe tbody tr th:only-of-type {\n",
              "        vertical-align: middle;\n",
              "    }\n",
              "\n",
              "    .dataframe tbody tr th {\n",
              "        vertical-align: top;\n",
              "    }\n",
              "\n",
              "    .dataframe thead th {\n",
              "        text-align: right;\n",
              "    }\n",
              "</style>\n",
              "<table border=\"1\" class=\"dataframe\">\n",
              "  <thead>\n",
              "    <tr style=\"text-align: right;\">\n",
              "      <th></th>\n",
              "      <th>PassengerId</th>\n",
              "      <th>Survived</th>\n",
              "      <th>Pclass</th>\n",
              "      <th>Age</th>\n",
              "      <th>SibSp</th>\n",
              "      <th>Parch</th>\n",
              "      <th>Fare</th>\n",
              "    </tr>\n",
              "  </thead>\n",
              "  <tbody>\n",
              "    <tr>\n",
              "      <th>count</th>\n",
              "      <td>891.000000</td>\n",
              "      <td>891.000000</td>\n",
              "      <td>891.000000</td>\n",
              "      <td>714.000000</td>\n",
              "      <td>891.000000</td>\n",
              "      <td>891.000000</td>\n",
              "      <td>891.000000</td>\n",
              "    </tr>\n",
              "    <tr>\n",
              "      <th>mean</th>\n",
              "      <td>446.000000</td>\n",
              "      <td>0.383838</td>\n",
              "      <td>2.308642</td>\n",
              "      <td>29.699118</td>\n",
              "      <td>0.523008</td>\n",
              "      <td>0.381594</td>\n",
              "      <td>32.204208</td>\n",
              "    </tr>\n",
              "    <tr>\n",
              "      <th>std</th>\n",
              "      <td>257.353842</td>\n",
              "      <td>0.486592</td>\n",
              "      <td>0.836071</td>\n",
              "      <td>14.526497</td>\n",
              "      <td>1.102743</td>\n",
              "      <td>0.806057</td>\n",
              "      <td>49.693429</td>\n",
              "    </tr>\n",
              "    <tr>\n",
              "      <th>min</th>\n",
              "      <td>1.000000</td>\n",
              "      <td>0.000000</td>\n",
              "      <td>1.000000</td>\n",
              "      <td>0.420000</td>\n",
              "      <td>0.000000</td>\n",
              "      <td>0.000000</td>\n",
              "      <td>0.000000</td>\n",
              "    </tr>\n",
              "    <tr>\n",
              "      <th>25%</th>\n",
              "      <td>223.500000</td>\n",
              "      <td>0.000000</td>\n",
              "      <td>2.000000</td>\n",
              "      <td>20.125000</td>\n",
              "      <td>0.000000</td>\n",
              "      <td>0.000000</td>\n",
              "      <td>7.910400</td>\n",
              "    </tr>\n",
              "    <tr>\n",
              "      <th>50%</th>\n",
              "      <td>446.000000</td>\n",
              "      <td>0.000000</td>\n",
              "      <td>3.000000</td>\n",
              "      <td>28.000000</td>\n",
              "      <td>0.000000</td>\n",
              "      <td>0.000000</td>\n",
              "      <td>14.454200</td>\n",
              "    </tr>\n",
              "    <tr>\n",
              "      <th>75%</th>\n",
              "      <td>668.500000</td>\n",
              "      <td>1.000000</td>\n",
              "      <td>3.000000</td>\n",
              "      <td>38.000000</td>\n",
              "      <td>1.000000</td>\n",
              "      <td>0.000000</td>\n",
              "      <td>31.000000</td>\n",
              "    </tr>\n",
              "    <tr>\n",
              "      <th>max</th>\n",
              "      <td>891.000000</td>\n",
              "      <td>1.000000</td>\n",
              "      <td>3.000000</td>\n",
              "      <td>80.000000</td>\n",
              "      <td>8.000000</td>\n",
              "      <td>6.000000</td>\n",
              "      <td>512.329200</td>\n",
              "    </tr>\n",
              "  </tbody>\n",
              "</table>\n",
              "</div>"
            ],
            "text/plain": [
              "       PassengerId    Survived      Pclass  ...       SibSp       Parch        Fare\n",
              "count   891.000000  891.000000  891.000000  ...  891.000000  891.000000  891.000000\n",
              "mean    446.000000    0.383838    2.308642  ...    0.523008    0.381594   32.204208\n",
              "std     257.353842    0.486592    0.836071  ...    1.102743    0.806057   49.693429\n",
              "min       1.000000    0.000000    1.000000  ...    0.000000    0.000000    0.000000\n",
              "25%     223.500000    0.000000    2.000000  ...    0.000000    0.000000    7.910400\n",
              "50%     446.000000    0.000000    3.000000  ...    0.000000    0.000000   14.454200\n",
              "75%     668.500000    1.000000    3.000000  ...    1.000000    0.000000   31.000000\n",
              "max     891.000000    1.000000    3.000000  ...    8.000000    6.000000  512.329200\n",
              "\n",
              "[8 rows x 7 columns]"
            ]
          },
          "metadata": {
            "tags": []
          },
          "execution_count": 7
        }
      ]
    },
    {
      "cell_type": "code",
      "metadata": {
        "id": "Bc8DEBgZu-xx",
        "colab": {
          "base_uri": "https://localhost:8080/"
        },
        "outputId": "aba12b6a-61f7-4293-f6e1-4983a5d7752f"
      },
      "source": [
        "df.info()"
      ],
      "execution_count": null,
      "outputs": [
        {
          "output_type": "stream",
          "text": [
            "<class 'pandas.core.frame.DataFrame'>\n",
            "RangeIndex: 891 entries, 0 to 890\n",
            "Data columns (total 12 columns):\n",
            " #   Column       Non-Null Count  Dtype  \n",
            "---  ------       --------------  -----  \n",
            " 0   PassengerId  891 non-null    int64  \n",
            " 1   Survived     891 non-null    int64  \n",
            " 2   Pclass       891 non-null    int64  \n",
            " 3   Name         891 non-null    object \n",
            " 4   Sex          891 non-null    object \n",
            " 5   Age          714 non-null    float64\n",
            " 6   SibSp        891 non-null    int64  \n",
            " 7   Parch        891 non-null    int64  \n",
            " 8   Ticket       891 non-null    object \n",
            " 9   Fare         891 non-null    float64\n",
            " 10  Cabin        204 non-null    object \n",
            " 11  Embarked     889 non-null    object \n",
            "dtypes: float64(2), int64(5), object(5)\n",
            "memory usage: 83.7+ KB\n"
          ],
          "name": "stdout"
        }
      ]
    },
    {
      "cell_type": "code",
      "metadata": {
        "id": "uRUE0XDJXK5i",
        "colab": {
          "base_uri": "https://localhost:8080/"
        },
        "outputId": "b70697f2-f6dd-4e67-8a7b-3729ef1b44cc"
      },
      "source": [
        "df.isnull().any()"
      ],
      "execution_count": null,
      "outputs": [
        {
          "output_type": "execute_result",
          "data": {
            "text/plain": [
              "PassengerId    False\n",
              "Survived       False\n",
              "Pclass         False\n",
              "Name           False\n",
              "Sex            False\n",
              "Age             True\n",
              "SibSp          False\n",
              "Parch          False\n",
              "Ticket         False\n",
              "Fare           False\n",
              "Cabin           True\n",
              "Embarked        True\n",
              "dtype: bool"
            ]
          },
          "metadata": {
            "tags": []
          },
          "execution_count": 9
        }
      ]
    },
    {
      "cell_type": "code",
      "metadata": {
        "id": "zCzD4p6nDmWA"
      },
      "source": [
        ""
      ],
      "execution_count": null,
      "outputs": []
    },
    {
      "cell_type": "code",
      "metadata": {
        "id": "Xl4rLNoSxTLz",
        "colab": {
          "base_uri": "https://localhost:8080/"
        },
        "outputId": "7c66b843-5d25-47df-d494-06f4b6c53879"
      },
      "source": [
        "type(df['Survived'][0])"
      ],
      "execution_count": null,
      "outputs": [
        {
          "output_type": "execute_result",
          "data": {
            "text/plain": [
              "numpy.int64"
            ]
          },
          "metadata": {
            "tags": []
          },
          "execution_count": 10
        }
      ]
    },
    {
      "cell_type": "code",
      "metadata": {
        "id": "gW30PJ6Szv6C"
      },
      "source": [
        "# Convert the labels to float32 \n",
        "df['Survived'] = df['Survived'].astype('float32')"
      ],
      "execution_count": null,
      "outputs": []
    },
    {
      "cell_type": "code",
      "metadata": {
        "colab": {
          "base_uri": "https://localhost:8080/"
        },
        "id": "ddmr9s2zi0JJ",
        "outputId": "c28a8ad8-8d90-443e-ffab-a1201c887bb9"
      },
      "source": [
        "type(df['Survived'][0])"
      ],
      "execution_count": null,
      "outputs": [
        {
          "output_type": "execute_result",
          "data": {
            "text/plain": [
              "numpy.float32"
            ]
          },
          "metadata": {
            "tags": []
          },
          "execution_count": 12
        }
      ]
    },
    {
      "cell_type": "markdown",
      "metadata": {
        "id": "IOidmRPSYzSS"
      },
      "source": [
        "## Fill in some missing data"
      ]
    },
    {
      "cell_type": "code",
      "metadata": {
        "id": "wLJPRQl6Y2nh"
      },
      "source": [
        "df['Age'].fillna(df['Age'].median(), inplace=True)"
      ],
      "execution_count": null,
      "outputs": []
    },
    {
      "cell_type": "code",
      "metadata": {
        "id": "itye6m3rZMS3",
        "colab": {
          "base_uri": "https://localhost:8080/",
          "height": 294
        },
        "outputId": "325fdf4b-6fe0-478d-f24a-2fc07976d7ab"
      },
      "source": [
        "df.describe()"
      ],
      "execution_count": null,
      "outputs": [
        {
          "output_type": "execute_result",
          "data": {
            "text/html": [
              "<div>\n",
              "<style scoped>\n",
              "    .dataframe tbody tr th:only-of-type {\n",
              "        vertical-align: middle;\n",
              "    }\n",
              "\n",
              "    .dataframe tbody tr th {\n",
              "        vertical-align: top;\n",
              "    }\n",
              "\n",
              "    .dataframe thead th {\n",
              "        text-align: right;\n",
              "    }\n",
              "</style>\n",
              "<table border=\"1\" class=\"dataframe\">\n",
              "  <thead>\n",
              "    <tr style=\"text-align: right;\">\n",
              "      <th></th>\n",
              "      <th>PassengerId</th>\n",
              "      <th>Survived</th>\n",
              "      <th>Pclass</th>\n",
              "      <th>Age</th>\n",
              "      <th>SibSp</th>\n",
              "      <th>Parch</th>\n",
              "      <th>Fare</th>\n",
              "    </tr>\n",
              "  </thead>\n",
              "  <tbody>\n",
              "    <tr>\n",
              "      <th>count</th>\n",
              "      <td>891.000000</td>\n",
              "      <td>891.000000</td>\n",
              "      <td>891.000000</td>\n",
              "      <td>891.000000</td>\n",
              "      <td>891.000000</td>\n",
              "      <td>891.000000</td>\n",
              "      <td>891.000000</td>\n",
              "    </tr>\n",
              "    <tr>\n",
              "      <th>mean</th>\n",
              "      <td>446.000000</td>\n",
              "      <td>0.383838</td>\n",
              "      <td>2.308642</td>\n",
              "      <td>29.361582</td>\n",
              "      <td>0.523008</td>\n",
              "      <td>0.381594</td>\n",
              "      <td>32.204208</td>\n",
              "    </tr>\n",
              "    <tr>\n",
              "      <th>std</th>\n",
              "      <td>257.353842</td>\n",
              "      <td>0.486594</td>\n",
              "      <td>0.836071</td>\n",
              "      <td>13.019697</td>\n",
              "      <td>1.102743</td>\n",
              "      <td>0.806057</td>\n",
              "      <td>49.693429</td>\n",
              "    </tr>\n",
              "    <tr>\n",
              "      <th>min</th>\n",
              "      <td>1.000000</td>\n",
              "      <td>0.000000</td>\n",
              "      <td>1.000000</td>\n",
              "      <td>0.420000</td>\n",
              "      <td>0.000000</td>\n",
              "      <td>0.000000</td>\n",
              "      <td>0.000000</td>\n",
              "    </tr>\n",
              "    <tr>\n",
              "      <th>25%</th>\n",
              "      <td>223.500000</td>\n",
              "      <td>0.000000</td>\n",
              "      <td>2.000000</td>\n",
              "      <td>22.000000</td>\n",
              "      <td>0.000000</td>\n",
              "      <td>0.000000</td>\n",
              "      <td>7.910400</td>\n",
              "    </tr>\n",
              "    <tr>\n",
              "      <th>50%</th>\n",
              "      <td>446.000000</td>\n",
              "      <td>0.000000</td>\n",
              "      <td>3.000000</td>\n",
              "      <td>28.000000</td>\n",
              "      <td>0.000000</td>\n",
              "      <td>0.000000</td>\n",
              "      <td>14.454200</td>\n",
              "    </tr>\n",
              "    <tr>\n",
              "      <th>75%</th>\n",
              "      <td>668.500000</td>\n",
              "      <td>1.000000</td>\n",
              "      <td>3.000000</td>\n",
              "      <td>35.000000</td>\n",
              "      <td>1.000000</td>\n",
              "      <td>0.000000</td>\n",
              "      <td>31.000000</td>\n",
              "    </tr>\n",
              "    <tr>\n",
              "      <th>max</th>\n",
              "      <td>891.000000</td>\n",
              "      <td>1.000000</td>\n",
              "      <td>3.000000</td>\n",
              "      <td>80.000000</td>\n",
              "      <td>8.000000</td>\n",
              "      <td>6.000000</td>\n",
              "      <td>512.329200</td>\n",
              "    </tr>\n",
              "  </tbody>\n",
              "</table>\n",
              "</div>"
            ],
            "text/plain": [
              "       PassengerId    Survived      Pclass  ...       SibSp       Parch        Fare\n",
              "count   891.000000  891.000000  891.000000  ...  891.000000  891.000000  891.000000\n",
              "mean    446.000000    0.383838    2.308642  ...    0.523008    0.381594   32.204208\n",
              "std     257.353842    0.486594    0.836071  ...    1.102743    0.806057   49.693429\n",
              "min       1.000000    0.000000    1.000000  ...    0.000000    0.000000    0.000000\n",
              "25%     223.500000    0.000000    2.000000  ...    0.000000    0.000000    7.910400\n",
              "50%     446.000000    0.000000    3.000000  ...    0.000000    0.000000   14.454200\n",
              "75%     668.500000    1.000000    3.000000  ...    1.000000    0.000000   31.000000\n",
              "max     891.000000    1.000000    3.000000  ...    8.000000    6.000000  512.329200\n",
              "\n",
              "[8 rows x 7 columns]"
            ]
          },
          "metadata": {
            "tags": []
          },
          "execution_count": 14
        }
      ]
    },
    {
      "cell_type": "code",
      "metadata": {
        "id": "remlUKC_dTBD",
        "colab": {
          "base_uri": "https://localhost:8080/"
        },
        "outputId": "bf0e761e-d7dd-4d29-83c6-1894c9080c86"
      },
      "source": [
        "type(df['Embarked'])\n",
        "df['Embarked'] = df['Embarked'].fillna('unknown')\n",
        "df['Cabin'] = df['Cabin'].fillna('unknown')\n",
        "\n",
        "print(df['Embarked'].unique())\n",
        "print(df['Cabin'].unique())"
      ],
      "execution_count": null,
      "outputs": [
        {
          "output_type": "stream",
          "text": [
            "['S' 'C' 'Q' 'unknown']\n",
            "['unknown' 'C85' 'C123' 'E46' 'G6' 'C103' 'D56' 'A6' 'C23 C25 C27' 'B78'\n",
            " 'D33' 'B30' 'C52' 'B28' 'C83' 'F33' 'F G73' 'E31' 'A5' 'D10 D12' 'D26'\n",
            " 'C110' 'B58 B60' 'E101' 'F E69' 'D47' 'B86' 'F2' 'C2' 'E33' 'B19' 'A7'\n",
            " 'C49' 'F4' 'A32' 'B4' 'B80' 'A31' 'D36' 'D15' 'C93' 'C78' 'D35' 'C87'\n",
            " 'B77' 'E67' 'B94' 'C125' 'C99' 'C118' 'D7' 'A19' 'B49' 'D' 'C22 C26'\n",
            " 'C106' 'C65' 'E36' 'C54' 'B57 B59 B63 B66' 'C7' 'E34' 'C32' 'B18' 'C124'\n",
            " 'C91' 'E40' 'T' 'C128' 'D37' 'B35' 'E50' 'C82' 'B96 B98' 'E10' 'E44'\n",
            " 'A34' 'C104' 'C111' 'C92' 'E38' 'D21' 'E12' 'E63' 'A14' 'B37' 'C30' 'D20'\n",
            " 'B79' 'E25' 'D46' 'B73' 'C95' 'B38' 'B39' 'B22' 'C86' 'C70' 'A16' 'C101'\n",
            " 'C68' 'A10' 'E68' 'B41' 'A20' 'D19' 'D50' 'D9' 'A23' 'B50' 'A26' 'D48'\n",
            " 'E58' 'C126' 'B71' 'B51 B53 B55' 'D49' 'B5' 'B20' 'F G63' 'C62 C64' 'E24'\n",
            " 'C90' 'C45' 'E8' 'B101' 'D45' 'C46' 'D30' 'E121' 'D11' 'E77' 'F38' 'B3'\n",
            " 'D6' 'B82 B84' 'D17' 'A36' 'B102' 'B69' 'E49' 'C47' 'D28' 'E17' 'A24'\n",
            " 'C50' 'B42' 'C148']\n"
          ],
          "name": "stdout"
        }
      ]
    },
    {
      "cell_type": "markdown",
      "metadata": {
        "id": "-OENJ4zRfmf4"
      },
      "source": [
        "## Drop Columns that I'm not using"
      ]
    },
    {
      "cell_type": "code",
      "metadata": {
        "id": "9sPKY5Y4a1MU"
      },
      "source": [
        "df = df.drop(['Ticket','Parch','PassengerId','Name'], axis=1)"
      ],
      "execution_count": null,
      "outputs": []
    },
    {
      "cell_type": "code",
      "metadata": {
        "id": "prT8U6slbCH6",
        "colab": {
          "base_uri": "https://localhost:8080/",
          "height": 202
        },
        "outputId": "2cf6a934-aeab-403c-8042-1c3195103979"
      },
      "source": [
        "df.head()"
      ],
      "execution_count": null,
      "outputs": [
        {
          "output_type": "execute_result",
          "data": {
            "text/html": [
              "<div>\n",
              "<style scoped>\n",
              "    .dataframe tbody tr th:only-of-type {\n",
              "        vertical-align: middle;\n",
              "    }\n",
              "\n",
              "    .dataframe tbody tr th {\n",
              "        vertical-align: top;\n",
              "    }\n",
              "\n",
              "    .dataframe thead th {\n",
              "        text-align: right;\n",
              "    }\n",
              "</style>\n",
              "<table border=\"1\" class=\"dataframe\">\n",
              "  <thead>\n",
              "    <tr style=\"text-align: right;\">\n",
              "      <th></th>\n",
              "      <th>Survived</th>\n",
              "      <th>Pclass</th>\n",
              "      <th>Sex</th>\n",
              "      <th>Age</th>\n",
              "      <th>SibSp</th>\n",
              "      <th>Fare</th>\n",
              "      <th>Cabin</th>\n",
              "      <th>Embarked</th>\n",
              "    </tr>\n",
              "  </thead>\n",
              "  <tbody>\n",
              "    <tr>\n",
              "      <th>0</th>\n",
              "      <td>0.0</td>\n",
              "      <td>3</td>\n",
              "      <td>male</td>\n",
              "      <td>22.0</td>\n",
              "      <td>1</td>\n",
              "      <td>7.2500</td>\n",
              "      <td>unknown</td>\n",
              "      <td>S</td>\n",
              "    </tr>\n",
              "    <tr>\n",
              "      <th>1</th>\n",
              "      <td>1.0</td>\n",
              "      <td>1</td>\n",
              "      <td>female</td>\n",
              "      <td>38.0</td>\n",
              "      <td>1</td>\n",
              "      <td>71.2833</td>\n",
              "      <td>C85</td>\n",
              "      <td>C</td>\n",
              "    </tr>\n",
              "    <tr>\n",
              "      <th>2</th>\n",
              "      <td>1.0</td>\n",
              "      <td>3</td>\n",
              "      <td>female</td>\n",
              "      <td>26.0</td>\n",
              "      <td>0</td>\n",
              "      <td>7.9250</td>\n",
              "      <td>unknown</td>\n",
              "      <td>S</td>\n",
              "    </tr>\n",
              "    <tr>\n",
              "      <th>3</th>\n",
              "      <td>1.0</td>\n",
              "      <td>1</td>\n",
              "      <td>female</td>\n",
              "      <td>35.0</td>\n",
              "      <td>1</td>\n",
              "      <td>53.1000</td>\n",
              "      <td>C123</td>\n",
              "      <td>S</td>\n",
              "    </tr>\n",
              "    <tr>\n",
              "      <th>4</th>\n",
              "      <td>0.0</td>\n",
              "      <td>3</td>\n",
              "      <td>male</td>\n",
              "      <td>35.0</td>\n",
              "      <td>0</td>\n",
              "      <td>8.0500</td>\n",
              "      <td>unknown</td>\n",
              "      <td>S</td>\n",
              "    </tr>\n",
              "  </tbody>\n",
              "</table>\n",
              "</div>"
            ],
            "text/plain": [
              "   Survived  Pclass     Sex   Age  SibSp     Fare    Cabin Embarked\n",
              "0       0.0       3    male  22.0      1   7.2500  unknown        S\n",
              "1       1.0       1  female  38.0      1  71.2833      C85        C\n",
              "2       1.0       3  female  26.0      0   7.9250  unknown        S\n",
              "3       1.0       1  female  35.0      1  53.1000     C123        S\n",
              "4       0.0       3    male  35.0      0   8.0500  unknown        S"
            ]
          },
          "metadata": {
            "tags": []
          },
          "execution_count": 17
        }
      ]
    },
    {
      "cell_type": "code",
      "metadata": {
        "id": "t81TpihmZYYv",
        "colab": {
          "base_uri": "https://localhost:8080/",
          "height": 535
        },
        "outputId": "3b39a5bc-cb9e-46f1-be78-e52a55f88cd2"
      },
      "source": [
        "survived_sex = df[df['Survived']==1]['Sex'].value_counts()\n",
        "dead_sex = df[df['Survived']==0]['Sex'].value_counts()\n",
        "sur_df = pd.DataFrame([survived_sex,dead_sex])\n",
        "sur_df.index = ['Survived','Dead']\n",
        "sur_df.plot(kind='bar',stacked=True, figsize=(12,8))"
      ],
      "execution_count": null,
      "outputs": [
        {
          "output_type": "execute_result",
          "data": {
            "text/plain": [
              "<matplotlib.axes._subplots.AxesSubplot at 0x7fcf7d42c710>"
            ]
          },
          "metadata": {
            "tags": []
          },
          "execution_count": 18
        },
        {
          "output_type": "display_data",
          "data": {
            "image/png": "[encoded data removed]",
            "text/plain": [
              "<Figure size 864x576 with 1 Axes>"
            ]
          },
          "metadata": {
            "tags": [],
            "needs_background": "light"
          }
        }
      ]
    },
    {
      "cell_type": "code",
      "metadata": {
        "id": "kYfYb3YnaDaI",
        "colab": {
          "base_uri": "https://localhost:8080/",
          "height": 569
        },
        "outputId": "3a01c0b4-c11e-4203-d28e-bdc2bda83e85"
      },
      "source": [
        "figure = plt.figure(figsize=(13,8))\n",
        "plt.hist([df[df['Survived']==1]['Age'],df[df['Survived']==0]['Age']], stacked=True, color = ['g','r'],\n",
        "         bins = 30,label = ['Survived','Dead'])\n",
        "plt.xlabel('Age')\n",
        "plt.ylabel('Number of passengers')\n",
        "plt.legend()"
      ],
      "execution_count": null,
      "outputs": [
        {
          "output_type": "stream",
          "text": [
            "/usr/local/lib/python3.7/dist-packages/numpy/core/_asarray.py:83: VisibleDeprecationWarning: Creating an ndarray from ragged nested sequences (which is a list-or-tuple of lists-or-tuples-or ndarrays with different lengths or shapes) is deprecated. If you meant to do this, you must specify 'dtype=object' when creating the ndarray\n",
            "  return array(a, dtype, copy=False, order=order)\n"
          ],
          "name": "stderr"
        },
        {
          "output_type": "execute_result",
          "data": {
            "text/plain": [
              "<matplotlib.legend.Legend at 0x7fcf7d398cd0>"
            ]
          },
          "metadata": {
            "tags": []
          },
          "execution_count": 19
        },
        {
          "output_type": "display_data",
          "data": {
            "image/png": "[encoded data removed]",
            "text/plain": [
              "<Figure size 936x576 with 1 Axes>"
            ]
          },
          "metadata": {
            "tags": [],
            "needs_background": "light"
          }
        }
      ]
    },
    {
      "cell_type": "markdown",
      "metadata": {
        "id": "hvnwIMe7X6Wf"
      },
      "source": [
        "## Create a tf.data ingestion function"
      ]
    },
    {
      "cell_type": "code",
      "metadata": {
        "id": "d-xfSEqIZ-Yi"
      },
      "source": [
        "# Convert a Pandas dataframe \n",
        "def df_to_dataset(dataframe, shuffle=True, batch_size=32):\n",
        "  dataframe = dataframe.copy()\n",
        "  labels = dataframe.pop('Survived')\n",
        "  ds = tf.data.Dataset.from_tensor_slices((dict(dataframe), labels))\n",
        "  if shuffle:\n",
        "    ds = ds.shuffle(buffer_size=len(dataframe))\n",
        "  ds = ds.repeat().batch(batch_size)\n",
        "  return ds"
      ],
      "execution_count": null,
      "outputs": []
    },
    {
      "cell_type": "code",
      "metadata": {
        "id": "4Xil_DSbcDuG"
      },
      "source": [
        ""
      ],
      "execution_count": null,
      "outputs": []
    },
    {
      "cell_type": "code",
      "metadata": {
        "id": "Y7zSIoN1wVaA",
        "colab": {
          "base_uri": "https://localhost:8080/"
        },
        "outputId": "9368299a-ad37-4daa-ed66-57fec01fa67f"
      },
      "source": [
        "train, test = train_test_split(df, test_size=0.1)\n",
        "train, val = train_test_split(train, test_size=0.1)\n",
        "print(len(train), 'train examples')\n",
        "print(len(val), 'validation examples')\n",
        "print(len(test), 'test examples')"
      ],
      "execution_count": null,
      "outputs": [
        {
          "output_type": "stream",
          "text": [
            "720 train examples\n",
            "81 validation examples\n",
            "90 test examples\n"
          ],
          "name": "stdout"
        }
      ]
    },
    {
      "cell_type": "code",
      "metadata": {
        "id": "gUrQVZ6raGcu"
      },
      "source": [
        "batch_size = 5\n",
        "\n",
        "train_ds = df_to_dataset(train, batch_size=batch_size)\n",
        "val_ds = df_to_dataset(val, batch_size=batch_size)\n",
        "test_ds = df_to_dataset(test, shuffle=False, batch_size=batch_size)"
      ],
      "execution_count": null,
      "outputs": []
    },
    {
      "cell_type": "code",
      "metadata": {
        "id": "3FgM418LaGiq",
        "colab": {
          "base_uri": "https://localhost:8080/"
        },
        "outputId": "e692b1d7-5f07-48d5-92e7-0726aeccdd6f"
      },
      "source": [
        "for feature_batch, label_batch in train_ds.take(1):\n",
        "  print('All features:', list(feature_batch.keys()))\n",
        "  print('ages:', feature_batch['Age'])\n",
        "  print('sex:', feature_batch['Sex'])\n",
        "  print('labels:', label_batch )"
      ],
      "execution_count": null,
      "outputs": [
        {
          "output_type": "stream",
          "text": [
            "All features: ['Pclass', 'Sex', 'Age', 'SibSp', 'Fare', 'Cabin', 'Embarked']\n",
            "ages: tf.Tensor([40. 29. 41. 28. 31.], shape=(5,), dtype=float64)\n",
            "sex: tf.Tensor([b'female' b'male' b'female' b'female' b'female'], shape=(5,), dtype=string)\n",
            "labels: tf.Tensor([0. 1. 0. 1. 1.], shape=(5,), dtype=float32)\n"
          ],
          "name": "stdout"
        }
      ]
    },
    {
      "cell_type": "markdown",
      "metadata": {
        "id": "3QCWuYg5h_1h"
      },
      "source": [
        "## Functions for testing our columns as we make them"
      ]
    },
    {
      "cell_type": "code",
      "metadata": {
        "id": "21s-ziKugpYD"
      },
      "source": [
        "# Get a batch of data\n",
        "example_batch = list(train_ds.take(1))[0][0]"
      ],
      "execution_count": null,
      "outputs": []
    },
    {
      "cell_type": "code",
      "metadata": {
        "id": "oC-J-D1ngwIU"
      },
      "source": [
        "# Call a feature column on a batch of data and show the result- wraps the feature in a feature layer\n",
        "def demo(feature_column):\n",
        "  feature_layer = tf.keras.layers.DenseFeatures([feature_column])\n",
        "  print(feature_layer(example_batch).numpy())\n"
      ],
      "execution_count": null,
      "outputs": []
    },
    {
      "cell_type": "code",
      "metadata": {
        "id": "UPs5bYkQ2Gbl"
      },
      "source": [
        ""
      ],
      "execution_count": null,
      "outputs": []
    },
    {
      "cell_type": "markdown",
      "metadata": {
        "id": "0HiJBEEua-PL"
      },
      "source": [
        "## Categorical and Continuous"
      ]
    },
    {
      "cell_type": "markdown",
      "metadata": {
        "id": "CbhLRtrRWkjr"
      },
      "source": [
        "## Types of Feature columns\n",
        "\n",
        "1. Plain Numerical\n",
        "2. Buckets\n",
        "3. Embeddings  \n",
        "4. Hash"
      ]
    },
    {
      "cell_type": "markdown",
      "metadata": {
        "id": "KJDf_G8Wi-9V"
      },
      "source": [
        "### Numerical Columns\n",
        "\n",
        "These are features that are best represented as floats in the model\n",
        "\n",
        "A numeric column is the simplest type of column. It is used to represent real valued features. When using this column, your model will receive the column value from the dataframe unchanged.\n",
        "\n",
        "\n",
        "##### Converting to numerical columns"
      ]
    },
    {
      "cell_type": "code",
      "metadata": {
        "id": "dZuE-ZJmhz_u",
        "colab": {
          "base_uri": "https://localhost:8080/"
        },
        "outputId": "f3c602eb-4cec-44d4-f736-cdb2df6be530"
      },
      "source": [
        "# Age\n",
        "age = fc.numeric_column(\"Age\")\n",
        "demo(age)"
      ],
      "execution_count": null,
      "outputs": [
        {
          "output_type": "stream",
          "text": [
            "[[22.]\n",
            " [24.]\n",
            " [ 1.]\n",
            " [19.]\n",
            " [28.]]\n"
          ],
          "name": "stdout"
        }
      ]
    },
    {
      "cell_type": "code",
      "metadata": {
        "id": "sgz5HFVOi7sj",
        "colab": {
          "base_uri": "https://localhost:8080/"
        },
        "outputId": "a15b0b34-9551-4d52-9a3d-d3eb9a7af332"
      },
      "source": [
        "fare = fc.numeric_column(\"Fare\")\n",
        "demo(fare)"
      ],
      "execution_count": null,
      "outputs": [
        {
          "output_type": "stream",
          "text": [
            "[[66.6   ]\n",
            " [ 8.85  ]\n",
            " [46.9   ]\n",
            " [26.2833]\n",
            " [ 8.05  ]]\n"
          ],
          "name": "stdout"
        }
      ]
    },
    {
      "cell_type": "markdown",
      "metadata": {
        "id": "6cDURAcNiQAJ"
      },
      "source": [
        "### Bucketized columns\n",
        "\n",
        "##### Converting our numerical ages into buckets"
      ]
    },
    {
      "cell_type": "code",
      "metadata": {
        "id": "wrduhplziJ6H",
        "colab": {
          "base_uri": "https://localhost:8080/"
        },
        "outputId": "d22bedab-dce5-4eda-9ded-36cfe1853aee"
      },
      "source": [
        "age_buckets = fc.bucketized_column(age, boundaries=[5, 18, 25, 30, 35, 40, 45, 50, 55, 60, 65])\n",
        "demo(age_buckets)"
      ],
      "execution_count": null,
      "outputs": [
        {
          "output_type": "stream",
          "text": [
            "[[0. 0. 1. 0. 0. 0. 0. 0. 0. 0. 0. 0.]\n",
            " [0. 0. 1. 0. 0. 0. 0. 0. 0. 0. 0. 0.]\n",
            " [1. 0. 0. 0. 0. 0. 0. 0. 0. 0. 0. 0.]\n",
            " [0. 0. 1. 0. 0. 0. 0. 0. 0. 0. 0. 0.]\n",
            " [0. 0. 0. 1. 0. 0. 0. 0. 0. 0. 0. 0.]]\n"
          ],
          "name": "stdout"
        }
      ]
    },
    {
      "cell_type": "markdown",
      "metadata": {
        "id": "X9Hf2jI2kAyT"
      },
      "source": [
        "### Categorical columns\n",
        "\n",
        "##### Categorical Columns as OHE"
      ]
    },
    {
      "cell_type": "code",
      "metadata": {
        "id": "3FeA9Jm7Y7eY",
        "colab": {
          "base_uri": "https://localhost:8080/"
        },
        "outputId": "e43349ce-0259-460f-9891-84f606b3b1da"
      },
      "source": [
        "sex = fc.categorical_column_with_vocabulary_list('Sex', ['female', 'male'])\n",
        "\n",
        "# Indicator Column \n",
        "sex_one_hot = fc.indicator_column(sex)\n",
        "\n",
        "demo(sex_one_hot)"
      ],
      "execution_count": null,
      "outputs": [
        {
          "output_type": "stream",
          "text": [
            "[[1. 0.]\n",
            " [1. 0.]\n",
            " [0. 1.]\n",
            " [1. 0.]\n",
            " [0. 1.]]\n"
          ],
          "name": "stdout"
        }
      ]
    },
    {
      "cell_type": "code",
      "metadata": {
        "id": "fx96Eyd5kGxI",
        "colab": {
          "base_uri": "https://localhost:8080/"
        },
        "outputId": "c29acb4f-ed6a-46da-f466-5661af28fc52"
      },
      "source": [
        "embarked = fc.categorical_column_with_vocabulary_list('Embarked', ['unknown', 'C','S','Q'])\n",
        "\n",
        "# Indicator Column \n",
        "embarked_one_hot = fc.indicator_column(embarked)\n",
        "\n",
        "\n",
        "demo(embarked_one_hot)"
      ],
      "execution_count": null,
      "outputs": [
        {
          "output_type": "stream",
          "text": [
            "[[0. 0. 1. 0.]\n",
            " [0. 0. 1. 0.]\n",
            " [0. 0. 1. 0.]\n",
            " [0. 0. 1. 0.]\n",
            " [0. 0. 1. 0.]]\n"
          ],
          "name": "stdout"
        }
      ]
    },
    {
      "cell_type": "markdown",
      "metadata": {
        "id": "XAVC6OBulCQx"
      },
      "source": [
        "### Embedding columns\n",
        "\n",
        "##### Convert to Embeddings"
      ]
    },
    {
      "cell_type": "code",
      "metadata": {
        "id": "zS9nYgxNlBT9",
        "colab": {
          "base_uri": "https://localhost:8080/"
        },
        "outputId": "5a111055-4a86-4a02-fac2-57b6e77b2108"
      },
      "source": [
        "embarked_embedding = fc.embedding_column(embarked, dimension=3)\n",
        "demo(embarked_embedding)"
      ],
      "execution_count": null,
      "outputs": [
        {
          "output_type": "stream",
          "text": [
            "[[-0.26650864  0.5710416  -0.4737021 ]\n",
            " [-0.26650864  0.5710416  -0.4737021 ]\n",
            " [-0.26650864  0.5710416  -0.4737021 ]\n",
            " [-0.26650864  0.5710416  -0.4737021 ]\n",
            " [-0.26650864  0.5710416  -0.4737021 ]]\n"
          ],
          "name": "stdout"
        }
      ]
    },
    {
      "cell_type": "code",
      "metadata": {
        "id": "fnSWgTGUorrf"
      },
      "source": [
        ""
      ],
      "execution_count": null,
      "outputs": []
    },
    {
      "cell_type": "markdown",
      "metadata": {
        "id": "Rjquh_z8yTph"
      },
      "source": [
        "### Hashed feature columns\n",
        "\n",
        "##### Hashing"
      ]
    },
    {
      "cell_type": "code",
      "metadata": {
        "id": "yH5vmlSfyYjk",
        "colab": {
          "base_uri": "https://localhost:8080/"
        },
        "outputId": "477c2ce7-692f-4d2c-e22a-c08e4086f95b"
      },
      "source": [
        "cabin_hash = fc.categorical_column_with_hash_bucket(\n",
        "      'Cabin', hash_bucket_size=5)\n",
        "demo(fc.indicator_column(cabin_hash))"
      ],
      "execution_count": null,
      "outputs": [
        {
          "output_type": "stream",
          "text": [
            "[[0. 0. 1. 0. 0.]\n",
            " [1. 0. 0. 0. 0.]\n",
            " [1. 0. 0. 0. 0.]\n",
            " [0. 0. 0. 0. 1.]\n",
            " [1. 0. 0. 0. 0.]]\n"
          ],
          "name": "stdout"
        }
      ]
    },
    {
      "cell_type": "markdown",
      "metadata": {
        "id": "YdyLEuksxx4x"
      },
      "source": [
        "### Crossed feature columns"
      ]
    },
    {
      "cell_type": "code",
      "metadata": {
        "id": "9uKMkuE4x0UF",
        "colab": {
          "base_uri": "https://localhost:8080/"
        },
        "outputId": "488685a3-213d-4685-9856-747c9c4503ee"
      },
      "source": [
        "crossed_feature = fc.crossed_column([sex, embarked], hash_bucket_size=6)\n",
        "demo(fc.indicator_column(crossed_feature))"
      ],
      "execution_count": null,
      "outputs": [
        {
          "output_type": "stream",
          "text": [
            "[[0. 0. 1. 0. 0. 0.]\n",
            " [0. 0. 1. 0. 0. 0.]\n",
            " [0. 0. 0. 1. 0. 0.]\n",
            " [0. 0. 1. 0. 0. 0.]\n",
            " [0. 0. 0. 1. 0. 0.]]\n"
          ],
          "name": "stdout"
        }
      ]
    },
    {
      "cell_type": "markdown",
      "metadata": {
        "id": "YBnXEAaWnQN0"
      },
      "source": [
        "## Putting them all together"
      ]
    },
    {
      "cell_type": "code",
      "metadata": {
        "id": "_0FYT2tEbScS"
      },
      "source": [
        "# Numeric\n",
        "age = fc.numeric_column(\"Age\")\n",
        "fare = fc.numeric_column(\"Fare\")\n",
        "siblings_spouses = fc.numeric_column(\"SibSp\")\n",
        "\n",
        "#bucktized OHE\n",
        "embarked = fc.categorical_column_with_vocabulary_list('Embarked', ['unknown', 'C','S','Q'])\n",
        "sex = fc.categorical_column_with_vocabulary_list('Sex', ['female', 'male'])\n",
        "pclass = fc.categorical_column_with_vocabulary_list('Pclass', [1,2,3])\n",
        "age_buckets = fc.bucketized_column(age, boundaries=[5, 18, 25, 30, 35, 40, 45, 50, 55, 60, 65])\n",
        "\n",
        "#embeddings\n",
        "cabin = fc.categorical_column_with_vocabulary_list('Cabin', ['unknown', 'C85', 'C123', 'E46', 'G6', 'C103', 'D56', 'A6', 'C23 C25 C27', 'B78',\n",
        " 'D33', 'B30', 'C52', 'B28', 'C83', 'F33', 'F G73', 'E31', 'A5', 'D10 D12', 'D26',\n",
        " 'C110', 'B58 B60', 'E101', 'F E69', 'D47', 'B86', 'F2', 'C2', 'E33', 'B19', 'A7',\n",
        " 'C49', 'F4', 'A32', 'B4', 'B80', 'A31', 'D36', 'D15', 'C93', 'C78', 'D35', 'C87',\n",
        " 'B77', 'E67', 'B94', 'C125', 'C99', 'C118', 'D7', 'A19', 'B49', 'D', 'C22 C26',\n",
        " 'C106', 'C65', 'E36', 'C54', 'B57 B59 B63 B66', 'C7', 'E34', 'C32', 'B18', 'C124',\n",
        " 'C91', 'E40', 'T', 'C128', 'D37', 'B35', 'E50', 'C82', 'B96 B98', 'E10', 'E44',\n",
        " 'A34', 'C104', 'C111', 'C92', 'E38', 'D21', 'E12', 'E63', 'A14', 'B37', 'C30', 'D20',\n",
        " 'B79', 'E25', 'D46', 'B73', 'C95', 'B38', 'B39', 'B22', 'C86', 'C70', 'A16', 'C101',\n",
        " 'C68', 'A10', 'E68', 'B41', 'A20', 'D19', 'D50', 'D9', 'A23', 'B50', 'A26', 'D48',\n",
        " 'E58', 'C126', 'B71', 'B51 B53 B55', 'D49', 'B5', 'B20', 'F G63', 'C62 C64', 'E24',\n",
        " 'C90', 'C45', 'E8', 'B101', 'D45', 'C46', 'D30', 'E121', 'D11', 'E77', 'F38', 'B3',\n",
        " 'D6', 'B82 B84', 'D17', 'A36', 'B102', 'B69', 'E49', 'C47', 'D28', 'E17', 'A24',\n",
        " 'C50', 'B42', 'C148'])\n"
      ],
      "execution_count": null,
      "outputs": []
    },
    {
      "cell_type": "code",
      "metadata": {
        "id": "Tl7T-EMVZd4F"
      },
      "source": [
        ""
      ],
      "execution_count": null,
      "outputs": []
    },
    {
      "cell_type": "code",
      "metadata": {
        "id": "J8VGOQklZtk_",
        "colab": {
          "base_uri": "https://localhost:8080/",
          "height": 202
        },
        "outputId": "c9d0fede-818f-49f5-c7b4-fa8989d03c12"
      },
      "source": [
        "df.head()"
      ],
      "execution_count": null,
      "outputs": [
        {
          "output_type": "execute_result",
          "data": {
            "text/html": [
              "<div>\n",
              "<style scoped>\n",
              "    .dataframe tbody tr th:only-of-type {\n",
              "        vertical-align: middle;\n",
              "    }\n",
              "\n",
              "    .dataframe tbody tr th {\n",
              "        vertical-align: top;\n",
              "    }\n",
              "\n",
              "    .dataframe thead th {\n",
              "        text-align: right;\n",
              "    }\n",
              "</style>\n",
              "<table border=\"1\" class=\"dataframe\">\n",
              "  <thead>\n",
              "    <tr style=\"text-align: right;\">\n",
              "      <th></th>\n",
              "      <th>Survived</th>\n",
              "      <th>Pclass</th>\n",
              "      <th>Sex</th>\n",
              "      <th>Age</th>\n",
              "      <th>SibSp</th>\n",
              "      <th>Fare</th>\n",
              "      <th>Cabin</th>\n",
              "      <th>Embarked</th>\n",
              "    </tr>\n",
              "  </thead>\n",
              "  <tbody>\n",
              "    <tr>\n",
              "      <th>0</th>\n",
              "      <td>0.0</td>\n",
              "      <td>3</td>\n",
              "      <td>male</td>\n",
              "      <td>22.0</td>\n",
              "      <td>1</td>\n",
              "      <td>7.2500</td>\n",
              "      <td>unknown</td>\n",
              "      <td>S</td>\n",
              "    </tr>\n",
              "    <tr>\n",
              "      <th>1</th>\n",
              "      <td>1.0</td>\n",
              "      <td>1</td>\n",
              "      <td>female</td>\n",
              "      <td>38.0</td>\n",
              "      <td>1</td>\n",
              "      <td>71.2833</td>\n",
              "      <td>C85</td>\n",
              "      <td>C</td>\n",
              "    </tr>\n",
              "    <tr>\n",
              "      <th>2</th>\n",
              "      <td>1.0</td>\n",
              "      <td>3</td>\n",
              "      <td>female</td>\n",
              "      <td>26.0</td>\n",
              "      <td>0</td>\n",
              "      <td>7.9250</td>\n",
              "      <td>unknown</td>\n",
              "      <td>S</td>\n",
              "    </tr>\n",
              "    <tr>\n",
              "      <th>3</th>\n",
              "      <td>1.0</td>\n",
              "      <td>1</td>\n",
              "      <td>female</td>\n",
              "      <td>35.0</td>\n",
              "      <td>1</td>\n",
              "      <td>53.1000</td>\n",
              "      <td>C123</td>\n",
              "      <td>S</td>\n",
              "    </tr>\n",
              "    <tr>\n",
              "      <th>4</th>\n",
              "      <td>0.0</td>\n",
              "      <td>3</td>\n",
              "      <td>male</td>\n",
              "      <td>35.0</td>\n",
              "      <td>0</td>\n",
              "      <td>8.0500</td>\n",
              "      <td>unknown</td>\n",
              "      <td>S</td>\n",
              "    </tr>\n",
              "  </tbody>\n",
              "</table>\n",
              "</div>"
            ],
            "text/plain": [
              "   Survived  Pclass     Sex   Age  SibSp     Fare    Cabin Embarked\n",
              "0       0.0       3    male  22.0      1   7.2500  unknown        S\n",
              "1       1.0       1  female  38.0      1  71.2833      C85        C\n",
              "2       1.0       3  female  26.0      0   7.9250  unknown        S\n",
              "3       1.0       1  female  35.0      1  53.1000     C123        S\n",
              "4       0.0       3    male  35.0      0   8.0500  unknown        S"
            ]
          },
          "metadata": {
            "tags": []
          },
          "execution_count": 39
        }
      ]
    },
    {
      "cell_type": "markdown",
      "metadata": {
        "id": "RR8hDUqbmDRw"
      },
      "source": [
        "## Assemble the columns for training\n",
        "\n",
        "age, cabin, Pclass, fare, sex , sibsp, embarked"
      ]
    },
    {
      "cell_type": "code",
      "metadata": {
        "id": "sXcCi0q1XIRx"
      },
      "source": [
        "all_columns = [\n",
        "    age,\n",
        "    fare,\n",
        "    siblings_spouses, \n",
        "    fc.indicator_column(age_buckets),\n",
        "    fc.indicator_column(embarked),\n",
        "    fc.indicator_column(pclass),\n",
        "    fc.indicator_column(sex),\n",
        "    fc.embedding_column(cabin, dimension=8),\n",
        "\n",
        "]"
      ],
      "execution_count": null,
      "outputs": []
    },
    {
      "cell_type": "code",
      "metadata": {
        "id": "cg0PBcmDb7At"
      },
      "source": [
        ""
      ],
      "execution_count": null,
      "outputs": []
    },
    {
      "cell_type": "code",
      "metadata": {
        "id": "-QIk6IuX--a3"
      },
      "source": [
        "batch_size = 32\n",
        "train_ds = df_to_dataset(df, batch_size=batch_size)\n",
        "val_ds = df_to_dataset(val, batch_size=batch_size)\n",
        "test_ds = df_to_dataset(test, batch_size=batch_size)"
      ],
      "execution_count": null,
      "outputs": []
    },
    {
      "cell_type": "markdown",
      "metadata": {
        "id": "g99f2JGJD81j"
      },
      "source": [
        "### Create a feature layer\n"
      ]
    },
    {
      "cell_type": "code",
      "metadata": {
        "id": "Rixai8zN7xsr"
      },
      "source": [
        "feature_layer = tf.keras.layers.DenseFeatures(all_columns)"
      ],
      "execution_count": null,
      "outputs": []
    },
    {
      "cell_type": "code",
      "metadata": {
        "id": "C-jM1ucJ73v9"
      },
      "source": [
        "model = tf.keras.Sequential([\n",
        "  feature_layer,\n",
        "  tf.keras.layers.Dense(128, activation='relu'),\n",
        "  tf.keras.layers.Dense(128, activation=tf.nn.relu),\n",
        "  tf.keras.layers.Dense(1, activation=tf.nn.sigmoid) # 'sigmoid'\n",
        "])"
      ],
      "execution_count": null,
      "outputs": []
    },
    {
      "cell_type": "code",
      "metadata": {
        "id": "nFeFgVKdQuiD"
      },
      "source": [
        ""
      ],
      "execution_count": null,
      "outputs": []
    },
    {
      "cell_type": "code",
      "metadata": {
        "id": "UFFz2b4C8isc"
      },
      "source": [
        "model.compile(optimizer=tf.keras.optimizers.Adam(),\n",
        "              loss=tf.keras.losses.binary_crossentropy,\n",
        "              metrics=['accuracy'])"
      ],
      "execution_count": null,
      "outputs": []
    },
    {
      "cell_type": "code",
      "metadata": {
        "id": "3PviCeY2uAbe"
      },
      "source": [
        "# tf.keras.utils.plot_model(model, 'titanic_model.png', show_shapes=False)"
      ],
      "execution_count": null,
      "outputs": []
    },
    {
      "cell_type": "code",
      "metadata": {
        "id": "LehfjaYV8i7U",
        "colab": {
          "base_uri": "https://localhost:8080/"
        },
        "outputId": "4c54d671-381f-42a4-ad0a-2a0ecbb24d75"
      },
      "source": [
        "model.fit(train_ds, \n",
        "          steps_per_epoch=len(train)//batch_size,\n",
        "          validation_data=val_ds, \n",
        "          validation_steps=len(val)//batch_size,\n",
        "          epochs=50)"
      ],
      "execution_count": null,
      "outputs": [
        {
          "output_type": "stream",
          "text": [
            "Epoch 1/50\n",
            "WARNING:tensorflow:Layers in a Sequential model should only have a single input tensor, but we receive a <class 'dict'> input: {'Pclass': <tf.Tensor 'ExpandDims_4:0' shape=(None, 1) dtype=int64>, 'Sex': <tf.Tensor 'ExpandDims_5:0' shape=(None, 1) dtype=string>, 'Age': <tf.Tensor 'ExpandDims:0' shape=(None, 1) dtype=float64>, 'SibSp': <tf.Tensor 'ExpandDims_6:0' shape=(None, 1) dtype=int64>, 'Fare': <tf.Tensor 'ExpandDims_3:0' shape=(None, 1) dtype=float64>, 'Cabin': <tf.Tensor 'ExpandDims_1:0' shape=(None, 1) dtype=string>, 'Embarked': <tf.Tensor 'ExpandDims_2:0' shape=(None, 1) dtype=string>}\n",
            "Consider rewriting this model with the Functional API.\n",
            "WARNING:tensorflow:Layers in a Sequential model should only have a single input tensor, but we receive a <class 'dict'> input: {'Pclass': <tf.Tensor 'ExpandDims_4:0' shape=(None, 1) dtype=int64>, 'Sex': <tf.Tensor 'ExpandDims_5:0' shape=(None, 1) dtype=string>, 'Age': <tf.Tensor 'ExpandDims:0' shape=(None, 1) dtype=float64>, 'SibSp': <tf.Tensor 'ExpandDims_6:0' shape=(None, 1) dtype=int64>, 'Fare': <tf.Tensor 'ExpandDims_3:0' shape=(None, 1) dtype=float64>, 'Cabin': <tf.Tensor 'ExpandDims_1:0' shape=(None, 1) dtype=string>, 'Embarked': <tf.Tensor 'ExpandDims_2:0' shape=(None, 1) dtype=string>}\n",
            "Consider rewriting this model with the Functional API.\n",
            " 1/22 [>.............................] - ETA: 25s - loss: 2.8051 - accuracy: 0.3750WARNING:tensorflow:Layers in a Sequential model should only have a single input tensor, but we receive a <class 'dict'> input: {'Pclass': <tf.Tensor 'ExpandDims_4:0' shape=(None, 1) dtype=int64>, 'Sex': <tf.Tensor 'ExpandDims_5:0' shape=(None, 1) dtype=string>, 'Age': <tf.Tensor 'ExpandDims:0' shape=(None, 1) dtype=float64>, 'SibSp': <tf.Tensor 'ExpandDims_6:0' shape=(None, 1) dtype=int64>, 'Fare': <tf.Tensor 'ExpandDims_3:0' shape=(None, 1) dtype=float64>, 'Cabin': <tf.Tensor 'ExpandDims_1:0' shape=(None, 1) dtype=string>, 'Embarked': <tf.Tensor 'ExpandDims_2:0' shape=(None, 1) dtype=string>}\n",
            "Consider rewriting this model with the Functional API.\n",
            "22/22 [==============================] - 2s 33ms/step - loss: 1.2517 - accuracy: 0.5442 - val_loss: 0.6478 - val_accuracy: 0.7031\n",
            "Epoch 2/50\n",
            "22/22 [==============================] - 0s 3ms/step - loss: 0.6104 - accuracy: 0.7065 - val_loss: 0.6252 - val_accuracy: 0.6562\n",
            "Epoch 3/50\n",
            "22/22 [==============================] - 0s 4ms/step - loss: 0.5759 - accuracy: 0.7016 - val_loss: 0.6135 - val_accuracy: 0.7031\n",
            "Epoch 4/50\n",
            "22/22 [==============================] - 0s 3ms/step - loss: 0.6075 - accuracy: 0.6928 - val_loss: 0.5642 - val_accuracy: 0.7656\n",
            "Epoch 5/50\n",
            "22/22 [==============================] - 0s 4ms/step - loss: 0.5305 - accuracy: 0.7390 - val_loss: 0.6315 - val_accuracy: 0.6875\n",
            "Epoch 6/50\n",
            "22/22 [==============================] - 0s 4ms/step - loss: 0.5419 - accuracy: 0.7390 - val_loss: 0.5191 - val_accuracy: 0.7969\n",
            "Epoch 7/50\n",
            "22/22 [==============================] - 0s 4ms/step - loss: 0.5129 - accuracy: 0.7962 - val_loss: 0.5648 - val_accuracy: 0.7344\n",
            "Epoch 8/50\n",
            "22/22 [==============================] - 0s 4ms/step - loss: 0.5287 - accuracy: 0.7459 - val_loss: 0.5983 - val_accuracy: 0.7031\n",
            "Epoch 9/50\n",
            "22/22 [==============================] - 0s 4ms/step - loss: 0.4802 - accuracy: 0.7932 - val_loss: 0.5259 - val_accuracy: 0.7812\n",
            "Epoch 10/50\n",
            "22/22 [==============================] - 0s 5ms/step - loss: 0.4480 - accuracy: 0.8070 - val_loss: 0.4089 - val_accuracy: 0.8281\n",
            "Epoch 11/50\n",
            "22/22 [==============================] - 0s 4ms/step - loss: 0.5207 - accuracy: 0.7474 - val_loss: 0.5434 - val_accuracy: 0.7344\n",
            "Epoch 12/50\n",
            "22/22 [==============================] - 0s 4ms/step - loss: 0.5376 - accuracy: 0.7666 - val_loss: 0.5661 - val_accuracy: 0.7031\n",
            "Epoch 13/50\n",
            "22/22 [==============================] - 0s 4ms/step - loss: 0.5362 - accuracy: 0.7908 - val_loss: 0.5363 - val_accuracy: 0.7500\n",
            "Epoch 14/50\n",
            "22/22 [==============================] - 0s 5ms/step - loss: 0.4792 - accuracy: 0.7811 - val_loss: 0.5798 - val_accuracy: 0.7500\n",
            "Epoch 15/50\n",
            "22/22 [==============================] - 0s 4ms/step - loss: 0.5523 - accuracy: 0.7610 - val_loss: 0.5484 - val_accuracy: 0.7344\n",
            "Epoch 16/50\n",
            "22/22 [==============================] - 0s 4ms/step - loss: 0.4400 - accuracy: 0.8286 - val_loss: 0.4916 - val_accuracy: 0.7812\n",
            "Epoch 17/50\n",
            "22/22 [==============================] - 0s 4ms/step - loss: 0.4528 - accuracy: 0.7985 - val_loss: 0.4417 - val_accuracy: 0.8281\n",
            "Epoch 18/50\n",
            "22/22 [==============================] - 0s 4ms/step - loss: 0.4179 - accuracy: 0.8284 - val_loss: 0.4707 - val_accuracy: 0.7812\n",
            "Epoch 19/50\n",
            "22/22 [==============================] - 0s 3ms/step - loss: 0.4373 - accuracy: 0.8087 - val_loss: 0.4896 - val_accuracy: 0.7812\n",
            "Epoch 20/50\n",
            "22/22 [==============================] - 0s 4ms/step - loss: 0.4135 - accuracy: 0.8078 - val_loss: 0.4753 - val_accuracy: 0.7812\n",
            "Epoch 21/50\n",
            "22/22 [==============================] - 0s 4ms/step - loss: 0.4389 - accuracy: 0.8307 - val_loss: 0.4938 - val_accuracy: 0.7969\n",
            "Epoch 22/50\n",
            "22/22 [==============================] - 0s 5ms/step - loss: 0.3889 - accuracy: 0.8327 - val_loss: 0.4608 - val_accuracy: 0.8125\n",
            "Epoch 23/50\n",
            "22/22 [==============================] - 0s 4ms/step - loss: 0.4683 - accuracy: 0.8101 - val_loss: 0.4574 - val_accuracy: 0.7812\n",
            "Epoch 24/50\n",
            "22/22 [==============================] - 0s 4ms/step - loss: 0.4034 - accuracy: 0.8336 - val_loss: 0.4300 - val_accuracy: 0.8125\n",
            "Epoch 25/50\n",
            "22/22 [==============================] - 0s 4ms/step - loss: 0.3845 - accuracy: 0.8526 - val_loss: 0.4164 - val_accuracy: 0.8438\n",
            "Epoch 26/50\n",
            "22/22 [==============================] - 0s 4ms/step - loss: 0.3727 - accuracy: 0.8390 - val_loss: 0.4254 - val_accuracy: 0.8125\n",
            "Epoch 27/50\n",
            "22/22 [==============================] - 0s 4ms/step - loss: 0.3877 - accuracy: 0.8581 - val_loss: 0.4341 - val_accuracy: 0.8438\n",
            "Epoch 28/50\n",
            "22/22 [==============================] - 0s 4ms/step - loss: 0.3858 - accuracy: 0.8523 - val_loss: 0.4549 - val_accuracy: 0.7969\n",
            "Epoch 29/50\n",
            "22/22 [==============================] - 0s 4ms/step - loss: 0.4145 - accuracy: 0.8251 - val_loss: 0.3873 - val_accuracy: 0.8281\n",
            "Epoch 30/50\n",
            "22/22 [==============================] - 0s 3ms/step - loss: 0.3680 - accuracy: 0.8603 - val_loss: 0.3939 - val_accuracy: 0.8281\n",
            "Epoch 31/50\n",
            "22/22 [==============================] - 0s 4ms/step - loss: 0.3585 - accuracy: 0.8485 - val_loss: 0.4545 - val_accuracy: 0.8125\n",
            "Epoch 32/50\n",
            "22/22 [==============================] - 0s 4ms/step - loss: 0.3705 - accuracy: 0.8531 - val_loss: 0.4984 - val_accuracy: 0.7812\n",
            "Epoch 33/50\n",
            "22/22 [==============================] - 0s 4ms/step - loss: 0.3456 - accuracy: 0.8701 - val_loss: 0.3563 - val_accuracy: 0.8281\n",
            "Epoch 34/50\n",
            "22/22 [==============================] - 0s 4ms/step - loss: 0.4290 - accuracy: 0.8299 - val_loss: 0.4560 - val_accuracy: 0.8281\n",
            "Epoch 35/50\n",
            "22/22 [==============================] - 0s 4ms/step - loss: 0.3640 - accuracy: 0.8554 - val_loss: 0.4759 - val_accuracy: 0.8281\n",
            "Epoch 36/50\n",
            "22/22 [==============================] - 0s 4ms/step - loss: 0.4384 - accuracy: 0.8255 - val_loss: 0.5447 - val_accuracy: 0.7031\n",
            "Epoch 37/50\n",
            "22/22 [==============================] - 0s 4ms/step - loss: 0.4779 - accuracy: 0.8176 - val_loss: 0.4090 - val_accuracy: 0.8438\n",
            "Epoch 38/50\n",
            "22/22 [==============================] - 0s 4ms/step - loss: 0.3520 - accuracy: 0.8688 - val_loss: 0.4373 - val_accuracy: 0.7969\n",
            "Epoch 39/50\n",
            "22/22 [==============================] - 0s 4ms/step - loss: 0.3465 - accuracy: 0.8510 - val_loss: 0.3947 - val_accuracy: 0.8594\n",
            "Epoch 40/50\n",
            "22/22 [==============================] - 0s 4ms/step - loss: 0.3198 - accuracy: 0.8828 - val_loss: 0.4114 - val_accuracy: 0.7969\n",
            "Epoch 41/50\n",
            "22/22 [==============================] - 0s 4ms/step - loss: 0.3583 - accuracy: 0.8446 - val_loss: 0.4791 - val_accuracy: 0.8125\n",
            "Epoch 42/50\n",
            "22/22 [==============================] - 0s 4ms/step - loss: 0.3649 - accuracy: 0.8539 - val_loss: 0.4910 - val_accuracy: 0.7969\n",
            "Epoch 43/50\n",
            "22/22 [==============================] - 0s 4ms/step - loss: 0.4173 - accuracy: 0.8408 - val_loss: 0.3436 - val_accuracy: 0.8594\n",
            "Epoch 44/50\n",
            "22/22 [==============================] - 0s 4ms/step - loss: 0.3093 - accuracy: 0.8857 - val_loss: 0.4058 - val_accuracy: 0.8125\n",
            "Epoch 45/50\n",
            "22/22 [==============================] - 0s 4ms/step - loss: 0.3834 - accuracy: 0.8353 - val_loss: 0.3331 - val_accuracy: 0.8438\n",
            "Epoch 46/50\n",
            "22/22 [==============================] - 0s 4ms/step - loss: 0.3509 - accuracy: 0.8859 - val_loss: 0.3304 - val_accuracy: 0.8438\n",
            "Epoch 47/50\n",
            "22/22 [==============================] - 0s 3ms/step - loss: 0.3350 - accuracy: 0.8590 - val_loss: 0.4342 - val_accuracy: 0.8125\n",
            "Epoch 48/50\n",
            "22/22 [==============================] - 0s 4ms/step - loss: 0.3226 - accuracy: 0.8889 - val_loss: 0.4461 - val_accuracy: 0.8125\n",
            "Epoch 49/50\n",
            "22/22 [==============================] - 0s 4ms/step - loss: 0.3857 - accuracy: 0.8427 - val_loss: 0.4685 - val_accuracy: 0.8281\n",
            "Epoch 50/50\n",
            "22/22 [==============================] - 0s 4ms/step - loss: 0.3727 - accuracy: 0.8530 - val_loss: 0.3620 - val_accuracy: 0.8438\n"
          ],
          "name": "stdout"
        },
        {
          "output_type": "execute_result",
          "data": {
            "text/plain": [
              "<tensorflow.python.keras.callbacks.History at 0x7fcf7d759a50>"
            ]
          },
          "metadata": {
            "tags": []
          },
          "execution_count": 47
        }
      ]
    },
    {
      "cell_type": "markdown",
      "metadata": {
        "id": "PMXRoeGa_LVX"
      },
      "source": [
        "### Evaluate the model"
      ]
    },
    {
      "cell_type": "code",
      "metadata": {
        "id": "lzdLE-G98kZU",
        "colab": {
          "base_uri": "https://localhost:8080/"
        },
        "outputId": "24a65904-ff9c-43e9-a096-6e82af5e4543"
      },
      "source": [
        "loss, accuracy = model.evaluate(test_ds, steps=len(test) // batch_size)\n",
        "print(\"Accuracy\", accuracy)"
      ],
      "execution_count": null,
      "outputs": [
        {
          "output_type": "stream",
          "text": [
            "2/2 [==============================] - 0s 7ms/step - loss: 0.2973 - accuracy: 0.9062\n",
            "Accuracy 0.90625\n"
          ],
          "name": "stdout"
        }
      ]
    },
    {
      "cell_type": "markdown",
      "metadata": {
        "id": "xKsmLo4jOotX"
      },
      "source": [
        ""
      ]
    },
    {
      "cell_type": "code",
      "metadata": {
        "id": "3C1iV3n-RiD2"
      },
      "source": [
        ""
      ],
      "execution_count": null,
      "outputs": []
    },
    {
      "cell_type": "code",
      "metadata": {
        "id": "P2f18jixqLmq"
      },
      "source": [
        ""
      ],
      "execution_count": null,
      "outputs": []
    }
  ]
}