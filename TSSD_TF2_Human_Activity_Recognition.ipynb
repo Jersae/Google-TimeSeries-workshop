{
  "nbformat": 4,
  "nbformat_minor": 0,
  "metadata": {
    "colab": {
      "name": "TSSD - TF2 - Human Activity Recognition.ipynb",
      "provenance": [],
      "collapsed_sections": [],
      "include_colab_link": true
    },
    "kernelspec": {
      "name": "python3",
      "display_name": "Python 3"
    },
    "accelerator": "GPU"
  },
  "cells": [
    {
      "cell_type": "markdown",
      "metadata": {
        "id": "view-in-github",
        "colab_type": "text"
      },
      "source": [
        "<a href=\"https://colab.research.google.com/github/Jersae/Google-TimeSeries-workshop/blob/main/TSSD_TF2_Human_Activity_Recognition.ipynb\" target=\"_parent\"><img src=\"https://colab.research.google.com/assets/colab-badge.svg\" alt=\"Open In Colab\"/></a>"
      ]
    },
    {
      "cell_type": "code",
      "metadata": {
        "id": "5sCqI670FDQf",
        "colab": {
          "base_uri": "https://localhost:8080/"
        },
        "outputId": "a7312604-b760-43be-e36a-d0dbc0abeb56"
      },
      "source": [
        "!wget -qq https://www.dropbox.com/s/ecs4lywacmbiw6t/HAR_Smartphones.zip\n",
        "  \n",
        "!unzip -qq HAR_Smartphones.zip\n",
        "!rm HAR_Smartphones.zip\n",
        "!rm -r __MACOSX\n",
        "!ls"
      ],
      "execution_count": null,
      "outputs": [
        {
          "output_type": "stream",
          "text": [
            " sample_data  'UCI HAR Dataset'\n"
          ],
          "name": "stdout"
        }
      ]
    },
    {
      "cell_type": "code",
      "metadata": {
        "id": "4wlYaT0uHhWu",
        "colab": {
          "base_uri": "https://localhost:8080/"
        },
        "outputId": "36ab771f-d913-45a4-fbe6-f000d73c96fb"
      },
      "source": [
        "!ls 'UCI HAR Dataset'"
      ],
      "execution_count": null,
      "outputs": [
        {
          "output_type": "stream",
          "text": [
            "activity_labels.txt  features_info.txt\tfeatures.txt  README.txt  test\ttrain\n"
          ],
          "name": "stdout"
        }
      ]
    },
    {
      "cell_type": "code",
      "metadata": {
        "id": "y_szQmKhFQRE"
      },
      "source": [
        "# lstm model for the har dataset\n",
        "%matplotlib inline\n",
        "import matplotlib.pyplot as plt\n",
        "\n",
        "import os\n",
        "from datetime import datetime\n",
        "\n",
        "import numpy as np\n",
        "import pandas as pd\n",
        "\n",
        "import tensorflow as tf\n",
        "\n",
        "\n",
        "from tensorflow.keras.models import Sequential,Model\n",
        "from tensorflow.keras.layers import Dense, Dropout, LSTM, TimeDistributed, Conv1D, MaxPooling1D, Flatten, Input\n",
        "\n",
        "from tensorflow.keras.utils import to_categorical\n"
      ],
      "execution_count": null,
      "outputs": []
    },
    {
      "cell_type": "code",
      "metadata": {
        "colab": {
          "base_uri": "https://localhost:8080/"
        },
        "id": "-t9pUWShxK5g",
        "outputId": "b365a4ed-5f25-4cc7-9165-4ee5a5e08d58"
      },
      "source": [
        "print(tf.__version__)"
      ],
      "execution_count": null,
      "outputs": [
        {
          "output_type": "stream",
          "text": [
            "2.4.1\n"
          ],
          "name": "stdout"
        }
      ]
    },
    {
      "cell_type": "markdown",
      "metadata": {
        "id": "Ku15sOpA1cHq"
      },
      "source": [
        "## Load the data"
      ]
    },
    {
      "cell_type": "code",
      "metadata": {
        "id": "Sh0HI8ydGMXo"
      },
      "source": [
        "# load a single file as a numpy array\n",
        "def load_file(filepath):\n",
        "\tdataframe = pd.read_csv(filepath, header=None, delim_whitespace=True)\n",
        "\treturn dataframe.values\n",
        "\n",
        "# load a list of files and return as a 3d numpy array\n",
        "def load_group(filenames, prefix=''):\n",
        "\tloaded = list()\n",
        "\tfor name in filenames:\n",
        "\t\tdata = load_file(prefix + name)\n",
        "\t\tloaded.append(data)\n",
        "\t# stack group so that features are the 3rd dimension\n",
        "\tloaded = np.dstack(loaded)\n",
        "\treturn loaded\n",
        "\n",
        "# load a dataset group, such as train or test\n",
        "def load_dataset_group(group, prefix=''):\n",
        "\tfilepath = prefix + group + '/Inertial Signals/'\n",
        "\t# load all 9 files as a single array\n",
        "\tfilenames = list()\n",
        "\t# total acceleration\n",
        "\tfilenames += ['total_acc_x_'+group+'.txt', 'total_acc_y_'+group+'.txt', 'total_acc_z_'+group+'.txt']\n",
        "\t# body acceleration\n",
        "\tfilenames += ['body_acc_x_'+group+'.txt', 'body_acc_y_'+group+'.txt', 'body_acc_z_'+group+'.txt']\n",
        "\t# body gyroscope\n",
        "\tfilenames += ['body_gyro_x_'+group+'.txt', 'body_gyro_y_'+group+'.txt', 'body_gyro_z_'+group+'.txt']\n",
        "\t# load input data\n",
        "\tX = load_group(filenames, filepath)\n",
        "\t# load class output\n",
        "\ty = load_file(prefix + group + '/y_'+group+'.txt')\n",
        "\treturn X, y\n",
        "\n",
        "# load the dataset, returns train and test X and y elements\n",
        "def load_dataset(prefix=''):\n",
        "\t# load all train\n",
        "\ttrainX, trainy = load_dataset_group('train', prefix + 'UCI HAR Dataset/')\n",
        "\t# load all test\n",
        "\ttestX, testy = load_dataset_group('test', prefix + 'UCI HAR Dataset/')\n",
        "\t# zero-offset class values\n",
        "\ttrainy = trainy - 1\n",
        "\ttesty = testy - 1\n",
        "\t# one hot encode y\n",
        "\ttrainy = to_categorical(trainy)\n",
        "\ttesty = to_categorical(testy)\n",
        "\treturn trainX, trainy, testX, testy"
      ],
      "execution_count": null,
      "outputs": []
    },
    {
      "cell_type": "code",
      "metadata": {
        "id": "Ae1MPXNVjdio"
      },
      "source": [
        "# load data\n",
        "X_train, y_train, X_test, y_test = load_dataset()"
      ],
      "execution_count": null,
      "outputs": []
    },
    {
      "cell_type": "markdown",
      "metadata": {
        "id": "X4UaKtgthRoA"
      },
      "source": [
        "## Model"
      ]
    },
    {
      "cell_type": "code",
      "metadata": {
        "id": "gGY7ucBO_UWv"
      },
      "source": [
        "batch_size = 64\n",
        "epochs = 25\n",
        "\n",
        "n_timesteps, n_features, n_outputs = X_train.shape[1], X_train.shape[2], y_train.shape[1]\n"
      ],
      "execution_count": null,
      "outputs": []
    },
    {
      "cell_type": "code",
      "metadata": {
        "id": "RIRFr4CXfSDr",
        "colab": {
          "base_uri": "https://localhost:8080/"
        },
        "outputId": "3adbe5bb-eb2e-4d2b-b9bd-503f369179dd"
      },
      "source": [
        "\n",
        "Inp = Input(shape=(n_timesteps, n_features))\n",
        "# x = LSTM(100, activation='relu', name= 'LSTM_01',return_sequences=True)(Inp)\n",
        "x = LSTM(100, activation='relu', name= 'LSTM_01')(Inp)\n",
        "# x = Dropout(0.5)(x)\n",
        "x = Dense(100,activation='relu', name= 'Dense_01')(x)\n",
        "out = Dense(n_outputs, activation='softmax')(x)\n",
        "\n",
        "\n",
        "print('timesteps:', n_timesteps, ' features: ', n_features, ' Classes:',n_outputs)"
      ],
      "execution_count": null,
      "outputs": [
        {
          "output_type": "stream",
          "text": [
            "WARNING:tensorflow:Layer LSTM_01 will not use cuDNN kernel since it doesn't meet the cuDNN kernel criteria. It will use generic GPU kernel as fallback when running on GPU\n",
            "timesteps: 128  features:  9  Classes: 6\n"
          ],
          "name": "stdout"
        }
      ]
    },
    {
      "cell_type": "code",
      "metadata": {
        "id": "oe6Lb1cEuit6"
      },
      "source": [
        "model = Model(Inp,out)"
      ],
      "execution_count": null,
      "outputs": []
    },
    {
      "cell_type": "code",
      "metadata": {
        "id": "wlAegkqqtaUQ"
      },
      "source": [
        "model.compile(loss='categorical_crossentropy', \n",
        "              optimizer='adam', \n",
        "              metrics=['accuracy'])\n"
      ],
      "execution_count": null,
      "outputs": []
    },
    {
      "cell_type": "code",
      "metadata": {
        "id": "rS2XO1q2Bagy",
        "colab": {
          "base_uri": "https://localhost:8080/"
        },
        "outputId": "29bba6f9-d9a2-4f1b-bf59-063a3af6ae4d"
      },
      "source": [
        "model.summary()"
      ],
      "execution_count": null,
      "outputs": [
        {
          "output_type": "stream",
          "text": [
            "Model: \"model\"\n",
            "_________________________________________________________________\n",
            "Layer (type)                 Output Shape              Param #   \n",
            "=================================================================\n",
            "input_1 (InputLayer)         [(None, 128, 9)]          0         \n",
            "_________________________________________________________________\n",
            "LSTM_01 (LSTM)               (None, 100)               44000     \n",
            "_________________________________________________________________\n",
            "Dense_01 (Dense)             (None, 100)               10100     \n",
            "_________________________________________________________________\n",
            "dense (Dense)                (None, 6)                 606       \n",
            "=================================================================\n",
            "Total params: 54,706\n",
            "Trainable params: 54,706\n",
            "Non-trainable params: 0\n",
            "_________________________________________________________________\n"
          ],
          "name": "stdout"
        }
      ]
    },
    {
      "cell_type": "code",
      "metadata": {
        "id": "DcLqTMn9tag0",
        "colab": {
          "base_uri": "https://localhost:8080/"
        },
        "outputId": "2f2f3abf-473f-44f3-8448-a6445c7d1c35"
      },
      "source": [
        "# fit network\n",
        "model.fit(X_train, y_train, \n",
        "          epochs=epochs, \n",
        "          batch_size=batch_size, \n",
        "          validation_data=(X_test,y_test),\n",
        "          verbose=1)\n"
      ],
      "execution_count": null,
      "outputs": [
        {
          "output_type": "stream",
          "text": [
            "Epoch 1/25\n",
            "115/115 [==============================] - 21s 164ms/step - loss: 4385695432.4499 - accuracy: 0.4069 - val_loss: 1.4412 - val_accuracy: 0.5348\n",
            "Epoch 2/25\n",
            "115/115 [==============================] - 18s 160ms/step - loss: 1.3484 - accuracy: 0.5527 - val_loss: 1.2430 - val_accuracy: 0.5779\n",
            "Epoch 3/25\n",
            "115/115 [==============================] - 18s 160ms/step - loss: 1.1650 - accuracy: 0.6198 - val_loss: 1.1096 - val_accuracy: 0.6016\n",
            "Epoch 4/25\n",
            "115/115 [==============================] - 18s 158ms/step - loss: 1.0330 - accuracy: 0.6311 - val_loss: 1.0253 - val_accuracy: 0.5816\n",
            "Epoch 5/25\n",
            "115/115 [==============================] - 18s 155ms/step - loss: 0.9407 - accuracy: 0.6598 - val_loss: 0.9607 - val_accuracy: 0.6101\n",
            "Epoch 6/25\n",
            "115/115 [==============================] - 18s 159ms/step - loss: 0.8839 - accuracy: 0.6684 - val_loss: 0.9152 - val_accuracy: 0.6240\n",
            "Epoch 7/25\n",
            "115/115 [==============================] - 18s 158ms/step - loss: 0.8394 - accuracy: 0.6750 - val_loss: 0.8834 - val_accuracy: 0.6301\n",
            "Epoch 8/25\n",
            "115/115 [==============================] - 18s 157ms/step - loss: 0.7897 - accuracy: 0.6906 - val_loss: 0.8582 - val_accuracy: 0.6379\n",
            "Epoch 9/25\n",
            "115/115 [==============================] - 18s 156ms/step - loss: 0.7452 - accuracy: 0.7047 - val_loss: 0.8351 - val_accuracy: 0.6461\n",
            "Epoch 10/25\n",
            "115/115 [==============================] - 18s 158ms/step - loss: 0.7228 - accuracy: 0.7097 - val_loss: 0.8208 - val_accuracy: 0.6542\n",
            "Epoch 11/25\n",
            "115/115 [==============================] - 19s 165ms/step - loss: 0.7085 - accuracy: 0.7129 - val_loss: 0.8039 - val_accuracy: 0.6685\n",
            "Epoch 12/25\n",
            "115/115 [==============================] - 19s 166ms/step - loss: 0.6744 - accuracy: 0.7297 - val_loss: 0.7943 - val_accuracy: 0.6732\n",
            "Epoch 13/25\n",
            "115/115 [==============================] - 19s 162ms/step - loss: 0.6561 - accuracy: 0.7353 - val_loss: 0.7822 - val_accuracy: 0.6824\n",
            "Epoch 14/25\n",
            "115/115 [==============================] - 18s 160ms/step - loss: 0.6454 - accuracy: 0.7458 - val_loss: 0.7742 - val_accuracy: 0.6909\n",
            "Epoch 15/25\n",
            "115/115 [==============================] - 19s 164ms/step - loss: 1855689.7060 - accuracy: 0.7306 - val_loss: 1.0437 - val_accuracy: 0.5456\n",
            "Epoch 16/25\n",
            "115/115 [==============================] - 19s 163ms/step - loss: 0.7829 - accuracy: 0.6864 - val_loss: 0.7981 - val_accuracy: 0.6780\n",
            "Epoch 17/25\n",
            "115/115 [==============================] - 18s 158ms/step - loss: 0.6574 - accuracy: 0.7464 - val_loss: 0.7850 - val_accuracy: 0.6834\n",
            "Epoch 18/25\n",
            "115/115 [==============================] - 18s 158ms/step - loss: 0.6397 - accuracy: 0.7436 - val_loss: 0.7776 - val_accuracy: 0.6902\n",
            "Epoch 19/25\n",
            "115/115 [==============================] - 18s 159ms/step - loss: 0.6387 - accuracy: 0.7512 - val_loss: 0.7735 - val_accuracy: 0.6895\n",
            "Epoch 20/25\n",
            "115/115 [==============================] - 18s 158ms/step - loss: 0.6162 - accuracy: 0.7554 - val_loss: 0.7639 - val_accuracy: 0.7004\n",
            "Epoch 21/25\n",
            "115/115 [==============================] - 18s 157ms/step - loss: 0.6220 - accuracy: 0.7548 - val_loss: 0.7615 - val_accuracy: 0.6956\n",
            "Epoch 22/25\n",
            "115/115 [==============================] - 18s 158ms/step - loss: 0.6164 - accuracy: 0.7526 - val_loss: 0.7580 - val_accuracy: 0.6980\n",
            "Epoch 23/25\n",
            "115/115 [==============================] - 18s 159ms/step - loss: 0.6061 - accuracy: 0.7557 - val_loss: 0.7525 - val_accuracy: 0.7058\n",
            "Epoch 24/25\n",
            "115/115 [==============================] - 18s 159ms/step - loss: 0.5955 - accuracy: 0.7587 - val_loss: 0.7504 - val_accuracy: 0.7044\n",
            "Epoch 25/25\n",
            "115/115 [==============================] - 18s 156ms/step - loss: 0.5890 - accuracy: 0.7672 - val_loss: 0.7495 - val_accuracy: 0.7038\n"
          ],
          "name": "stdout"
        },
        {
          "output_type": "execute_result",
          "data": {
            "text/plain": [
              "<tensorflow.python.keras.callbacks.History at 0x7f61c377fb10>"
            ]
          },
          "metadata": {
            "tags": []
          },
          "execution_count": 11
        }
      ]
    },
    {
      "cell_type": "code",
      "metadata": {
        "id": "IOKqRYKOGSo2",
        "colab": {
          "base_uri": "https://localhost:8080/"
        },
        "outputId": "dffe9450-83f6-4ca5-d02c-0218e83ca0c1"
      },
      "source": [
        "# evaluate model\n",
        "model.evaluate(X_test, y_test, batch_size=batch_size, verbose=0)\n"
      ],
      "execution_count": null,
      "outputs": [
        {
          "output_type": "execute_result",
          "data": {
            "text/plain": [
              "[0.7494626641273499, 0.7037665247917175]"
            ]
          },
          "metadata": {
            "tags": []
          },
          "execution_count": 12
        }
      ]
    },
    {
      "cell_type": "code",
      "metadata": {
        "id": "urCnkNjTGX-P",
        "colab": {
          "base_uri": "https://localhost:8080/"
        },
        "outputId": "ff38f1a1-670b-488e-b8e4-74830661101d"
      },
      "source": [
        "n_outputs"
      ],
      "execution_count": null,
      "outputs": [
        {
          "output_type": "execute_result",
          "data": {
            "text/plain": [
              "6"
            ]
          },
          "metadata": {
            "tags": []
          },
          "execution_count": 13
        }
      ]
    },
    {
      "cell_type": "code",
      "metadata": {
        "id": "ASMPLwV6GdQd"
      },
      "source": [
        ""
      ],
      "execution_count": null,
      "outputs": []
    },
    {
      "cell_type": "code",
      "metadata": {
        "id": "27673odiLIzH"
      },
      "source": [
        ""
      ],
      "execution_count": null,
      "outputs": []
    }
  ]
}