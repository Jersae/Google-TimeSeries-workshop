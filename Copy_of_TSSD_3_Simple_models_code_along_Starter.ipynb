{
  "nbformat": 4,
  "nbformat_minor": 0,
  "metadata": {
    "colab": {
      "name": "Copy of TSSD 3 Simple models - code along Starter.ipynb",
      "provenance": [],
      "collapsed_sections": [],
      "include_colab_link": true
    },
    "kernelspec": {
      "name": "python3",
      "display_name": "Python 3"
    },
    "language_info": {
      "name": "python"
    },
    "accelerator": "GPU"
  },
  "cells": [
    {
      "cell_type": "markdown",
      "metadata": {
        "id": "view-in-github",
        "colab_type": "text"
      },
      "source": [
        "<a href=\"https://colab.research.google.com/github/Jersae/Google-TimeSeries-workshop/blob/main/Copy_of_TSSD_3_Simple_models_code_along_Starter.ipynb\" target=\"_parent\"><img src=\"https://colab.research.google.com/assets/colab-badge.svg\" alt=\"Open In Colab\"/></a>"
      ]
    },
    {
      "cell_type": "code",
      "metadata": {
        "id": "lAY2ClAgzkqP"
      },
      "source": [
        ""
      ],
      "execution_count": null,
      "outputs": []
    },
    {
      "cell_type": "code",
      "metadata": {
        "id": "QtzDcf-FuWpx"
      },
      "source": [
        ""
      ],
      "execution_count": null,
      "outputs": []
    },
    {
      "cell_type": "markdown",
      "metadata": {
        "id": "093L7vmn0FvY"
      },
      "source": [
        "# 3 Simple Models Code along\n",
        "\n",
        "- Dense Model  \n",
        "- Conv1D Model  \n",
        "- LSTM Model  "
      ]
    },
    {
      "cell_type": "markdown",
      "metadata": {
        "id": "V5kYTWTu06X5"
      },
      "source": [
        "### Imports"
      ]
    },
    {
      "cell_type": "code",
      "metadata": {
        "id": "9guRBt4W9qye"
      },
      "source": [
        "#imports"
      ],
      "execution_count": null,
      "outputs": []
    },
    {
      "cell_type": "markdown",
      "metadata": {
        "id": "TqNsMd1n9qyh"
      },
      "source": [
        "## Getting the data\n",
        "\n",
        "M4 dataset\n",
        "\n",
        "https://www.kaggle.com/yogesh94/m4-forecasting-competition-dataset"
      ]
    },
    {
      "cell_type": "code",
      "metadata": {
        "id": "OINz9WX99qyi"
      },
      "source": [
        "!wget -q https://www.dropbox.com/s/vtvrem02pby4hhp/m4_dataset.zip\n",
        "!unzip -q m4_dataset.zip\n",
        "\n",
        "ls"
      ],
      "execution_count": null,
      "outputs": []
    },
    {
      "cell_type": "code",
      "metadata": {
        "id": "vzNupgeLXXSu"
      },
      "source": [
        ""
      ],
      "execution_count": null,
      "outputs": []
    },
    {
      "cell_type": "code",
      "metadata": {
        "id": "noOils9IXXa5"
      },
      "source": [
        ""
      ],
      "execution_count": null,
      "outputs": []
    },
    {
      "cell_type": "code",
      "metadata": {
        "id": "_krnvV5CXXkU"
      },
      "source": [
        ""
      ],
      "execution_count": null,
      "outputs": []
    },
    {
      "cell_type": "code",
      "metadata": {
        "id": "ap3TJjjJXXsM"
      },
      "source": [
        ""
      ],
      "execution_count": null,
      "outputs": []
    },
    {
      "cell_type": "markdown",
      "metadata": {
        "id": "Lqa0sTU5-g0n"
      },
      "source": [
        "## Formating the data\n",
        "\n"
      ]
    },
    {
      "cell_type": "code",
      "metadata": {
        "colab": {
          "base_uri": "https://localhost:8080/"
        },
        "id": "5P7McpOB-GMQ",
        "outputId": "90dd37dd-1fcd-4772-f7a1-f7b395b5fabf"
      },
      "source": [
        ""
      ],
      "execution_count": null,
      "outputs": [
        {
          "output_type": "execute_result",
          "data": {
            "text/plain": [
              "((1000,), (1000,))"
            ]
          },
          "metadata": {
            "tags": []
          },
          "execution_count": 9
        }
      ]
    },
    {
      "cell_type": "code",
      "metadata": {
        "id": "EDQtts0r-ytr"
      },
      "source": [
        "#make a train test split\n"
      ],
      "execution_count": null,
      "outputs": []
    },
    {
      "cell_type": "code",
      "metadata": {
        "id": "4fmLSmfN-GPP"
      },
      "source": [
        "import matplotlib.pyplot as plt\n",
        "\n",
        "plt.figure(figsize=(10,7))\n",
        "plt.scatter(X_train, y_train,s=5, label='training_data')\n",
        "plt.scatter(X_test, y_test,s=5, label='test_data')\n",
        "plt.legend()\n",
        "plt.xlabel(\"timesteps\")\n",
        "plt.ylabel(\"values\")\n",
        "plt.show()"
      ],
      "execution_count": null,
      "outputs": []
    },
    {
      "cell_type": "markdown",
      "metadata": {
        "id": "m2Xu0gwn9x1I"
      },
      "source": [
        "## Setting up a data loader\n"
      ]
    },
    {
      "cell_type": "code",
      "metadata": {
        "id": "-jfioPOuAY4W"
      },
      "source": [
        ""
      ],
      "execution_count": null,
      "outputs": []
    },
    {
      "cell_type": "code",
      "metadata": {
        "id": "JwcMSs2TAwmb"
      },
      "source": [
        ""
      ],
      "execution_count": null,
      "outputs": []
    },
    {
      "cell_type": "code",
      "metadata": {
        "colab": {
          "base_uri": "https://localhost:8080/"
        },
        "id": "HgXjnhEXBWlL",
        "outputId": "e2e71b5a-cec9-49b2-d336-6ab8b0b3dd46"
      },
      "source": [
        ""
      ],
      "execution_count": null,
      "outputs": [
        {
          "output_type": "execute_result",
          "data": {
            "text/plain": [
              "<PrefetchDataset shapes: ((None, None, 1), (None, 1)), types: (tf.float32, tf.float32)>"
            ]
          },
          "metadata": {
            "tags": []
          },
          "execution_count": 14
        }
      ]
    },
    {
      "cell_type": "markdown",
      "metadata": {
        "id": "qWJgmoD52JmL"
      },
      "source": [
        "## Model 1 Dense model"
      ]
    },
    {
      "cell_type": "code",
      "metadata": {
        "id": "BhHc9fEd2YI2"
      },
      "source": [
        "# Dense model\n"
      ],
      "execution_count": null,
      "outputs": []
    },
    {
      "cell_type": "code",
      "metadata": {
        "id": "B-OFOW292YI2"
      },
      "source": [
        ""
      ],
      "execution_count": null,
      "outputs": []
    },
    {
      "cell_type": "code",
      "metadata": {
        "id": "x9Tpdchu2YI2"
      },
      "source": [
        ""
      ],
      "execution_count": null,
      "outputs": []
    },
    {
      "cell_type": "code",
      "metadata": {
        "id": "-cKa8RLu2TSZ"
      },
      "source": [
        ""
      ],
      "execution_count": null,
      "outputs": []
    },
    {
      "cell_type": "code",
      "metadata": {
        "id": "5LauabOt2TSa"
      },
      "source": [
        ""
      ],
      "execution_count": null,
      "outputs": []
    },
    {
      "cell_type": "code",
      "metadata": {
        "id": "4Z214DyC2paW"
      },
      "source": [
        ""
      ],
      "execution_count": null,
      "outputs": []
    },
    {
      "cell_type": "code",
      "metadata": {
        "colab": {
          "base_uri": "https://localhost:8080/"
        },
        "id": "1s28JJ342paX",
        "outputId": "1561060e-a58a-4778-d1b6-392772957f02"
      },
      "source": [
        ""
      ],
      "execution_count": null,
      "outputs": [
        {
          "output_type": "execute_result",
          "data": {
            "text/plain": [
              "TensorShape([190])"
            ]
          },
          "metadata": {
            "tags": []
          },
          "execution_count": 21
        }
      ]
    },
    {
      "cell_type": "code",
      "metadata": {
        "id": "6JDAiwnh2q4N"
      },
      "source": [
        "plt.figure(figsize=(10,7))\n",
        "plt.scatter(X_train, y_train,s=5, label='training_data')\n",
        "plt.scatter(X_test, y_test,s=5, label='test_data')\n",
        "plt.scatter(X_test[:-10], dense_preds,s=5, label='baseline_forecast') # we minus 10 becuase that is the window size\n",
        "\n",
        "plt.legend()\n",
        "plt.xlabel(\"timesteps\")\n",
        "plt.ylabel(\"values\")\n",
        "plt.show()"
      ],
      "execution_count": null,
      "outputs": []
    },
    {
      "cell_type": "markdown",
      "metadata": {
        "id": "-gLLtMoN2_OH"
      },
      "source": [
        "## Model 2 - Conv1D"
      ]
    },
    {
      "cell_type": "code",
      "metadata": {
        "id": "IGtnu44R3GcV"
      },
      "source": [
        "# conv1D model\n"
      ],
      "execution_count": null,
      "outputs": []
    },
    {
      "cell_type": "code",
      "metadata": {
        "id": "ReaBBjsc3GcV"
      },
      "source": [
        ""
      ],
      "execution_count": null,
      "outputs": []
    },
    {
      "cell_type": "code",
      "metadata": {
        "id": "yC3n8QJ63GcV"
      },
      "source": [
        ""
      ],
      "execution_count": null,
      "outputs": []
    },
    {
      "cell_type": "code",
      "metadata": {
        "id": "_pw6Rn2s3GcW"
      },
      "source": [
        ""
      ],
      "execution_count": null,
      "outputs": []
    },
    {
      "cell_type": "code",
      "metadata": {
        "id": "Z2rN4MCY4Fh3"
      },
      "source": [
        "#train the model\n"
      ],
      "execution_count": null,
      "outputs": []
    },
    {
      "cell_type": "code",
      "metadata": {
        "id": "Wt44IC8A4Fh5"
      },
      "source": [
        ""
      ],
      "execution_count": null,
      "outputs": []
    },
    {
      "cell_type": "code",
      "metadata": {
        "id": "z6ci0LnQ4Fh5"
      },
      "source": [
        "# predict\n"
      ],
      "execution_count": null,
      "outputs": []
    },
    {
      "cell_type": "code",
      "metadata": {
        "id": "QNQRgNK60ntW"
      },
      "source": [
        "plt.figure(figsize=(10,7))\n",
        "plt.scatter(X_train, y_train,s=5, label='training_data')\n",
        "plt.scatter(X_test, y_test,s=5, label='test_data')\n",
        "plt.scatter(X_test[:-10], conv_preds,s=5, label='baseline_forecast') # we minus 10 becuase that is the window size\n",
        "\n",
        "plt.legend()\n",
        "plt.xlabel(\"timesteps\")\n",
        "plt.ylabel(\"values\")\n",
        "plt.show()"
      ],
      "execution_count": null,
      "outputs": []
    },
    {
      "cell_type": "markdown",
      "metadata": {
        "id": "oaRoQiKW7rC6"
      },
      "source": [
        "## Model 3 LSTM"
      ]
    },
    {
      "cell_type": "code",
      "metadata": {
        "id": "iZ2ZaKeA7x8h"
      },
      "source": [
        "# LSTM model model\n"
      ],
      "execution_count": null,
      "outputs": []
    },
    {
      "cell_type": "code",
      "metadata": {
        "id": "izQ5hXw67x8i"
      },
      "source": [
        ""
      ],
      "execution_count": null,
      "outputs": []
    },
    {
      "cell_type": "code",
      "metadata": {
        "id": "iaqZoS4F7x8i"
      },
      "source": [
        ""
      ],
      "execution_count": null,
      "outputs": []
    },
    {
      "cell_type": "code",
      "metadata": {
        "id": "K_2S5vyN7x8j"
      },
      "source": [
        ""
      ],
      "execution_count": null,
      "outputs": []
    },
    {
      "cell_type": "code",
      "metadata": {
        "id": "cYRfVw437x8j"
      },
      "source": [
        "# train the model\n"
      ],
      "execution_count": null,
      "outputs": []
    },
    {
      "cell_type": "code",
      "metadata": {
        "id": "UPHj5GMH7x8k"
      },
      "source": [
        ""
      ],
      "execution_count": null,
      "outputs": []
    },
    {
      "cell_type": "code",
      "metadata": {
        "id": "f_k3WAcX7x8k"
      },
      "source": [
        ""
      ],
      "execution_count": null,
      "outputs": []
    },
    {
      "cell_type": "code",
      "metadata": {
        "colab": {
          "base_uri": "https://localhost:8080/",
          "height": 442
        },
        "id": "GcKogCuKDG3A",
        "outputId": "87f5ac8a-7caf-4382-d94d-6c182d13185c"
      },
      "source": [
        "plt.figure(figsize=(10,7))\n",
        "plt.scatter(X_train, y_train,s=5, label='training_data')\n",
        "plt.scatter(X_test, y_test,s=5, label='test_data')\n",
        "plt.scatter(X_test[:-10], lstm_preds,s=5, label='baseline_forecast') # we minus 10 becuase that is the window size\n",
        "\n",
        "plt.legend()\n",
        "plt.xlabel(\"timesteps\")\n",
        "plt.ylabel(\"values\")\n",
        "plt.show()"
      ],
      "execution_count": null,
      "outputs": [
        {
          "output_type": "display_data",
          "data": {
            "image/png": "[encoded data removed]",
            "text/plain": [
              "<Figure size 720x504 with 1 Axes>"
            ]
          },
          "metadata": {
            "tags": [],
            "needs_background": "light"
          }
        }
      ]
    },
    {
      "cell_type": "code",
      "metadata": {
        "id": "akIN4dLsDKRN"
      },
      "source": [
        "## Add in comparing on different Loss functions"
      ],
      "execution_count": null,
      "outputs": []
    }
  ]
}