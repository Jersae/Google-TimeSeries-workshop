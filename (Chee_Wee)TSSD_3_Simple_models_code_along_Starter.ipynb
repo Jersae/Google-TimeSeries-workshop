{
  "nbformat": 4,
  "nbformat_minor": 0,
  "metadata": {
    "colab": {
      "name": "(Chee Wee)TSSD 3 Simple models - code along Starter.ipynb",
      "provenance": [],
      "collapsed_sections": [],
      "include_colab_link": true
    },
    "kernelspec": {
      "name": "python3",
      "display_name": "Python 3"
    },
    "language_info": {
      "name": "python"
    },
    "accelerator": "GPU"
  },
  "cells": [
    {
      "cell_type": "markdown",
      "metadata": {
        "id": "view-in-github",
        "colab_type": "text"
      },
      "source": [
        "<a href=\"https://colab.research.google.com/github/Jersae/Google-TimeSeries-workshop/blob/main/(Chee_Wee)TSSD_3_Simple_models_code_along_Starter.ipynb\" target=\"_parent\"><img src=\"https://colab.research.google.com/assets/colab-badge.svg\" alt=\"Open In Colab\"/></a>"
      ]
    },
    {
      "cell_type": "code",
      "metadata": {
        "id": "lAY2ClAgzkqP"
      },
      "source": [
        ""
      ],
      "execution_count": null,
      "outputs": []
    },
    {
      "cell_type": "code",
      "metadata": {
        "id": "QtzDcf-FuWpx"
      },
      "source": [
        ""
      ],
      "execution_count": null,
      "outputs": []
    },
    {
      "cell_type": "markdown",
      "metadata": {
        "id": "093L7vmn0FvY"
      },
      "source": [
        "# 3 Simple Models Code along\n",
        "\n",
        "- Dense Model  \n",
        "- Conv1D Model  \n",
        "- LSTM Model  "
      ]
    },
    {
      "cell_type": "markdown",
      "metadata": {
        "id": "V5kYTWTu06X5"
      },
      "source": [
        "### Imports"
      ]
    },
    {
      "cell_type": "code",
      "metadata": {
        "id": "9guRBt4W9qye"
      },
      "source": [
        "#imports\n",
        "import pandas as pd\n",
        "import numpy as np\n",
        "import tensorflow as tf\n",
        "from tensorflow.keras.layers import Input, Flatten, Dense, Conv1D, GlobalAveragePooling1D, LSTM"
      ],
      "execution_count": 80,
      "outputs": []
    },
    {
      "cell_type": "markdown",
      "metadata": {
        "id": "TqNsMd1n9qyh"
      },
      "source": [
        "## Getting the data\n",
        "\n",
        "M4 dataset\n",
        "\n",
        "https://www.kaggle.com/yogesh94/m4-forecasting-competition-dataset"
      ]
    },
    {
      "cell_type": "code",
      "metadata": {
        "id": "OINz9WX99qyi",
        "colab": {
          "base_uri": "https://localhost:8080/"
        },
        "outputId": "2dbb439e-66f4-4f4b-d605-9b5e00239b7c"
      },
      "source": [
        "!wget -q https://www.dropbox.com/s/vtvrem02pby4hhp/m4_dataset.zip\n",
        "!unzip -q m4_dataset.zip"
      ],
      "execution_count": 2,
      "outputs": [
        {
          "output_type": "stream",
          "text": [
            "replace Daily-test.csv? [y]es, [n]o, [A]ll, [N]one, [r]ename: y\n",
            "replace Daily-train.csv? [y]es, [n]o, [A]ll, [N]one, [r]ename: y\n",
            "replace Hourly-test.csv? [y]es, [n]o, [A]ll, [N]one, [r]ename: y\n",
            "replace Hourly-train.csv? [y]es, [n]o, [A]ll, [N]one, [r]ename: y\n",
            "replace Monthly-test.csv? [y]es, [n]o, [A]ll, [N]one, [r]ename: y\n",
            "replace Monthly-train.csv? [y]es, [n]o, [A]ll, [N]one, [r]ename: y\n",
            "replace Quarterly-test.csv? [y]es, [n]o, [A]ll, [N]one, [r]ename: y\n",
            "replace Quarterly-train.csv? [y]es, [n]o, [A]ll, [N]one, [r]ename: y\n",
            "replace Weekly-test.csv? [y]es, [n]o, [A]ll, [N]one, [r]ename: y\n",
            "replace Weekly-train.csv? [y]es, [n]o, [A]ll, [N]one, [r]ename: y\n",
            "replace Yearly-test.csv? [y]es, [n]o, [A]ll, [N]one, [r]ename: y\n",
            "replace Yearly-train.csv? [y]es, [n]o, [A]ll, [N]one, [r]ename: y\n",
            "replace m4_info.csv? [y]es, [n]o, [A]ll, [N]one, [r]ename: y\n"
          ],
          "name": "stdout"
        }
      ]
    },
    {
      "cell_type": "code",
      "metadata": {
        "colab": {
          "base_uri": "https://localhost:8080/"
        },
        "id": "pIshflYwwTbR",
        "outputId": "1270faf7-b743-403d-e550-1b953ba59a8f"
      },
      "source": [
        "ls"
      ],
      "execution_count": 4,
      "outputs": [
        {
          "output_type": "stream",
          "text": [
            "Daily-test.csv    m4_dataset.zip    Monthly-train.csv    Weekly-test.csv\n",
            "Daily-train.csv   m4_dataset.zip.1  Quarterly-test.csv   Weekly-train.csv\n",
            "Hourly-test.csv   m4_info.csv       Quarterly-train.csv  Yearly-test.csv\n",
            "Hourly-train.csv  Monthly-test.csv  \u001b[0m\u001b[01;34msample_data\u001b[0m/         Yearly-train.csv\n"
          ],
          "name": "stdout"
        }
      ]
    },
    {
      "cell_type": "code",
      "metadata": {
        "id": "vzNupgeLXXSu"
      },
      "source": [
        "days = pd.read_csv('./Daily-train.csv')"
      ],
      "execution_count": 8,
      "outputs": []
    },
    {
      "cell_type": "code",
      "metadata": {
        "id": "noOils9IXXa5",
        "colab": {
          "base_uri": "https://localhost:8080/",
          "height": 247
        },
        "outputId": "5a4ab3b6-03bb-434a-e99e-ec1fde1604e3"
      },
      "source": [
        "days.head()"
      ],
      "execution_count": 9,
      "outputs": [
        {
          "output_type": "execute_result",
          "data": {
            "text/html": [
              "<div>\n",
              "<style scoped>\n",
              "    .dataframe tbody tr th:only-of-type {\n",
              "        vertical-align: middle;\n",
              "    }\n",
              "\n",
              "    .dataframe tbody tr th {\n",
              "        vertical-align: top;\n",
              "    }\n",
              "\n",
              "    .dataframe thead th {\n",
              "        text-align: right;\n",
              "    }\n",
              "</style>\n",
              "<table border=\"1\" class=\"dataframe\">\n",
              "  <thead>\n",
              "    <tr style=\"text-align: right;\">\n",
              "      <th></th>\n",
              "      <th>V1</th>\n",
              "      <th>V2</th>\n",
              "      <th>V3</th>\n",
              "      <th>V4</th>\n",
              "      <th>V5</th>\n",
              "      <th>V6</th>\n",
              "      <th>V7</th>\n",
              "      <th>V8</th>\n",
              "      <th>V9</th>\n",
              "      <th>V10</th>\n",
              "      <th>V11</th>\n",
              "      <th>V12</th>\n",
              "      <th>V13</th>\n",
              "      <th>V14</th>\n",
              "      <th>V15</th>\n",
              "      <th>V16</th>\n",
              "      <th>V17</th>\n",
              "      <th>V18</th>\n",
              "      <th>V19</th>\n",
              "      <th>V20</th>\n",
              "      <th>V21</th>\n",
              "      <th>V22</th>\n",
              "      <th>V23</th>\n",
              "      <th>V24</th>\n",
              "      <th>V25</th>\n",
              "      <th>V26</th>\n",
              "      <th>V27</th>\n",
              "      <th>V28</th>\n",
              "      <th>V29</th>\n",
              "      <th>V30</th>\n",
              "      <th>V31</th>\n",
              "      <th>V32</th>\n",
              "      <th>V33</th>\n",
              "      <th>V34</th>\n",
              "      <th>V35</th>\n",
              "      <th>V36</th>\n",
              "      <th>V37</th>\n",
              "      <th>V38</th>\n",
              "      <th>V39</th>\n",
              "      <th>V40</th>\n",
              "      <th>...</th>\n",
              "      <th>V9881</th>\n",
              "      <th>V9882</th>\n",
              "      <th>V9883</th>\n",
              "      <th>V9884</th>\n",
              "      <th>V9885</th>\n",
              "      <th>V9886</th>\n",
              "      <th>V9887</th>\n",
              "      <th>V9888</th>\n",
              "      <th>V9889</th>\n",
              "      <th>V9890</th>\n",
              "      <th>V9891</th>\n",
              "      <th>V9892</th>\n",
              "      <th>V9893</th>\n",
              "      <th>V9894</th>\n",
              "      <th>V9895</th>\n",
              "      <th>V9896</th>\n",
              "      <th>V9897</th>\n",
              "      <th>V9898</th>\n",
              "      <th>V9899</th>\n",
              "      <th>V9900</th>\n",
              "      <th>V9901</th>\n",
              "      <th>V9902</th>\n",
              "      <th>V9903</th>\n",
              "      <th>V9904</th>\n",
              "      <th>V9905</th>\n",
              "      <th>V9906</th>\n",
              "      <th>V9907</th>\n",
              "      <th>V9908</th>\n",
              "      <th>V9909</th>\n",
              "      <th>V9910</th>\n",
              "      <th>V9911</th>\n",
              "      <th>V9912</th>\n",
              "      <th>V9913</th>\n",
              "      <th>V9914</th>\n",
              "      <th>V9915</th>\n",
              "      <th>V9916</th>\n",
              "      <th>V9917</th>\n",
              "      <th>V9918</th>\n",
              "      <th>V9919</th>\n",
              "      <th>V9920</th>\n",
              "    </tr>\n",
              "  </thead>\n",
              "  <tbody>\n",
              "    <tr>\n",
              "      <th>0</th>\n",
              "      <td>D1</td>\n",
              "      <td>1017.10</td>\n",
              "      <td>1019.30</td>\n",
              "      <td>1017.00</td>\n",
              "      <td>1019.20</td>\n",
              "      <td>1018.70</td>\n",
              "      <td>1015.60</td>\n",
              "      <td>1018.50</td>\n",
              "      <td>1018.30</td>\n",
              "      <td>1018.4</td>\n",
              "      <td>1021.50</td>\n",
              "      <td>1023.00</td>\n",
              "      <td>1023.30</td>\n",
              "      <td>1020.50</td>\n",
              "      <td>1021.40</td>\n",
              "      <td>1018.10</td>\n",
              "      <td>1022.60</td>\n",
              "      <td>1022.60</td>\n",
              "      <td>1021.00</td>\n",
              "      <td>1020.10</td>\n",
              "      <td>1017.00</td>\n",
              "      <td>1019.3</td>\n",
              "      <td>1017.30</td>\n",
              "      <td>1016.10</td>\n",
              "      <td>1017.80</td>\n",
              "      <td>1019.30</td>\n",
              "      <td>1025.10</td>\n",
              "      <td>1024.80</td>\n",
              "      <td>1025.10</td>\n",
              "      <td>1025.10</td>\n",
              "      <td>1022.60</td>\n",
              "      <td>1021.20</td>\n",
              "      <td>1017.20</td>\n",
              "      <td>1041.50</td>\n",
              "      <td>1041.70</td>\n",
              "      <td>1038.90</td>\n",
              "      <td>1041.00</td>\n",
              "      <td>1042.90</td>\n",
              "      <td>1042.10</td>\n",
              "      <td>1043.90</td>\n",
              "      <td>...</td>\n",
              "      <td>NaN</td>\n",
              "      <td>NaN</td>\n",
              "      <td>NaN</td>\n",
              "      <td>NaN</td>\n",
              "      <td>NaN</td>\n",
              "      <td>NaN</td>\n",
              "      <td>NaN</td>\n",
              "      <td>NaN</td>\n",
              "      <td>NaN</td>\n",
              "      <td>NaN</td>\n",
              "      <td>NaN</td>\n",
              "      <td>NaN</td>\n",
              "      <td>NaN</td>\n",
              "      <td>NaN</td>\n",
              "      <td>NaN</td>\n",
              "      <td>NaN</td>\n",
              "      <td>NaN</td>\n",
              "      <td>NaN</td>\n",
              "      <td>NaN</td>\n",
              "      <td>NaN</td>\n",
              "      <td>NaN</td>\n",
              "      <td>NaN</td>\n",
              "      <td>NaN</td>\n",
              "      <td>NaN</td>\n",
              "      <td>NaN</td>\n",
              "      <td>NaN</td>\n",
              "      <td>NaN</td>\n",
              "      <td>NaN</td>\n",
              "      <td>NaN</td>\n",
              "      <td>NaN</td>\n",
              "      <td>NaN</td>\n",
              "      <td>NaN</td>\n",
              "      <td>NaN</td>\n",
              "      <td>NaN</td>\n",
              "      <td>NaN</td>\n",
              "      <td>NaN</td>\n",
              "      <td>NaN</td>\n",
              "      <td>NaN</td>\n",
              "      <td>NaN</td>\n",
              "      <td>NaN</td>\n",
              "    </tr>\n",
              "    <tr>\n",
              "      <th>1</th>\n",
              "      <td>D2</td>\n",
              "      <td>2793.70</td>\n",
              "      <td>2793.80</td>\n",
              "      <td>2803.70</td>\n",
              "      <td>2805.80</td>\n",
              "      <td>2802.30</td>\n",
              "      <td>2795.00</td>\n",
              "      <td>2806.40</td>\n",
              "      <td>2782.20</td>\n",
              "      <td>2780.3</td>\n",
              "      <td>2781.40</td>\n",
              "      <td>2768.40</td>\n",
              "      <td>2779.00</td>\n",
              "      <td>2774.90</td>\n",
              "      <td>2770.00</td>\n",
              "      <td>2780.00</td>\n",
              "      <td>2752.30</td>\n",
              "      <td>2749.90</td>\n",
              "      <td>2748.40</td>\n",
              "      <td>2744.30</td>\n",
              "      <td>2757.30</td>\n",
              "      <td>2754.8</td>\n",
              "      <td>2752.50</td>\n",
              "      <td>2743.80</td>\n",
              "      <td>2763.70</td>\n",
              "      <td>2756.60</td>\n",
              "      <td>2756.30</td>\n",
              "      <td>2767.70</td>\n",
              "      <td>2771.70</td>\n",
              "      <td>2774.90</td>\n",
              "      <td>2770.20</td>\n",
              "      <td>2768.40</td>\n",
              "      <td>2759.20</td>\n",
              "      <td>2760.30</td>\n",
              "      <td>2746.00</td>\n",
              "      <td>2738.50</td>\n",
              "      <td>2713.60</td>\n",
              "      <td>2705.10</td>\n",
              "      <td>2701.80</td>\n",
              "      <td>2706.70</td>\n",
              "      <td>...</td>\n",
              "      <td>NaN</td>\n",
              "      <td>NaN</td>\n",
              "      <td>NaN</td>\n",
              "      <td>NaN</td>\n",
              "      <td>NaN</td>\n",
              "      <td>NaN</td>\n",
              "      <td>NaN</td>\n",
              "      <td>NaN</td>\n",
              "      <td>NaN</td>\n",
              "      <td>NaN</td>\n",
              "      <td>NaN</td>\n",
              "      <td>NaN</td>\n",
              "      <td>NaN</td>\n",
              "      <td>NaN</td>\n",
              "      <td>NaN</td>\n",
              "      <td>NaN</td>\n",
              "      <td>NaN</td>\n",
              "      <td>NaN</td>\n",
              "      <td>NaN</td>\n",
              "      <td>NaN</td>\n",
              "      <td>NaN</td>\n",
              "      <td>NaN</td>\n",
              "      <td>NaN</td>\n",
              "      <td>NaN</td>\n",
              "      <td>NaN</td>\n",
              "      <td>NaN</td>\n",
              "      <td>NaN</td>\n",
              "      <td>NaN</td>\n",
              "      <td>NaN</td>\n",
              "      <td>NaN</td>\n",
              "      <td>NaN</td>\n",
              "      <td>NaN</td>\n",
              "      <td>NaN</td>\n",
              "      <td>NaN</td>\n",
              "      <td>NaN</td>\n",
              "      <td>NaN</td>\n",
              "      <td>NaN</td>\n",
              "      <td>NaN</td>\n",
              "      <td>NaN</td>\n",
              "      <td>NaN</td>\n",
              "    </tr>\n",
              "    <tr>\n",
              "      <th>2</th>\n",
              "      <td>D3</td>\n",
              "      <td>1091.30</td>\n",
              "      <td>1088.50</td>\n",
              "      <td>1085.70</td>\n",
              "      <td>1082.90</td>\n",
              "      <td>1080.10</td>\n",
              "      <td>1077.30</td>\n",
              "      <td>1074.50</td>\n",
              "      <td>1071.70</td>\n",
              "      <td>1068.9</td>\n",
              "      <td>1066.10</td>\n",
              "      <td>1063.30</td>\n",
              "      <td>1060.50</td>\n",
              "      <td>1057.70</td>\n",
              "      <td>1054.90</td>\n",
              "      <td>1052.10</td>\n",
              "      <td>1049.30</td>\n",
              "      <td>1046.50</td>\n",
              "      <td>1043.70</td>\n",
              "      <td>1040.90</td>\n",
              "      <td>1038.10</td>\n",
              "      <td>1035.3</td>\n",
              "      <td>1032.50</td>\n",
              "      <td>1029.70</td>\n",
              "      <td>1025.50</td>\n",
              "      <td>1022.70</td>\n",
              "      <td>1019.90</td>\n",
              "      <td>1017.10</td>\n",
              "      <td>1014.30</td>\n",
              "      <td>1011.50</td>\n",
              "      <td>1008.70</td>\n",
              "      <td>1005.90</td>\n",
              "      <td>1003.10</td>\n",
              "      <td>1000.30</td>\n",
              "      <td>997.50</td>\n",
              "      <td>994.70</td>\n",
              "      <td>991.90</td>\n",
              "      <td>989.10</td>\n",
              "      <td>986.30</td>\n",
              "      <td>983.50</td>\n",
              "      <td>...</td>\n",
              "      <td>NaN</td>\n",
              "      <td>NaN</td>\n",
              "      <td>NaN</td>\n",
              "      <td>NaN</td>\n",
              "      <td>NaN</td>\n",
              "      <td>NaN</td>\n",
              "      <td>NaN</td>\n",
              "      <td>NaN</td>\n",
              "      <td>NaN</td>\n",
              "      <td>NaN</td>\n",
              "      <td>NaN</td>\n",
              "      <td>NaN</td>\n",
              "      <td>NaN</td>\n",
              "      <td>NaN</td>\n",
              "      <td>NaN</td>\n",
              "      <td>NaN</td>\n",
              "      <td>NaN</td>\n",
              "      <td>NaN</td>\n",
              "      <td>NaN</td>\n",
              "      <td>NaN</td>\n",
              "      <td>NaN</td>\n",
              "      <td>NaN</td>\n",
              "      <td>NaN</td>\n",
              "      <td>NaN</td>\n",
              "      <td>NaN</td>\n",
              "      <td>NaN</td>\n",
              "      <td>NaN</td>\n",
              "      <td>NaN</td>\n",
              "      <td>NaN</td>\n",
              "      <td>NaN</td>\n",
              "      <td>NaN</td>\n",
              "      <td>NaN</td>\n",
              "      <td>NaN</td>\n",
              "      <td>NaN</td>\n",
              "      <td>NaN</td>\n",
              "      <td>NaN</td>\n",
              "      <td>NaN</td>\n",
              "      <td>NaN</td>\n",
              "      <td>NaN</td>\n",
              "      <td>NaN</td>\n",
              "    </tr>\n",
              "    <tr>\n",
              "      <th>3</th>\n",
              "      <td>D4</td>\n",
              "      <td>1092.00</td>\n",
              "      <td>1078.00</td>\n",
              "      <td>1064.00</td>\n",
              "      <td>1050.00</td>\n",
              "      <td>1036.00</td>\n",
              "      <td>1022.00</td>\n",
              "      <td>1008.00</td>\n",
              "      <td>1092.00</td>\n",
              "      <td>1078.0</td>\n",
              "      <td>1064.00</td>\n",
              "      <td>1050.00</td>\n",
              "      <td>1036.00</td>\n",
              "      <td>1022.00</td>\n",
              "      <td>1092.00</td>\n",
              "      <td>1079.00</td>\n",
              "      <td>1064.00</td>\n",
              "      <td>1050.00</td>\n",
              "      <td>1036.00</td>\n",
              "      <td>1022.00</td>\n",
              "      <td>1092.00</td>\n",
              "      <td>1078.0</td>\n",
              "      <td>1064.00</td>\n",
              "      <td>1092.00</td>\n",
              "      <td>1078.00</td>\n",
              "      <td>1065.00</td>\n",
              "      <td>1092.00</td>\n",
              "      <td>1078.00</td>\n",
              "      <td>1064.00</td>\n",
              "      <td>1050.00</td>\n",
              "      <td>1036.00</td>\n",
              "      <td>1022.00</td>\n",
              "      <td>1092.00</td>\n",
              "      <td>1078.00</td>\n",
              "      <td>1064.00</td>\n",
              "      <td>1050.00</td>\n",
              "      <td>1092.00</td>\n",
              "      <td>1078.00</td>\n",
              "      <td>1064.00</td>\n",
              "      <td>1050.00</td>\n",
              "      <td>...</td>\n",
              "      <td>NaN</td>\n",
              "      <td>NaN</td>\n",
              "      <td>NaN</td>\n",
              "      <td>NaN</td>\n",
              "      <td>NaN</td>\n",
              "      <td>NaN</td>\n",
              "      <td>NaN</td>\n",
              "      <td>NaN</td>\n",
              "      <td>NaN</td>\n",
              "      <td>NaN</td>\n",
              "      <td>NaN</td>\n",
              "      <td>NaN</td>\n",
              "      <td>NaN</td>\n",
              "      <td>NaN</td>\n",
              "      <td>NaN</td>\n",
              "      <td>NaN</td>\n",
              "      <td>NaN</td>\n",
              "      <td>NaN</td>\n",
              "      <td>NaN</td>\n",
              "      <td>NaN</td>\n",
              "      <td>NaN</td>\n",
              "      <td>NaN</td>\n",
              "      <td>NaN</td>\n",
              "      <td>NaN</td>\n",
              "      <td>NaN</td>\n",
              "      <td>NaN</td>\n",
              "      <td>NaN</td>\n",
              "      <td>NaN</td>\n",
              "      <td>NaN</td>\n",
              "      <td>NaN</td>\n",
              "      <td>NaN</td>\n",
              "      <td>NaN</td>\n",
              "      <td>NaN</td>\n",
              "      <td>NaN</td>\n",
              "      <td>NaN</td>\n",
              "      <td>NaN</td>\n",
              "      <td>NaN</td>\n",
              "      <td>NaN</td>\n",
              "      <td>NaN</td>\n",
              "      <td>NaN</td>\n",
              "    </tr>\n",
              "    <tr>\n",
              "      <th>4</th>\n",
              "      <td>D5</td>\n",
              "      <td>2938.63</td>\n",
              "      <td>2956.44</td>\n",
              "      <td>2964.41</td>\n",
              "      <td>2972.41</td>\n",
              "      <td>3014.97</td>\n",
              "      <td>3014.23</td>\n",
              "      <td>3024.08</td>\n",
              "      <td>3031.97</td>\n",
              "      <td>3062.7</td>\n",
              "      <td>3057.19</td>\n",
              "      <td>3063.93</td>\n",
              "      <td>3068.45</td>\n",
              "      <td>3072.98</td>\n",
              "      <td>3431.69</td>\n",
              "      <td>3436.86</td>\n",
              "      <td>3441.45</td>\n",
              "      <td>3446.05</td>\n",
              "      <td>3454.46</td>\n",
              "      <td>3459.42</td>\n",
              "      <td>3463.44</td>\n",
              "      <td>3467.3</td>\n",
              "      <td>3485.64</td>\n",
              "      <td>3475.19</td>\n",
              "      <td>3478.89</td>\n",
              "      <td>3482.34</td>\n",
              "      <td>3486.01</td>\n",
              "      <td>4087.11</td>\n",
              "      <td>4092.18</td>\n",
              "      <td>4096.39</td>\n",
              "      <td>4100.62</td>\n",
              "      <td>4106.51</td>\n",
              "      <td>4111.35</td>\n",
              "      <td>4115.66</td>\n",
              "      <td>4119.77</td>\n",
              "      <td>4139.93</td>\n",
              "      <td>4130.28</td>\n",
              "      <td>4135.06</td>\n",
              "      <td>4139.71</td>\n",
              "      <td>4145.03</td>\n",
              "      <td>...</td>\n",
              "      <td>NaN</td>\n",
              "      <td>NaN</td>\n",
              "      <td>NaN</td>\n",
              "      <td>NaN</td>\n",
              "      <td>NaN</td>\n",
              "      <td>NaN</td>\n",
              "      <td>NaN</td>\n",
              "      <td>NaN</td>\n",
              "      <td>NaN</td>\n",
              "      <td>NaN</td>\n",
              "      <td>NaN</td>\n",
              "      <td>NaN</td>\n",
              "      <td>NaN</td>\n",
              "      <td>NaN</td>\n",
              "      <td>NaN</td>\n",
              "      <td>NaN</td>\n",
              "      <td>NaN</td>\n",
              "      <td>NaN</td>\n",
              "      <td>NaN</td>\n",
              "      <td>NaN</td>\n",
              "      <td>NaN</td>\n",
              "      <td>NaN</td>\n",
              "      <td>NaN</td>\n",
              "      <td>NaN</td>\n",
              "      <td>NaN</td>\n",
              "      <td>NaN</td>\n",
              "      <td>NaN</td>\n",
              "      <td>NaN</td>\n",
              "      <td>NaN</td>\n",
              "      <td>NaN</td>\n",
              "      <td>NaN</td>\n",
              "      <td>NaN</td>\n",
              "      <td>NaN</td>\n",
              "      <td>NaN</td>\n",
              "      <td>NaN</td>\n",
              "      <td>NaN</td>\n",
              "      <td>NaN</td>\n",
              "      <td>NaN</td>\n",
              "      <td>NaN</td>\n",
              "      <td>NaN</td>\n",
              "    </tr>\n",
              "  </tbody>\n",
              "</table>\n",
              "<p>5 rows × 9920 columns</p>\n",
              "</div>"
            ],
            "text/plain": [
              "   V1       V2       V3       V4       V5  ...  V9916  V9917  V9918  V9919  V9920\n",
              "0  D1  1017.10  1019.30  1017.00  1019.20  ...    NaN    NaN    NaN    NaN    NaN\n",
              "1  D2  2793.70  2793.80  2803.70  2805.80  ...    NaN    NaN    NaN    NaN    NaN\n",
              "2  D3  1091.30  1088.50  1085.70  1082.90  ...    NaN    NaN    NaN    NaN    NaN\n",
              "3  D4  1092.00  1078.00  1064.00  1050.00  ...    NaN    NaN    NaN    NaN    NaN\n",
              "4  D5  2938.63  2956.44  2964.41  2972.41  ...    NaN    NaN    NaN    NaN    NaN\n",
              "\n",
              "[5 rows x 9920 columns]"
            ]
          },
          "metadata": {
            "tags": []
          },
          "execution_count": 9
        }
      ]
    },
    {
      "cell_type": "code",
      "metadata": {
        "id": "_krnvV5CXXkU",
        "colab": {
          "base_uri": "https://localhost:8080/",
          "height": 282
        },
        "outputId": "154db323-8445-40be-ccc0-8d466c511ddc"
      },
      "source": [
        "single_day = days.loc[0].transpose()\n",
        "df = pd.DataFrame(single_day).reset_index().drop([0])\n",
        "\n",
        "df[0].plot()"
      ],
      "execution_count": 25,
      "outputs": [
        {
          "output_type": "execute_result",
          "data": {
            "text/plain": [
              "<matplotlib.axes._subplots.AxesSubplot at 0x7feaf6f4b9d0>"
            ]
          },
          "metadata": {
            "tags": []
          },
          "execution_count": 25
        },
        {
          "output_type": "display_data",
          "data": {
            "image/png": "[encoded data removed]",
            "text/plain": [
              "<Figure size 432x288 with 1 Axes>"
            ]
          },
          "metadata": {
            "tags": [],
            "needs_background": "light"
          }
        }
      ]
    },
    {
      "cell_type": "code",
      "metadata": {
        "id": "ap3TJjjJXXsM"
      },
      "source": [
        "df = df.drop(['index'], axis =1)\n",
        "df.columns = ['values']\n",
        "\n",
        "#Take first 1000 data\n",
        "df = df[:1000]"
      ],
      "execution_count": 26,
      "outputs": []
    },
    {
      "cell_type": "markdown",
      "metadata": {
        "id": "Lqa0sTU5-g0n"
      },
      "source": [
        "## Formating the data\n",
        "\n"
      ]
    },
    {
      "cell_type": "code",
      "metadata": {
        "colab": {
          "base_uri": "https://localhost:8080/"
        },
        "id": "5P7McpOB-GMQ",
        "outputId": "f0fde3c1-85bc-4e0f-80dc-d101d918f3fe"
      },
      "source": [
        "#Convert to numpy\n",
        "timesteps = np.array(df.index)\n",
        "values = df['values'].to_numpy()\n",
        "\n",
        "timesteps.shape, values.shape"
      ],
      "execution_count": 27,
      "outputs": [
        {
          "output_type": "execute_result",
          "data": {
            "text/plain": [
              "((1000,), (1000,))"
            ]
          },
          "metadata": {
            "tags": []
          },
          "execution_count": 27
        }
      ]
    },
    {
      "cell_type": "code",
      "metadata": {
        "id": "EDQtts0r-ytr"
      },
      "source": [
        "#make a train test split\n",
        "split = int(len(values) * 0.8)\n",
        "\n",
        "X_train, y_train = timesteps[:split], values[:split]\n",
        "X_test, y_test = timesteps[split:], values[split:]"
      ],
      "execution_count": 157,
      "outputs": []
    },
    {
      "cell_type": "code",
      "metadata": {
        "id": "4fmLSmfN-GPP",
        "colab": {
          "base_uri": "https://localhost:8080/",
          "height": 442
        },
        "outputId": "c1da1294-6689-4634-cb15-a5c0eaeb680f"
      },
      "source": [
        "import matplotlib.pyplot as plt\n",
        "\n",
        "plt.figure(figsize=(10,7))\n",
        "plt.scatter(X_train, y_train,s=5, label='training_data')\n",
        "plt.scatter(X_test, y_test,s=5, label='test_data')\n",
        "plt.legend()\n",
        "plt.xlabel(\"timesteps\")\n",
        "plt.ylabel(\"values\")\n",
        "plt.show()"
      ],
      "execution_count": 158,
      "outputs": [
        {
          "output_type": "display_data",
          "data": {
            "image/png": "[encoded data removed]",
            "text/plain": [
              "<Figure size 720x504 with 1 Axes>"
            ]
          },
          "metadata": {
            "tags": [],
            "needs_background": "light"
          }
        }
      ]
    },
    {
      "cell_type": "markdown",
      "metadata": {
        "id": "m2Xu0gwn9x1I"
      },
      "source": [
        "## Setting up a data loader\n"
      ]
    },
    {
      "cell_type": "code",
      "metadata": {
        "id": "-jfioPOuAY4W"
      },
      "source": [
        "window_size = 10\n",
        "\n",
        "def create_dataset(values, window_size):\n",
        "  #dataset = tf.data.Dataset.from_tensor_slices(tf.constant(values, tf.float32))\n",
        "  dataset = tf.expand_dims(tf.constant(values, tf.float32), axis=1)\n",
        "  dataset = tf.data.Dataset.from_tensor_slices(dataset)\n",
        "  dataset = dataset.window(window_size+1, shift=1, drop_remainder=True)\n",
        "  dataset = dataset.flat_map(lambda window: window.batch(window_size+1))\n",
        "  dataset = dataset.map(lambda window:(window[:-1], window[-1]))\n",
        "  dataset = dataset.batch(32).prefetch(tf.data.AUTOTUNE)\n",
        "  return dataset\n"
      ],
      "execution_count": 159,
      "outputs": []
    },
    {
      "cell_type": "code",
      "metadata": {
        "id": "JwcMSs2TAwmb"
      },
      "source": [
        "train_dataset = create_dataset(y_train, window_size = 10)\n",
        "test_dataset = create_dataset(y_test, window_size = 10)"
      ],
      "execution_count": 160,
      "outputs": []
    },
    {
      "cell_type": "code",
      "metadata": {
        "colab": {
          "base_uri": "https://localhost:8080/"
        },
        "id": "HgXjnhEXBWlL",
        "outputId": "977a5bd1-53b9-4dc6-c5f6-3da879b03fcc"
      },
      "source": [
        "train_dataset, test_dataset"
      ],
      "execution_count": 161,
      "outputs": [
        {
          "output_type": "execute_result",
          "data": {
            "text/plain": [
              "(<PrefetchDataset shapes: ((None, None, 1), (None, 1)), types: (tf.float32, tf.float32)>,\n",
              " <PrefetchDataset shapes: ((None, None, 1), (None, 1)), types: (tf.float32, tf.float32)>)"
            ]
          },
          "metadata": {
            "tags": []
          },
          "execution_count": 161
        }
      ]
    },
    {
      "cell_type": "markdown",
      "metadata": {
        "id": "qWJgmoD52JmL"
      },
      "source": [
        "## Model 1 Dense model"
      ]
    },
    {
      "cell_type": "code",
      "metadata": {
        "id": "BhHc9fEd2YI2"
      },
      "source": [
        "# Dense model\n",
        "\n",
        "Inp = Input(shape=[window_size,1], name='Inp')\n",
        "x = Flatten()(Inp)\n",
        "x = Dense(128, activation='relu',name='Dense_01')(x)\n",
        "x = Dense(128, activation='relu',name='Dense_02')(x)\n",
        "outputs = Dense(1, name='Outputs')(x)"
      ],
      "execution_count": 162,
      "outputs": []
    },
    {
      "cell_type": "code",
      "metadata": {
        "id": "B-OFOW292YI2"
      },
      "source": [
        "model_dense = tf.keras.Model(Inp, outputs, name='baseline_dense')"
      ],
      "execution_count": 163,
      "outputs": []
    },
    {
      "cell_type": "markdown",
      "metadata": {
        "id": "ilQY5FH9A-L-"
      },
      "source": [
        ""
      ]
    },
    {
      "cell_type": "code",
      "metadata": {
        "id": "x9Tpdchu2YI2",
        "colab": {
          "base_uri": "https://localhost:8080/"
        },
        "outputId": "91e83b45-2cce-42e5-af72-2a5b04d857b5"
      },
      "source": [
        "model_dense.summary()"
      ],
      "execution_count": 164,
      "outputs": [
        {
          "output_type": "stream",
          "text": [
            "Model: \"baseline_dense\"\n",
            "_________________________________________________________________\n",
            "Layer (type)                 Output Shape              Param #   \n",
            "=================================================================\n",
            "Inp (InputLayer)             [(None, 10, 1)]           0         \n",
            "_________________________________________________________________\n",
            "flatten_7 (Flatten)          (None, 10)                0         \n",
            "_________________________________________________________________\n",
            "Dense_01 (Dense)             (None, 128)               1408      \n",
            "_________________________________________________________________\n",
            "Dense_02 (Dense)             (None, 128)               16512     \n",
            "_________________________________________________________________\n",
            "Outputs (Dense)              (None, 1)                 129       \n",
            "=================================================================\n",
            "Total params: 18,049\n",
            "Trainable params: 18,049\n",
            "Non-trainable params: 0\n",
            "_________________________________________________________________\n"
          ],
          "name": "stdout"
        }
      ]
    },
    {
      "cell_type": "code",
      "metadata": {
        "id": "-cKa8RLu2TSZ"
      },
      "source": [
        "model_dense.compile(loss='mae', optimizer='Adam', metrics=['mae'])"
      ],
      "execution_count": 165,
      "outputs": []
    },
    {
      "cell_type": "code",
      "metadata": {
        "id": "5LauabOt2TSa",
        "colab": {
          "base_uri": "https://localhost:8080/"
        },
        "outputId": "503dc888-2f25-4abf-9fda-cbd05a0bc066"
      },
      "source": [
        "model_dense.fit(train_dataset, epochs=20)"
      ],
      "execution_count": 166,
      "outputs": [
        {
          "output_type": "stream",
          "text": [
            "Epoch 1/20\n",
            "25/25 [==============================] - 1s 9ms/step - loss: 517.3267 - mae: 517.3267\n",
            "Epoch 2/20\n",
            "25/25 [==============================] - 0s 9ms/step - loss: 18.0744 - mae: 18.0744\n",
            "Epoch 3/20\n",
            "25/25 [==============================] - 0s 9ms/step - loss: 19.5542 - mae: 19.5542\n",
            "Epoch 4/20\n",
            "25/25 [==============================] - 0s 9ms/step - loss: 23.8282 - mae: 23.8282\n",
            "Epoch 5/20\n",
            "25/25 [==============================] - 0s 8ms/step - loss: 13.4029 - mae: 13.4029\n",
            "Epoch 6/20\n",
            "25/25 [==============================] - 0s 9ms/step - loss: 10.7096 - mae: 10.7096\n",
            "Epoch 7/20\n",
            "25/25 [==============================] - 0s 10ms/step - loss: 14.1642 - mae: 14.1642\n",
            "Epoch 8/20\n",
            "25/25 [==============================] - 0s 9ms/step - loss: 10.5683 - mae: 10.5683\n",
            "Epoch 9/20\n",
            "25/25 [==============================] - 0s 9ms/step - loss: 16.2968 - mae: 16.2968\n",
            "Epoch 10/20\n",
            "25/25 [==============================] - 0s 9ms/step - loss: 9.3083 - mae: 9.3083\n",
            "Epoch 11/20\n",
            "25/25 [==============================] - 0s 9ms/step - loss: 9.2351 - mae: 9.2351\n",
            "Epoch 12/20\n",
            "25/25 [==============================] - 0s 8ms/step - loss: 11.8231 - mae: 11.8231\n",
            "Epoch 13/20\n",
            "25/25 [==============================] - 0s 10ms/step - loss: 18.8429 - mae: 18.8429\n",
            "Epoch 14/20\n",
            "25/25 [==============================] - 0s 8ms/step - loss: 12.5764 - mae: 12.5764\n",
            "Epoch 15/20\n",
            "25/25 [==============================] - 0s 9ms/step - loss: 8.5467 - mae: 8.5467\n",
            "Epoch 16/20\n",
            "25/25 [==============================] - 0s 9ms/step - loss: 23.4567 - mae: 23.4567\n",
            "Epoch 17/20\n",
            "25/25 [==============================] - 0s 9ms/step - loss: 11.0057 - mae: 11.0057\n",
            "Epoch 18/20\n",
            "25/25 [==============================] - 0s 9ms/step - loss: 7.7919 - mae: 7.7919\n",
            "Epoch 19/20\n",
            "25/25 [==============================] - 0s 9ms/step - loss: 24.0668 - mae: 24.0668\n",
            "Epoch 20/20\n",
            "25/25 [==============================] - 0s 9ms/step - loss: 13.9239 - mae: 13.9239\n"
          ],
          "name": "stdout"
        },
        {
          "output_type": "execute_result",
          "data": {
            "text/plain": [
              "<tensorflow.python.keras.callbacks.History at 0x7fea028ae050>"
            ]
          },
          "metadata": {
            "tags": []
          },
          "execution_count": 166
        }
      ]
    },
    {
      "cell_type": "code",
      "metadata": {
        "id": "4Z214DyC2paW",
        "colab": {
          "base_uri": "https://localhost:8080/"
        },
        "outputId": "43164a5c-52b8-4542-c999-cd640e82e524"
      },
      "source": [
        "model_dense.evaluate(test_dataset)"
      ],
      "execution_count": 167,
      "outputs": [
        {
          "output_type": "stream",
          "text": [
            "6/6 [==============================] - 0s 10ms/step - loss: 41.7257 - mae: 41.7257\n"
          ],
          "name": "stdout"
        },
        {
          "output_type": "execute_result",
          "data": {
            "text/plain": [
              "[41.72565841674805, 41.72565841674805]"
            ]
          },
          "metadata": {
            "tags": []
          },
          "execution_count": 167
        }
      ]
    },
    {
      "cell_type": "code",
      "metadata": {
        "colab": {
          "base_uri": "https://localhost:8080/"
        },
        "id": "1s28JJ342paX",
        "outputId": "393aaf00-bd0c-43c7-a2c8-648c7c90d877"
      },
      "source": [
        "dense_preds = tf.squeeze(model_dense.predict(test_dataset))\n",
        "dense_preds.shape"
      ],
      "execution_count": 168,
      "outputs": [
        {
          "output_type": "execute_result",
          "data": {
            "text/plain": [
              "TensorShape([190])"
            ]
          },
          "metadata": {
            "tags": []
          },
          "execution_count": 168
        }
      ]
    },
    {
      "cell_type": "code",
      "metadata": {
        "id": "6JDAiwnh2q4N",
        "colab": {
          "base_uri": "https://localhost:8080/",
          "height": 442
        },
        "outputId": "f4abe473-0dfa-4808-dabd-7dc579d9842b"
      },
      "source": [
        "plt.figure(figsize=(10,7))\n",
        "plt.scatter(X_train, y_train,s=5, label='training_data')\n",
        "plt.scatter(X_test, y_test,s=5, label='test_data')\n",
        "plt.scatter(X_test[:-10], dense_preds,s=5, label='baseline_forecast') # we minus 10 becuase that is the window size\n",
        "\n",
        "plt.legend()\n",
        "plt.xlabel(\"timesteps\")\n",
        "plt.ylabel(\"values\")\n",
        "plt.show()"
      ],
      "execution_count": 169,
      "outputs": [
        {
          "output_type": "display_data",
          "data": {
            "image/png": "[encoded data removed]",
            "text/plain": [
              "<Figure size 720x504 with 1 Axes>"
            ]
          },
          "metadata": {
            "tags": [],
            "needs_background": "light"
          }
        }
      ]
    },
    {
      "cell_type": "markdown",
      "metadata": {
        "id": "-gLLtMoN2_OH"
      },
      "source": [
        "## Model 2 - Conv1D"
      ]
    },
    {
      "cell_type": "code",
      "metadata": {
        "id": "IGtnu44R3GcV"
      },
      "source": [
        "# conv1D model\n",
        "Inp = Input(shape=[None,1],name='Input')\n",
        "x = Conv1D(64, kernel_size=5, activation='relu', name='Conv1d')(Inp)\n",
        "x= GlobalAveragePooling1D(name='GlobalPolling')(x)\n",
        "outputs = Dense(1, name='Outputs')(x)"
      ],
      "execution_count": 170,
      "outputs": []
    },
    {
      "cell_type": "code",
      "metadata": {
        "id": "ReaBBjsc3GcV"
      },
      "source": [
        "model_conv = tf.keras.Model(Inp, outputs, name='Baseline_conv')"
      ],
      "execution_count": 171,
      "outputs": []
    },
    {
      "cell_type": "code",
      "metadata": {
        "id": "yC3n8QJ63GcV",
        "colab": {
          "base_uri": "https://localhost:8080/"
        },
        "outputId": "a23e893b-fe95-4042-cf54-796b103c9420"
      },
      "source": [
        "model_conv.summary()"
      ],
      "execution_count": 172,
      "outputs": [
        {
          "output_type": "stream",
          "text": [
            "Model: \"Baseline_conv\"\n",
            "_________________________________________________________________\n",
            "Layer (type)                 Output Shape              Param #   \n",
            "=================================================================\n",
            "Input (InputLayer)           [(None, None, 1)]         0         \n",
            "_________________________________________________________________\n",
            "Conv1d (Conv1D)              (None, None, 64)          384       \n",
            "_________________________________________________________________\n",
            "GlobalPolling (GlobalAverage (None, 64)                0         \n",
            "_________________________________________________________________\n",
            "Outputs (Dense)              (None, 1)                 65        \n",
            "=================================================================\n",
            "Total params: 449\n",
            "Trainable params: 449\n",
            "Non-trainable params: 0\n",
            "_________________________________________________________________\n"
          ],
          "name": "stdout"
        }
      ]
    },
    {
      "cell_type": "code",
      "metadata": {
        "id": "_pw6Rn2s3GcW"
      },
      "source": [
        "model_conv.compile(loss='mae', optimizer='Adam', metrics=['mae'])"
      ],
      "execution_count": 173,
      "outputs": []
    },
    {
      "cell_type": "code",
      "metadata": {
        "id": "Z2rN4MCY4Fh3",
        "colab": {
          "base_uri": "https://localhost:8080/"
        },
        "outputId": "abc1e503-4f0e-47ea-b02d-2c29df4ea216"
      },
      "source": [
        "#train the model\n",
        "model_conv.fit(train_dataset, epochs=20)"
      ],
      "execution_count": 174,
      "outputs": [
        {
          "output_type": "stream",
          "text": [
            "Epoch 1/20\n",
            "25/25 [==============================] - 1s 7ms/step - loss: 1030.1762 - mae: 1030.1762\n",
            "Epoch 2/20\n",
            "25/25 [==============================] - 0s 7ms/step - loss: 218.2058 - mae: 218.2058\n",
            "Epoch 3/20\n",
            "25/25 [==============================] - 0s 8ms/step - loss: 25.8871 - mae: 25.8871\n",
            "Epoch 4/20\n",
            "25/25 [==============================] - 0s 9ms/step - loss: 9.8831 - mae: 9.8831\n",
            "Epoch 5/20\n",
            "25/25 [==============================] - 0s 9ms/step - loss: 11.5153 - mae: 11.5153\n",
            "Epoch 6/20\n",
            "25/25 [==============================] - 0s 9ms/step - loss: 10.1421 - mae: 10.1421\n",
            "Epoch 7/20\n",
            "25/25 [==============================] - 0s 8ms/step - loss: 9.5190 - mae: 9.5190\n",
            "Epoch 8/20\n",
            "25/25 [==============================] - 0s 9ms/step - loss: 10.4445 - mae: 10.4445\n",
            "Epoch 9/20\n",
            "25/25 [==============================] - 0s 8ms/step - loss: 10.0848 - mae: 10.0848\n",
            "Epoch 10/20\n",
            "25/25 [==============================] - 0s 8ms/step - loss: 10.5767 - mae: 10.5767\n",
            "Epoch 11/20\n",
            "25/25 [==============================] - 0s 9ms/step - loss: 10.1033 - mae: 10.1033\n",
            "Epoch 12/20\n",
            "25/25 [==============================] - 0s 8ms/step - loss: 10.2606 - mae: 10.2606\n",
            "Epoch 13/20\n",
            "25/25 [==============================] - 0s 9ms/step - loss: 10.0361 - mae: 10.0361\n",
            "Epoch 14/20\n",
            "25/25 [==============================] - 0s 10ms/step - loss: 10.7522 - mae: 10.7522\n",
            "Epoch 15/20\n",
            "25/25 [==============================] - 0s 8ms/step - loss: 9.9164 - mae: 9.9164\n",
            "Epoch 16/20\n",
            "25/25 [==============================] - 0s 7ms/step - loss: 11.1274 - mae: 11.1274\n",
            "Epoch 17/20\n",
            "25/25 [==============================] - 0s 9ms/step - loss: 9.9346 - mae: 9.9346\n",
            "Epoch 18/20\n",
            "25/25 [==============================] - 0s 9ms/step - loss: 11.1210 - mae: 11.1210\n",
            "Epoch 19/20\n",
            "25/25 [==============================] - 0s 10ms/step - loss: 9.7869 - mae: 9.7869\n",
            "Epoch 20/20\n",
            "25/25 [==============================] - 0s 9ms/step - loss: 10.9908 - mae: 10.9908\n"
          ],
          "name": "stdout"
        },
        {
          "output_type": "execute_result",
          "data": {
            "text/plain": [
              "<tensorflow.python.keras.callbacks.History at 0x7fea00ef2290>"
            ]
          },
          "metadata": {
            "tags": []
          },
          "execution_count": 174
        }
      ]
    },
    {
      "cell_type": "code",
      "metadata": {
        "id": "Wt44IC8A4Fh5",
        "colab": {
          "base_uri": "https://localhost:8080/"
        },
        "outputId": "23f97b81-0603-467c-eba8-5c8d1fb78451"
      },
      "source": [
        "model_conv.evaluate(test_dataset)"
      ],
      "execution_count": 175,
      "outputs": [
        {
          "output_type": "stream",
          "text": [
            "6/6 [==============================] - 0s 14ms/step - loss: 14.0976 - mae: 14.0976\n"
          ],
          "name": "stdout"
        },
        {
          "output_type": "execute_result",
          "data": {
            "text/plain": [
              "[14.097633361816406, 14.097633361816406]"
            ]
          },
          "metadata": {
            "tags": []
          },
          "execution_count": 175
        }
      ]
    },
    {
      "cell_type": "code",
      "metadata": {
        "id": "z6ci0LnQ4Fh5",
        "colab": {
          "base_uri": "https://localhost:8080/"
        },
        "outputId": "41f800db-3d98-4f7f-94bb-3094324ea7d0"
      },
      "source": [
        "# predict\n",
        "conv_preds = tf.squeeze(model_conv.predict(test_dataset))\n",
        "conv_preds.shape"
      ],
      "execution_count": 176,
      "outputs": [
        {
          "output_type": "execute_result",
          "data": {
            "text/plain": [
              "TensorShape([190])"
            ]
          },
          "metadata": {
            "tags": []
          },
          "execution_count": 176
        }
      ]
    },
    {
      "cell_type": "code",
      "metadata": {
        "id": "QNQRgNK60ntW",
        "colab": {
          "base_uri": "https://localhost:8080/",
          "height": 442
        },
        "outputId": "fca1ef90-9966-4796-f024-b11ac466b93e"
      },
      "source": [
        "plt.figure(figsize=(10,7))\n",
        "plt.scatter(X_train, y_train,s=5, label='training_data')\n",
        "plt.scatter(X_test, y_test,s=5, label='test_data')\n",
        "plt.scatter(X_test[:-10], conv_preds,s=5, label='baseline_forecast') # we minus 10 becuase that is the window size\n",
        "\n",
        "plt.legend()\n",
        "plt.xlabel(\"timesteps\")\n",
        "plt.ylabel(\"values\")\n",
        "plt.show()"
      ],
      "execution_count": 177,
      "outputs": [
        {
          "output_type": "display_data",
          "data": {
            "image/png": "[encoded data removed]",
            "text/plain": [
              "<Figure size 720x504 with 1 Axes>"
            ]
          },
          "metadata": {
            "tags": [],
            "needs_background": "light"
          }
        }
      ]
    },
    {
      "cell_type": "markdown",
      "metadata": {
        "id": "oaRoQiKW7rC6"
      },
      "source": [
        "## Model 3 LSTM"
      ]
    },
    {
      "cell_type": "code",
      "metadata": {
        "id": "iZ2ZaKeA7x8h",
        "colab": {
          "base_uri": "https://localhost:8080/"
        },
        "outputId": "2e470dd3-a12a-4e9d-fa1b-aedacaa15793"
      },
      "source": [
        "# LSTM model model\n",
        "Inp = Input(shape=[None, 1], name='Inputs')\n",
        "x = LSTM(64, return_sequences=True, activation='relu', name='LSTM_01')(Inp)\n",
        "x = LSTM(64, return_sequences=False, activation='relu', name='LSTM_02')(x)\n",
        "outputs = Dense(1, name='Output')(x)"
      ],
      "execution_count": 198,
      "outputs": [
        {
          "output_type": "stream",
          "text": [
            "WARNING:tensorflow:Layer LSTM_01 will not use cuDNN kernel since it doesn't meet the cuDNN kernel criteria. It will use generic GPU kernel as fallback when running on GPU\n",
            "WARNING:tensorflow:Layer LSTM_02 will not use cuDNN kernel since it doesn't meet the cuDNN kernel criteria. It will use generic GPU kernel as fallback when running on GPU\n"
          ],
          "name": "stdout"
        }
      ]
    },
    {
      "cell_type": "code",
      "metadata": {
        "id": "izQ5hXw67x8i"
      },
      "source": [
        "model_lstm = tf.keras.Model(Inp, outputs, name='baseline_lstm')"
      ],
      "execution_count": 199,
      "outputs": []
    },
    {
      "cell_type": "code",
      "metadata": {
        "id": "iaqZoS4F7x8i"
      },
      "source": [
        "model_lstm.compile(loss='mae', optimizer='adam',metrics=['mae','mape'])"
      ],
      "execution_count": 200,
      "outputs": []
    },
    {
      "cell_type": "code",
      "metadata": {
        "id": "K_2S5vyN7x8j",
        "colab": {
          "base_uri": "https://localhost:8080/"
        },
        "outputId": "091d3671-9f64-4eb3-b1d2-58b887ffe279"
      },
      "source": [
        "model_lstm.summary()"
      ],
      "execution_count": 201,
      "outputs": [
        {
          "output_type": "stream",
          "text": [
            "Model: \"baseline_lstm\"\n",
            "_________________________________________________________________\n",
            "Layer (type)                 Output Shape              Param #   \n",
            "=================================================================\n",
            "Inputs (InputLayer)          [(None, None, 1)]         0         \n",
            "_________________________________________________________________\n",
            "LSTM_01 (LSTM)               (None, None, 64)          16896     \n",
            "_________________________________________________________________\n",
            "LSTM_02 (LSTM)               (None, 64)                33024     \n",
            "_________________________________________________________________\n",
            "Output (Dense)               (None, 1)                 65        \n",
            "=================================================================\n",
            "Total params: 49,985\n",
            "Trainable params: 49,985\n",
            "Non-trainable params: 0\n",
            "_________________________________________________________________\n"
          ],
          "name": "stdout"
        }
      ]
    },
    {
      "cell_type": "code",
      "metadata": {
        "id": "cYRfVw437x8j",
        "colab": {
          "base_uri": "https://localhost:8080/"
        },
        "outputId": "8d579277-dd77-439b-c035-8b9bfb7b23c8"
      },
      "source": [
        "# train the model\n",
        "model_lstm.fit(train_dataset, epochs=20)"
      ],
      "execution_count": 202,
      "outputs": [
        {
          "output_type": "stream",
          "text": [
            "Epoch 1/20\n",
            "25/25 [==============================] - 4s 50ms/step - loss: 773.4449 - mae: 773.4449 - mape: 67.8935\n",
            "Epoch 2/20\n",
            "25/25 [==============================] - 1s 52ms/step - loss: 146.5250 - mae: 146.5250 - mape: 14.0076\n",
            "Epoch 3/20\n",
            "25/25 [==============================] - 1s 53ms/step - loss: 28.2777 - mae: 28.2777 - mape: 2.5510\n",
            "Epoch 4/20\n",
            "25/25 [==============================] - 1s 49ms/step - loss: 19.7767 - mae: 19.7767 - mape: 1.7817\n",
            "Epoch 5/20\n",
            "25/25 [==============================] - 1s 53ms/step - loss: 19.2880 - mae: 19.2880 - mape: 1.7147\n",
            "Epoch 6/20\n",
            "25/25 [==============================] - 1s 50ms/step - loss: 14.3569 - mae: 14.3569 - mape: 1.2636\n",
            "Epoch 7/20\n",
            "25/25 [==============================] - 1s 52ms/step - loss: 17.4929 - mae: 17.4929 - mape: 1.5370\n",
            "Epoch 8/20\n",
            "25/25 [==============================] - 1s 50ms/step - loss: 21.1553 - mae: 21.1553 - mape: 1.8147\n",
            "Epoch 9/20\n",
            "25/25 [==============================] - 1s 48ms/step - loss: 13.1475 - mae: 13.1475 - mape: 1.1563\n",
            "Epoch 10/20\n",
            "25/25 [==============================] - 1s 49ms/step - loss: 13.2853 - mae: 13.2853 - mape: 1.1560\n",
            "Epoch 11/20\n",
            "25/25 [==============================] - 1s 50ms/step - loss: 13.2931 - mae: 13.2931 - mape: 1.1572\n",
            "Epoch 12/20\n",
            "25/25 [==============================] - 1s 49ms/step - loss: 13.9608 - mae: 13.9608 - mape: 1.2186\n",
            "Epoch 13/20\n",
            "25/25 [==============================] - 1s 50ms/step - loss: 12.8980 - mae: 12.8980 - mape: 1.1122\n",
            "Epoch 14/20\n",
            "25/25 [==============================] - 1s 50ms/step - loss: 14.9492 - mae: 14.9492 - mape: 1.2603\n",
            "Epoch 15/20\n",
            "25/25 [==============================] - 1s 50ms/step - loss: 23.0238 - mae: 23.0238 - mape: 2.0959\n",
            "Epoch 16/20\n",
            "25/25 [==============================] - 1s 50ms/step - loss: 16.0931 - mae: 16.0931 - mape: 1.4283\n",
            "Epoch 17/20\n",
            "25/25 [==============================] - 1s 49ms/step - loss: 15.9480 - mae: 15.9480 - mape: 1.3598\n",
            "Epoch 18/20\n",
            "25/25 [==============================] - 1s 48ms/step - loss: 16.6963 - mae: 16.6963 - mape: 1.5112\n",
            "Epoch 19/20\n",
            "25/25 [==============================] - 1s 51ms/step - loss: 16.4858 - mae: 16.4858 - mape: 1.4708\n",
            "Epoch 20/20\n",
            "25/25 [==============================] - 1s 49ms/step - loss: 11.0720 - mae: 11.0720 - mape: 0.9670\n"
          ],
          "name": "stdout"
        },
        {
          "output_type": "execute_result",
          "data": {
            "text/plain": [
              "<tensorflow.python.keras.callbacks.History at 0x7fe9fb498150>"
            ]
          },
          "metadata": {
            "tags": []
          },
          "execution_count": 202
        }
      ]
    },
    {
      "cell_type": "code",
      "metadata": {
        "id": "UPHj5GMH7x8k",
        "colab": {
          "base_uri": "https://localhost:8080/"
        },
        "outputId": "6649f055-a032-431d-eb0b-a1e3db43d3da"
      },
      "source": [
        "model_lstm.evaluate(test_dataset)"
      ],
      "execution_count": 203,
      "outputs": [
        {
          "output_type": "stream",
          "text": [
            "6/6 [==============================] - 0s 14ms/step - loss: 16.2664 - mae: 16.2664 - mape: 0.8511\n"
          ],
          "name": "stdout"
        },
        {
          "output_type": "execute_result",
          "data": {
            "text/plain": [
              "[16.266353607177734, 16.266353607177734, 0.851051390171051]"
            ]
          },
          "metadata": {
            "tags": []
          },
          "execution_count": 203
        }
      ]
    },
    {
      "cell_type": "code",
      "metadata": {
        "id": "f_k3WAcX7x8k",
        "colab": {
          "base_uri": "https://localhost:8080/"
        },
        "outputId": "45adae19-c0da-4b82-a79d-88c906374fbe"
      },
      "source": [
        "lstm_preds = tf.squeeze(model_lstm.predict(test_dataset))\n",
        "lstm_preds.shape"
      ],
      "execution_count": 204,
      "outputs": [
        {
          "output_type": "execute_result",
          "data": {
            "text/plain": [
              "TensorShape([190])"
            ]
          },
          "metadata": {
            "tags": []
          },
          "execution_count": 204
        }
      ]
    },
    {
      "cell_type": "code",
      "metadata": {
        "colab": {
          "base_uri": "https://localhost:8080/",
          "height": 442
        },
        "id": "GcKogCuKDG3A",
        "outputId": "75b20070-e403-430b-d570-9af058e2f9a4"
      },
      "source": [
        "plt.figure(figsize=(10,7))\n",
        "plt.scatter(X_train, y_train,s=5, label='training_data')\n",
        "plt.scatter(X_test, y_test,s=5, label='test_data')\n",
        "plt.scatter(X_test[:-10], lstm_preds,s=5, label='baseline_forecast') # we minus 10 becuase that is the window size\n",
        "\n",
        "plt.legend()\n",
        "plt.xlabel(\"timesteps\")\n",
        "plt.ylabel(\"values\")\n",
        "plt.show()"
      ],
      "execution_count": 205,
      "outputs": [
        {
          "output_type": "display_data",
          "data": {
            "image/png": "[encoded data removed]",
            "text/plain": [
              "<Figure size 720x504 with 1 Axes>"
            ]
          },
          "metadata": {
            "tags": [],
            "needs_background": "light"
          }
        }
      ]
    },
    {
      "cell_type": "code",
      "metadata": {
        "id": "akIN4dLsDKRN"
      },
      "source": [
        "## Add in comparing on different Loss functions\n",
        "def evaluate_metrics(y_true, y_preds, use_window=True, window_size=10):\n",
        "  if use_window:\n",
        "    y_true = y_true[window_size:]\n",
        "\n",
        "  #convert to tf tensors\n",
        "  y_true = tf.constant(y_true, tf.float32)\n",
        "  y_preds = tf.constant(y_preds, tf.float32)\n",
        "\n",
        "  #calculate loss metrics\n",
        "  mae = tf.keras.metrics.mean_absolute_error(y_true, y_preds)\n",
        "  mse = tf.keras.metrics.mean_squared_error(y_true, y_preds)\n",
        "  mape = tf.keras.metrics.mean_absolute_percentage_error(y_true, y_preds)\n",
        "\n",
        "  return {\"mae\": mae.numpy(), \"mse\": mse.numpy(), \"mape\": mape.numpy()}"
      ],
      "execution_count": 206,
      "outputs": []
    },
    {
      "cell_type": "code",
      "metadata": {
        "colab": {
          "base_uri": "https://localhost:8080/"
        },
        "id": "VCqcVB_9-B1-",
        "outputId": "a9f11a65-e242-47b8-8e93-dcb5b42693bc"
      },
      "source": [
        "evaluate_metrics(y_test, dense_preds)"
      ],
      "execution_count": 207,
      "outputs": [
        {
          "output_type": "execute_result",
          "data": {
            "text/plain": [
              "{'mae': 41.72566, 'mape': 2.1933665, 'mse': 1914.8925}"
            ]
          },
          "metadata": {
            "tags": []
          },
          "execution_count": 207
        }
      ]
    },
    {
      "cell_type": "code",
      "metadata": {
        "colab": {
          "base_uri": "https://localhost:8080/"
        },
        "id": "IVg1YIl9-Phy",
        "outputId": "f1ee40b8-af53-4efd-c7ee-2d9250e698cf"
      },
      "source": [
        "evaluate_metrics(y_test, conv_preds)"
      ],
      "execution_count": 208,
      "outputs": [
        {
          "output_type": "execute_result",
          "data": {
            "text/plain": [
              "{'mae': 14.097633, 'mape': 0.7404177, 'mse': 296.57663}"
            ]
          },
          "metadata": {
            "tags": []
          },
          "execution_count": 208
        }
      ]
    },
    {
      "cell_type": "code",
      "metadata": {
        "colab": {
          "base_uri": "https://localhost:8080/"
        },
        "id": "8rEKBf2K-Qxm",
        "outputId": "472308c7-1ecc-4435-d9ff-1d4655d6f3b5"
      },
      "source": [
        "evaluate_metrics(y_test, lstm_preds)"
      ],
      "execution_count": 209,
      "outputs": [
        {
          "output_type": "execute_result",
          "data": {
            "text/plain": [
              "{'mae': 16.266354, 'mape': 0.8510514, 'mse': 376.72305}"
            ]
          },
          "metadata": {
            "tags": []
          },
          "execution_count": 209
        }
      ]
    }
  ]
}