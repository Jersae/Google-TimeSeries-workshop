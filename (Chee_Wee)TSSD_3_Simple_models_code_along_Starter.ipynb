{
  "nbformat": 4,
  "nbformat_minor": 0,
  "metadata": {
    "colab": {
      "name": "(Chee Wee)TSSD 3 Simple models - code along Starter.ipynb",
      "provenance": [],
      "collapsed_sections": [],
      "include_colab_link": true
    },
    "kernelspec": {
      "name": "python3",
      "display_name": "Python 3"
    },
    "language_info": {
      "name": "python"
    },
    "accelerator": "GPU"
  },
  "cells": [
    {
      "cell_type": "markdown",
      "metadata": {
        "id": "view-in-github",
        "colab_type": "text"
      },
      "source": [
        "<a href=\"https://colab.research.google.com/github/Jersae/Google-TimeSeries-workshop/blob/main/(Chee_Wee)TSSD_3_Simple_models_code_along_Starter.ipynb\" target=\"_parent\"><img src=\"https://colab.research.google.com/assets/colab-badge.svg\" alt=\"Open In Colab\"/></a>"
      ]
    },
    {
      "cell_type": "code",
      "metadata": {
        "id": "lAY2ClAgzkqP"
      },
      "source": [
        ""
      ],
      "execution_count": null,
      "outputs": []
    },
    {
      "cell_type": "code",
      "metadata": {
        "id": "QtzDcf-FuWpx"
      },
      "source": [
        ""
      ],
      "execution_count": null,
      "outputs": []
    },
    {
      "cell_type": "markdown",
      "metadata": {
        "id": "093L7vmn0FvY"
      },
      "source": [
        "# 3 Simple Models Code along\n",
        "\n",
        "- Dense Model  \n",
        "- Conv1D Model  \n",
        "- LSTM Model  "
      ]
    },
    {
      "cell_type": "markdown",
      "metadata": {
        "id": "V5kYTWTu06X5"
      },
      "source": [
        "### Imports"
      ]
    },
    {
      "cell_type": "code",
      "metadata": {
        "id": "9guRBt4W9qye"
      },
      "source": [
        "#imports\n",
        "import pandas as pd\n",
        "import numpy as np\n",
        "import tensorflow as tf\n",
        "from tensorflow.keras.layers import Input, Flatten, Dense, Conv1D, GlobalAveragePooling1D, LSTM, Dropout"
      ],
      "execution_count": 1,
      "outputs": []
    },
    {
      "cell_type": "markdown",
      "metadata": {
        "id": "TqNsMd1n9qyh"
      },
      "source": [
        "## Getting the data\n",
        "\n",
        "M4 dataset\n",
        "\n",
        "https://www.kaggle.com/yogesh94/m4-forecasting-competition-dataset"
      ]
    },
    {
      "cell_type": "code",
      "metadata": {
        "id": "OINz9WX99qyi"
      },
      "source": [
        "!wget -q https://www.dropbox.com/s/vtvrem02pby4hhp/m4_dataset.zip\n",
        "!unzip -q m4_dataset.zip"
      ],
      "execution_count": 2,
      "outputs": []
    },
    {
      "cell_type": "code",
      "metadata": {
        "colab": {
          "base_uri": "https://localhost:8080/"
        },
        "id": "pIshflYwwTbR",
        "outputId": "d2dd5d9e-3f54-4dc4-b1de-dc004bd2ba75"
      },
      "source": [
        "ls"
      ],
      "execution_count": 3,
      "outputs": [
        {
          "output_type": "stream",
          "text": [
            "Daily-test.csv    m4_dataset.zip     Quarterly-test.csv   Weekly-train.csv\n",
            "Daily-train.csv   m4_info.csv        Quarterly-train.csv  Yearly-test.csv\n",
            "Hourly-test.csv   Monthly-test.csv   \u001b[0m\u001b[01;34msample_data\u001b[0m/         Yearly-train.csv\n",
            "Hourly-train.csv  Monthly-train.csv  Weekly-test.csv\n"
          ],
          "name": "stdout"
        }
      ]
    },
    {
      "cell_type": "code",
      "metadata": {
        "id": "vzNupgeLXXSu"
      },
      "source": [
        "days = pd.read_csv('./Daily-train.csv')"
      ],
      "execution_count": 4,
      "outputs": []
    },
    {
      "cell_type": "code",
      "metadata": {
        "id": "noOils9IXXa5",
        "colab": {
          "base_uri": "https://localhost:8080/",
          "height": 247
        },
        "outputId": "875351eb-3d2e-47f5-9e2e-a2fdc0fd901b"
      },
      "source": [
        "days.head()"
      ],
      "execution_count": 5,
      "outputs": [
        {
          "output_type": "execute_result",
          "data": {
            "text/html": [
              "<div>\n",
              "<style scoped>\n",
              "    .dataframe tbody tr th:only-of-type {\n",
              "        vertical-align: middle;\n",
              "    }\n",
              "\n",
              "    .dataframe tbody tr th {\n",
              "        vertical-align: top;\n",
              "    }\n",
              "\n",
              "    .dataframe thead th {\n",
              "        text-align: right;\n",
              "    }\n",
              "</style>\n",
              "<table border=\"1\" class=\"dataframe\">\n",
              "  <thead>\n",
              "    <tr style=\"text-align: right;\">\n",
              "      <th></th>\n",
              "      <th>V1</th>\n",
              "      <th>V2</th>\n",
              "      <th>V3</th>\n",
              "      <th>V4</th>\n",
              "      <th>V5</th>\n",
              "      <th>V6</th>\n",
              "      <th>V7</th>\n",
              "      <th>V8</th>\n",
              "      <th>V9</th>\n",
              "      <th>V10</th>\n",
              "      <th>V11</th>\n",
              "      <th>V12</th>\n",
              "      <th>V13</th>\n",
              "      <th>V14</th>\n",
              "      <th>V15</th>\n",
              "      <th>V16</th>\n",
              "      <th>V17</th>\n",
              "      <th>V18</th>\n",
              "      <th>V19</th>\n",
              "      <th>V20</th>\n",
              "      <th>V21</th>\n",
              "      <th>V22</th>\n",
              "      <th>V23</th>\n",
              "      <th>V24</th>\n",
              "      <th>V25</th>\n",
              "      <th>V26</th>\n",
              "      <th>V27</th>\n",
              "      <th>V28</th>\n",
              "      <th>V29</th>\n",
              "      <th>V30</th>\n",
              "      <th>V31</th>\n",
              "      <th>V32</th>\n",
              "      <th>V33</th>\n",
              "      <th>V34</th>\n",
              "      <th>V35</th>\n",
              "      <th>V36</th>\n",
              "      <th>V37</th>\n",
              "      <th>V38</th>\n",
              "      <th>V39</th>\n",
              "      <th>V40</th>\n",
              "      <th>...</th>\n",
              "      <th>V9881</th>\n",
              "      <th>V9882</th>\n",
              "      <th>V9883</th>\n",
              "      <th>V9884</th>\n",
              "      <th>V9885</th>\n",
              "      <th>V9886</th>\n",
              "      <th>V9887</th>\n",
              "      <th>V9888</th>\n",
              "      <th>V9889</th>\n",
              "      <th>V9890</th>\n",
              "      <th>V9891</th>\n",
              "      <th>V9892</th>\n",
              "      <th>V9893</th>\n",
              "      <th>V9894</th>\n",
              "      <th>V9895</th>\n",
              "      <th>V9896</th>\n",
              "      <th>V9897</th>\n",
              "      <th>V9898</th>\n",
              "      <th>V9899</th>\n",
              "      <th>V9900</th>\n",
              "      <th>V9901</th>\n",
              "      <th>V9902</th>\n",
              "      <th>V9903</th>\n",
              "      <th>V9904</th>\n",
              "      <th>V9905</th>\n",
              "      <th>V9906</th>\n",
              "      <th>V9907</th>\n",
              "      <th>V9908</th>\n",
              "      <th>V9909</th>\n",
              "      <th>V9910</th>\n",
              "      <th>V9911</th>\n",
              "      <th>V9912</th>\n",
              "      <th>V9913</th>\n",
              "      <th>V9914</th>\n",
              "      <th>V9915</th>\n",
              "      <th>V9916</th>\n",
              "      <th>V9917</th>\n",
              "      <th>V9918</th>\n",
              "      <th>V9919</th>\n",
              "      <th>V9920</th>\n",
              "    </tr>\n",
              "  </thead>\n",
              "  <tbody>\n",
              "    <tr>\n",
              "      <th>0</th>\n",
              "      <td>D1</td>\n",
              "      <td>1017.10</td>\n",
              "      <td>1019.30</td>\n",
              "      <td>1017.00</td>\n",
              "      <td>1019.20</td>\n",
              "      <td>1018.70</td>\n",
              "      <td>1015.60</td>\n",
              "      <td>1018.50</td>\n",
              "      <td>1018.30</td>\n",
              "      <td>1018.4</td>\n",
              "      <td>1021.50</td>\n",
              "      <td>1023.00</td>\n",
              "      <td>1023.30</td>\n",
              "      <td>1020.50</td>\n",
              "      <td>1021.40</td>\n",
              "      <td>1018.10</td>\n",
              "      <td>1022.60</td>\n",
              "      <td>1022.60</td>\n",
              "      <td>1021.00</td>\n",
              "      <td>1020.10</td>\n",
              "      <td>1017.00</td>\n",
              "      <td>1019.3</td>\n",
              "      <td>1017.30</td>\n",
              "      <td>1016.10</td>\n",
              "      <td>1017.80</td>\n",
              "      <td>1019.30</td>\n",
              "      <td>1025.10</td>\n",
              "      <td>1024.80</td>\n",
              "      <td>1025.10</td>\n",
              "      <td>1025.10</td>\n",
              "      <td>1022.60</td>\n",
              "      <td>1021.20</td>\n",
              "      <td>1017.20</td>\n",
              "      <td>1041.50</td>\n",
              "      <td>1041.70</td>\n",
              "      <td>1038.90</td>\n",
              "      <td>1041.00</td>\n",
              "      <td>1042.90</td>\n",
              "      <td>1042.10</td>\n",
              "      <td>1043.90</td>\n",
              "      <td>...</td>\n",
              "      <td>NaN</td>\n",
              "      <td>NaN</td>\n",
              "      <td>NaN</td>\n",
              "      <td>NaN</td>\n",
              "      <td>NaN</td>\n",
              "      <td>NaN</td>\n",
              "      <td>NaN</td>\n",
              "      <td>NaN</td>\n",
              "      <td>NaN</td>\n",
              "      <td>NaN</td>\n",
              "      <td>NaN</td>\n",
              "      <td>NaN</td>\n",
              "      <td>NaN</td>\n",
              "      <td>NaN</td>\n",
              "      <td>NaN</td>\n",
              "      <td>NaN</td>\n",
              "      <td>NaN</td>\n",
              "      <td>NaN</td>\n",
              "      <td>NaN</td>\n",
              "      <td>NaN</td>\n",
              "      <td>NaN</td>\n",
              "      <td>NaN</td>\n",
              "      <td>NaN</td>\n",
              "      <td>NaN</td>\n",
              "      <td>NaN</td>\n",
              "      <td>NaN</td>\n",
              "      <td>NaN</td>\n",
              "      <td>NaN</td>\n",
              "      <td>NaN</td>\n",
              "      <td>NaN</td>\n",
              "      <td>NaN</td>\n",
              "      <td>NaN</td>\n",
              "      <td>NaN</td>\n",
              "      <td>NaN</td>\n",
              "      <td>NaN</td>\n",
              "      <td>NaN</td>\n",
              "      <td>NaN</td>\n",
              "      <td>NaN</td>\n",
              "      <td>NaN</td>\n",
              "      <td>NaN</td>\n",
              "    </tr>\n",
              "    <tr>\n",
              "      <th>1</th>\n",
              "      <td>D2</td>\n",
              "      <td>2793.70</td>\n",
              "      <td>2793.80</td>\n",
              "      <td>2803.70</td>\n",
              "      <td>2805.80</td>\n",
              "      <td>2802.30</td>\n",
              "      <td>2795.00</td>\n",
              "      <td>2806.40</td>\n",
              "      <td>2782.20</td>\n",
              "      <td>2780.3</td>\n",
              "      <td>2781.40</td>\n",
              "      <td>2768.40</td>\n",
              "      <td>2779.00</td>\n",
              "      <td>2774.90</td>\n",
              "      <td>2770.00</td>\n",
              "      <td>2780.00</td>\n",
              "      <td>2752.30</td>\n",
              "      <td>2749.90</td>\n",
              "      <td>2748.40</td>\n",
              "      <td>2744.30</td>\n",
              "      <td>2757.30</td>\n",
              "      <td>2754.8</td>\n",
              "      <td>2752.50</td>\n",
              "      <td>2743.80</td>\n",
              "      <td>2763.70</td>\n",
              "      <td>2756.60</td>\n",
              "      <td>2756.30</td>\n",
              "      <td>2767.70</td>\n",
              "      <td>2771.70</td>\n",
              "      <td>2774.90</td>\n",
              "      <td>2770.20</td>\n",
              "      <td>2768.40</td>\n",
              "      <td>2759.20</td>\n",
              "      <td>2760.30</td>\n",
              "      <td>2746.00</td>\n",
              "      <td>2738.50</td>\n",
              "      <td>2713.60</td>\n",
              "      <td>2705.10</td>\n",
              "      <td>2701.80</td>\n",
              "      <td>2706.70</td>\n",
              "      <td>...</td>\n",
              "      <td>NaN</td>\n",
              "      <td>NaN</td>\n",
              "      <td>NaN</td>\n",
              "      <td>NaN</td>\n",
              "      <td>NaN</td>\n",
              "      <td>NaN</td>\n",
              "      <td>NaN</td>\n",
              "      <td>NaN</td>\n",
              "      <td>NaN</td>\n",
              "      <td>NaN</td>\n",
              "      <td>NaN</td>\n",
              "      <td>NaN</td>\n",
              "      <td>NaN</td>\n",
              "      <td>NaN</td>\n",
              "      <td>NaN</td>\n",
              "      <td>NaN</td>\n",
              "      <td>NaN</td>\n",
              "      <td>NaN</td>\n",
              "      <td>NaN</td>\n",
              "      <td>NaN</td>\n",
              "      <td>NaN</td>\n",
              "      <td>NaN</td>\n",
              "      <td>NaN</td>\n",
              "      <td>NaN</td>\n",
              "      <td>NaN</td>\n",
              "      <td>NaN</td>\n",
              "      <td>NaN</td>\n",
              "      <td>NaN</td>\n",
              "      <td>NaN</td>\n",
              "      <td>NaN</td>\n",
              "      <td>NaN</td>\n",
              "      <td>NaN</td>\n",
              "      <td>NaN</td>\n",
              "      <td>NaN</td>\n",
              "      <td>NaN</td>\n",
              "      <td>NaN</td>\n",
              "      <td>NaN</td>\n",
              "      <td>NaN</td>\n",
              "      <td>NaN</td>\n",
              "      <td>NaN</td>\n",
              "    </tr>\n",
              "    <tr>\n",
              "      <th>2</th>\n",
              "      <td>D3</td>\n",
              "      <td>1091.30</td>\n",
              "      <td>1088.50</td>\n",
              "      <td>1085.70</td>\n",
              "      <td>1082.90</td>\n",
              "      <td>1080.10</td>\n",
              "      <td>1077.30</td>\n",
              "      <td>1074.50</td>\n",
              "      <td>1071.70</td>\n",
              "      <td>1068.9</td>\n",
              "      <td>1066.10</td>\n",
              "      <td>1063.30</td>\n",
              "      <td>1060.50</td>\n",
              "      <td>1057.70</td>\n",
              "      <td>1054.90</td>\n",
              "      <td>1052.10</td>\n",
              "      <td>1049.30</td>\n",
              "      <td>1046.50</td>\n",
              "      <td>1043.70</td>\n",
              "      <td>1040.90</td>\n",
              "      <td>1038.10</td>\n",
              "      <td>1035.3</td>\n",
              "      <td>1032.50</td>\n",
              "      <td>1029.70</td>\n",
              "      <td>1025.50</td>\n",
              "      <td>1022.70</td>\n",
              "      <td>1019.90</td>\n",
              "      <td>1017.10</td>\n",
              "      <td>1014.30</td>\n",
              "      <td>1011.50</td>\n",
              "      <td>1008.70</td>\n",
              "      <td>1005.90</td>\n",
              "      <td>1003.10</td>\n",
              "      <td>1000.30</td>\n",
              "      <td>997.50</td>\n",
              "      <td>994.70</td>\n",
              "      <td>991.90</td>\n",
              "      <td>989.10</td>\n",
              "      <td>986.30</td>\n",
              "      <td>983.50</td>\n",
              "      <td>...</td>\n",
              "      <td>NaN</td>\n",
              "      <td>NaN</td>\n",
              "      <td>NaN</td>\n",
              "      <td>NaN</td>\n",
              "      <td>NaN</td>\n",
              "      <td>NaN</td>\n",
              "      <td>NaN</td>\n",
              "      <td>NaN</td>\n",
              "      <td>NaN</td>\n",
              "      <td>NaN</td>\n",
              "      <td>NaN</td>\n",
              "      <td>NaN</td>\n",
              "      <td>NaN</td>\n",
              "      <td>NaN</td>\n",
              "      <td>NaN</td>\n",
              "      <td>NaN</td>\n",
              "      <td>NaN</td>\n",
              "      <td>NaN</td>\n",
              "      <td>NaN</td>\n",
              "      <td>NaN</td>\n",
              "      <td>NaN</td>\n",
              "      <td>NaN</td>\n",
              "      <td>NaN</td>\n",
              "      <td>NaN</td>\n",
              "      <td>NaN</td>\n",
              "      <td>NaN</td>\n",
              "      <td>NaN</td>\n",
              "      <td>NaN</td>\n",
              "      <td>NaN</td>\n",
              "      <td>NaN</td>\n",
              "      <td>NaN</td>\n",
              "      <td>NaN</td>\n",
              "      <td>NaN</td>\n",
              "      <td>NaN</td>\n",
              "      <td>NaN</td>\n",
              "      <td>NaN</td>\n",
              "      <td>NaN</td>\n",
              "      <td>NaN</td>\n",
              "      <td>NaN</td>\n",
              "      <td>NaN</td>\n",
              "    </tr>\n",
              "    <tr>\n",
              "      <th>3</th>\n",
              "      <td>D4</td>\n",
              "      <td>1092.00</td>\n",
              "      <td>1078.00</td>\n",
              "      <td>1064.00</td>\n",
              "      <td>1050.00</td>\n",
              "      <td>1036.00</td>\n",
              "      <td>1022.00</td>\n",
              "      <td>1008.00</td>\n",
              "      <td>1092.00</td>\n",
              "      <td>1078.0</td>\n",
              "      <td>1064.00</td>\n",
              "      <td>1050.00</td>\n",
              "      <td>1036.00</td>\n",
              "      <td>1022.00</td>\n",
              "      <td>1092.00</td>\n",
              "      <td>1079.00</td>\n",
              "      <td>1064.00</td>\n",
              "      <td>1050.00</td>\n",
              "      <td>1036.00</td>\n",
              "      <td>1022.00</td>\n",
              "      <td>1092.00</td>\n",
              "      <td>1078.0</td>\n",
              "      <td>1064.00</td>\n",
              "      <td>1092.00</td>\n",
              "      <td>1078.00</td>\n",
              "      <td>1065.00</td>\n",
              "      <td>1092.00</td>\n",
              "      <td>1078.00</td>\n",
              "      <td>1064.00</td>\n",
              "      <td>1050.00</td>\n",
              "      <td>1036.00</td>\n",
              "      <td>1022.00</td>\n",
              "      <td>1092.00</td>\n",
              "      <td>1078.00</td>\n",
              "      <td>1064.00</td>\n",
              "      <td>1050.00</td>\n",
              "      <td>1092.00</td>\n",
              "      <td>1078.00</td>\n",
              "      <td>1064.00</td>\n",
              "      <td>1050.00</td>\n",
              "      <td>...</td>\n",
              "      <td>NaN</td>\n",
              "      <td>NaN</td>\n",
              "      <td>NaN</td>\n",
              "      <td>NaN</td>\n",
              "      <td>NaN</td>\n",
              "      <td>NaN</td>\n",
              "      <td>NaN</td>\n",
              "      <td>NaN</td>\n",
              "      <td>NaN</td>\n",
              "      <td>NaN</td>\n",
              "      <td>NaN</td>\n",
              "      <td>NaN</td>\n",
              "      <td>NaN</td>\n",
              "      <td>NaN</td>\n",
              "      <td>NaN</td>\n",
              "      <td>NaN</td>\n",
              "      <td>NaN</td>\n",
              "      <td>NaN</td>\n",
              "      <td>NaN</td>\n",
              "      <td>NaN</td>\n",
              "      <td>NaN</td>\n",
              "      <td>NaN</td>\n",
              "      <td>NaN</td>\n",
              "      <td>NaN</td>\n",
              "      <td>NaN</td>\n",
              "      <td>NaN</td>\n",
              "      <td>NaN</td>\n",
              "      <td>NaN</td>\n",
              "      <td>NaN</td>\n",
              "      <td>NaN</td>\n",
              "      <td>NaN</td>\n",
              "      <td>NaN</td>\n",
              "      <td>NaN</td>\n",
              "      <td>NaN</td>\n",
              "      <td>NaN</td>\n",
              "      <td>NaN</td>\n",
              "      <td>NaN</td>\n",
              "      <td>NaN</td>\n",
              "      <td>NaN</td>\n",
              "      <td>NaN</td>\n",
              "    </tr>\n",
              "    <tr>\n",
              "      <th>4</th>\n",
              "      <td>D5</td>\n",
              "      <td>2938.63</td>\n",
              "      <td>2956.44</td>\n",
              "      <td>2964.41</td>\n",
              "      <td>2972.41</td>\n",
              "      <td>3014.97</td>\n",
              "      <td>3014.23</td>\n",
              "      <td>3024.08</td>\n",
              "      <td>3031.97</td>\n",
              "      <td>3062.7</td>\n",
              "      <td>3057.19</td>\n",
              "      <td>3063.93</td>\n",
              "      <td>3068.45</td>\n",
              "      <td>3072.98</td>\n",
              "      <td>3431.69</td>\n",
              "      <td>3436.86</td>\n",
              "      <td>3441.45</td>\n",
              "      <td>3446.05</td>\n",
              "      <td>3454.46</td>\n",
              "      <td>3459.42</td>\n",
              "      <td>3463.44</td>\n",
              "      <td>3467.3</td>\n",
              "      <td>3485.64</td>\n",
              "      <td>3475.19</td>\n",
              "      <td>3478.89</td>\n",
              "      <td>3482.34</td>\n",
              "      <td>3486.01</td>\n",
              "      <td>4087.11</td>\n",
              "      <td>4092.18</td>\n",
              "      <td>4096.39</td>\n",
              "      <td>4100.62</td>\n",
              "      <td>4106.51</td>\n",
              "      <td>4111.35</td>\n",
              "      <td>4115.66</td>\n",
              "      <td>4119.77</td>\n",
              "      <td>4139.93</td>\n",
              "      <td>4130.28</td>\n",
              "      <td>4135.06</td>\n",
              "      <td>4139.71</td>\n",
              "      <td>4145.03</td>\n",
              "      <td>...</td>\n",
              "      <td>NaN</td>\n",
              "      <td>NaN</td>\n",
              "      <td>NaN</td>\n",
              "      <td>NaN</td>\n",
              "      <td>NaN</td>\n",
              "      <td>NaN</td>\n",
              "      <td>NaN</td>\n",
              "      <td>NaN</td>\n",
              "      <td>NaN</td>\n",
              "      <td>NaN</td>\n",
              "      <td>NaN</td>\n",
              "      <td>NaN</td>\n",
              "      <td>NaN</td>\n",
              "      <td>NaN</td>\n",
              "      <td>NaN</td>\n",
              "      <td>NaN</td>\n",
              "      <td>NaN</td>\n",
              "      <td>NaN</td>\n",
              "      <td>NaN</td>\n",
              "      <td>NaN</td>\n",
              "      <td>NaN</td>\n",
              "      <td>NaN</td>\n",
              "      <td>NaN</td>\n",
              "      <td>NaN</td>\n",
              "      <td>NaN</td>\n",
              "      <td>NaN</td>\n",
              "      <td>NaN</td>\n",
              "      <td>NaN</td>\n",
              "      <td>NaN</td>\n",
              "      <td>NaN</td>\n",
              "      <td>NaN</td>\n",
              "      <td>NaN</td>\n",
              "      <td>NaN</td>\n",
              "      <td>NaN</td>\n",
              "      <td>NaN</td>\n",
              "      <td>NaN</td>\n",
              "      <td>NaN</td>\n",
              "      <td>NaN</td>\n",
              "      <td>NaN</td>\n",
              "      <td>NaN</td>\n",
              "    </tr>\n",
              "  </tbody>\n",
              "</table>\n",
              "<p>5 rows × 9920 columns</p>\n",
              "</div>"
            ],
            "text/plain": [
              "   V1       V2       V3       V4       V5  ...  V9916  V9917  V9918  V9919  V9920\n",
              "0  D1  1017.10  1019.30  1017.00  1019.20  ...    NaN    NaN    NaN    NaN    NaN\n",
              "1  D2  2793.70  2793.80  2803.70  2805.80  ...    NaN    NaN    NaN    NaN    NaN\n",
              "2  D3  1091.30  1088.50  1085.70  1082.90  ...    NaN    NaN    NaN    NaN    NaN\n",
              "3  D4  1092.00  1078.00  1064.00  1050.00  ...    NaN    NaN    NaN    NaN    NaN\n",
              "4  D5  2938.63  2956.44  2964.41  2972.41  ...    NaN    NaN    NaN    NaN    NaN\n",
              "\n",
              "[5 rows x 9920 columns]"
            ]
          },
          "metadata": {
            "tags": []
          },
          "execution_count": 5
        }
      ]
    },
    {
      "cell_type": "code",
      "metadata": {
        "id": "_krnvV5CXXkU",
        "colab": {
          "base_uri": "https://localhost:8080/",
          "height": 282
        },
        "outputId": "e94d1fc6-ed77-49d6-e889-43fa15e77f86"
      },
      "source": [
        "single_day = days.loc[0].transpose()\n",
        "df = pd.DataFrame(single_day).reset_index().drop([0])\n",
        "\n",
        "df[0].plot()"
      ],
      "execution_count": 6,
      "outputs": [
        {
          "output_type": "execute_result",
          "data": {
            "text/plain": [
              "<matplotlib.axes._subplots.AxesSubplot at 0x7f48de038c90>"
            ]
          },
          "metadata": {
            "tags": []
          },
          "execution_count": 6
        },
        {
          "output_type": "display_data",
          "data": {
            "image/png": "[encoded data removed]",
            "text/plain": [
              "<Figure size 432x288 with 1 Axes>"
            ]
          },
          "metadata": {
            "tags": [],
            "needs_background": "light"
          }
        }
      ]
    },
    {
      "cell_type": "code",
      "metadata": {
        "id": "ap3TJjjJXXsM"
      },
      "source": [
        "df = df.drop(['index'], axis =1)\n",
        "df.columns = ['values']\n",
        "\n",
        "#Take first 1000 data\n",
        "df = df[:1000]"
      ],
      "execution_count": 7,
      "outputs": []
    },
    {
      "cell_type": "markdown",
      "metadata": {
        "id": "Lqa0sTU5-g0n"
      },
      "source": [
        "## Formating the data\n",
        "\n"
      ]
    },
    {
      "cell_type": "code",
      "metadata": {
        "colab": {
          "base_uri": "https://localhost:8080/"
        },
        "id": "5P7McpOB-GMQ",
        "outputId": "dfab9f5d-587f-4deb-91b7-75f58a3adbc2"
      },
      "source": [
        "#Convert to numpy\n",
        "timesteps = np.array(df.index)\n",
        "values = df['values'].to_numpy()\n",
        "\n",
        "timesteps.shape, values.shape"
      ],
      "execution_count": 8,
      "outputs": [
        {
          "output_type": "execute_result",
          "data": {
            "text/plain": [
              "((1000,), (1000,))"
            ]
          },
          "metadata": {
            "tags": []
          },
          "execution_count": 8
        }
      ]
    },
    {
      "cell_type": "code",
      "metadata": {
        "id": "EDQtts0r-ytr"
      },
      "source": [
        "#make a train test split\n",
        "split = int(len(values) * 0.8)\n",
        "\n",
        "X_train, y_train = timesteps[:split], values[:split]\n",
        "X_test, y_test = timesteps[split:], values[split:]"
      ],
      "execution_count": 11,
      "outputs": []
    },
    {
      "cell_type": "code",
      "metadata": {
        "id": "4fmLSmfN-GPP",
        "colab": {
          "base_uri": "https://localhost:8080/",
          "height": 442
        },
        "outputId": "f3621756-42b8-4746-f079-6f88db4768bf"
      },
      "source": [
        "import matplotlib.pyplot as plt\n",
        "\n",
        "plt.figure(figsize=(10,7))\n",
        "plt.scatter(X_train, y_train,s=5, label='training_data')\n",
        "plt.scatter(X_test, y_test,s=5, label='test_data')\n",
        "plt.legend()\n",
        "plt.xlabel(\"timesteps\")\n",
        "plt.ylabel(\"values\")\n",
        "plt.show()"
      ],
      "execution_count": 37,
      "outputs": [
        {
          "output_type": "display_data",
          "data": {
            "image/png": "[encoded data removed]",
            "text/plain": [
              "<Figure size 720x504 with 1 Axes>"
            ]
          },
          "metadata": {
            "tags": [],
            "needs_background": "light"
          }
        }
      ]
    },
    {
      "cell_type": "markdown",
      "metadata": {
        "id": "m2Xu0gwn9x1I"
      },
      "source": [
        "## Setting up a data loader\n"
      ]
    },
    {
      "cell_type": "code",
      "metadata": {
        "id": "-jfioPOuAY4W"
      },
      "source": [
        "window_size = 10\n",
        "\n",
        "def create_dataset(values, window_size):\n",
        "  #dataset = tf.data.Dataset.from_tensor_slices(tf.constant(values, tf.float32))\n",
        "  dataset = tf.expand_dims(tf.constant(values, tf.float32), axis=1)\n",
        "  dataset = tf.data.Dataset.from_tensor_slices(dataset)\n",
        "  dataset = dataset.window(window_size+1, shift=1, drop_remainder=True)\n",
        "  dataset = dataset.flat_map(lambda window: window.batch(window_size+1))\n",
        "  dataset = dataset.map(lambda window:(window[:-1], window[-1]))\n",
        "  dataset = dataset.batch(32).prefetch(tf.data.AUTOTUNE)\n",
        "  return dataset\n"
      ],
      "execution_count": 26,
      "outputs": []
    },
    {
      "cell_type": "code",
      "metadata": {
        "id": "JwcMSs2TAwmb"
      },
      "source": [
        "train_dataset = create_dataset(y_train, window_size = 10)\n",
        "test_dataset = create_dataset(y_test, window_size = 10)"
      ],
      "execution_count": 14,
      "outputs": []
    },
    {
      "cell_type": "code",
      "metadata": {
        "colab": {
          "base_uri": "https://localhost:8080/"
        },
        "id": "HgXjnhEXBWlL",
        "outputId": "cf1ea72d-1efc-492e-8f47-e303af2d01d0"
      },
      "source": [
        "train_dataset, test_dataset"
      ],
      "execution_count": 28,
      "outputs": [
        {
          "output_type": "execute_result",
          "data": {
            "text/plain": [
              "(<PrefetchDataset shapes: ((None, None, 1), (None, 1)), types: (tf.float32, tf.float32)>,\n",
              " <PrefetchDataset shapes: ((None, None, 1), (None, 1)), types: (tf.float32, tf.float32)>)"
            ]
          },
          "metadata": {
            "tags": []
          },
          "execution_count": 28
        }
      ]
    },
    {
      "cell_type": "markdown",
      "metadata": {
        "id": "qWJgmoD52JmL"
      },
      "source": [
        "## Model 1 Dense model"
      ]
    },
    {
      "cell_type": "code",
      "metadata": {
        "id": "BhHc9fEd2YI2"
      },
      "source": [
        "# Dense model\n",
        "\n",
        "Inp = Input(shape=[window_size,1], name='Inp')\n",
        "x = Flatten()(Inp)\n",
        "x = Dense(128, activation='relu',name='Dense_01')(x)\n",
        "#x = Dense(128, activation='relu',name='Dense_02')(x)\n",
        "#x = Dense(128, activation='relu',name='Dense_03')(x)\n",
        "outputs = Dense(1, name='Outputs')(x)"
      ],
      "execution_count": 29,
      "outputs": []
    },
    {
      "cell_type": "markdown",
      "metadata": {
        "id": "b9OBlPrZHb9g"
      },
      "source": [
        "Tried:\n",
        "1. Batch Normalisation - Performance much worse\n",
        "2. Dropout - performance dropped\n",
        "3. Extra Dense Layer - Performnance Dropped\n",
        "4. Reduce to one dense layer - Performace improved"
      ]
    },
    {
      "cell_type": "code",
      "metadata": {
        "id": "B-OFOW292YI2"
      },
      "source": [
        "model_dense = tf.keras.Model(Inp, outputs, name='baseline_dense')"
      ],
      "execution_count": 91,
      "outputs": []
    },
    {
      "cell_type": "markdown",
      "metadata": {
        "id": "ilQY5FH9A-L-"
      },
      "source": [
        ""
      ]
    },
    {
      "cell_type": "code",
      "metadata": {
        "id": "x9Tpdchu2YI2",
        "colab": {
          "base_uri": "https://localhost:8080/"
        },
        "outputId": "061e9b25-e135-4fe4-b5f0-225a1c1ba9ec"
      },
      "source": [
        "model_dense.summary()"
      ],
      "execution_count": 92,
      "outputs": [
        {
          "output_type": "stream",
          "text": [
            "Model: \"baseline_dense\"\n",
            "_________________________________________________________________\n",
            "Layer (type)                 Output Shape              Param #   \n",
            "=================================================================\n",
            "Input (InputLayer)           [(None, None, 1)]         0         \n",
            "_________________________________________________________________\n",
            "Conv1d_01 (Conv1D)           (None, None, 64)          384       \n",
            "_________________________________________________________________\n",
            "GlobalPolling (GlobalAverage (None, 64)                0         \n",
            "_________________________________________________________________\n",
            "Outputs (Dense)              (None, 1)                 65        \n",
            "=================================================================\n",
            "Total params: 449\n",
            "Trainable params: 449\n",
            "Non-trainable params: 0\n",
            "_________________________________________________________________\n"
          ],
          "name": "stdout"
        }
      ]
    },
    {
      "cell_type": "code",
      "metadata": {
        "id": "-cKa8RLu2TSZ"
      },
      "source": [
        "model_dense.compile(loss='mae', optimizer='Adam', metrics=['mae'])"
      ],
      "execution_count": 93,
      "outputs": []
    },
    {
      "cell_type": "code",
      "metadata": {
        "id": "5LauabOt2TSa",
        "colab": {
          "base_uri": "https://localhost:8080/"
        },
        "outputId": "746a5f65-ed40-4e31-a8c6-d2d42397dd49"
      },
      "source": [
        "model_dense.fit(train_dataset, epochs=20)"
      ],
      "execution_count": 95,
      "outputs": [
        {
          "output_type": "stream",
          "text": [
            "Epoch 1/20\n",
            "25/25 [==============================] - 0s 4ms/step - loss: 10.6881 - mae: 10.6881\n",
            "Epoch 2/20\n",
            "25/25 [==============================] - 0s 5ms/step - loss: 8.9171 - mae: 8.9171\n",
            "Epoch 3/20\n",
            "25/25 [==============================] - 0s 5ms/step - loss: 10.6731 - mae: 10.6731\n",
            "Epoch 4/20\n",
            "25/25 [==============================] - 0s 5ms/step - loss: 10.6199 - mae: 10.6199\n",
            "Epoch 5/20\n",
            "25/25 [==============================] - 0s 4ms/step - loss: 9.7222 - mae: 9.7222\n",
            "Epoch 6/20\n",
            "25/25 [==============================] - 0s 5ms/step - loss: 10.4490 - mae: 10.4490\n",
            "Epoch 7/20\n",
            "25/25 [==============================] - 0s 5ms/step - loss: 10.7649 - mae: 10.7649\n",
            "Epoch 8/20\n",
            "25/25 [==============================] - 0s 5ms/step - loss: 10.3815 - mae: 10.3815\n",
            "Epoch 9/20\n",
            "25/25 [==============================] - 0s 5ms/step - loss: 10.8253 - mae: 10.8253\n",
            "Epoch 10/20\n",
            "25/25 [==============================] - 0s 5ms/step - loss: 10.0830 - mae: 10.0830\n",
            "Epoch 11/20\n",
            "25/25 [==============================] - 0s 5ms/step - loss: 10.6377 - mae: 10.6377\n",
            "Epoch 12/20\n",
            "25/25 [==============================] - 0s 5ms/step - loss: 10.8770 - mae: 10.8770\n",
            "Epoch 13/20\n",
            "25/25 [==============================] - 0s 5ms/step - loss: 10.4521 - mae: 10.4521\n",
            "Epoch 14/20\n",
            "25/25 [==============================] - 0s 5ms/step - loss: 10.8616 - mae: 10.8616\n",
            "Epoch 15/20\n",
            "25/25 [==============================] - 0s 5ms/step - loss: 11.1190 - mae: 11.1190\n",
            "Epoch 16/20\n",
            "25/25 [==============================] - 0s 5ms/step - loss: 10.2755 - mae: 10.2755\n",
            "Epoch 17/20\n",
            "25/25 [==============================] - 0s 5ms/step - loss: 10.8459 - mae: 10.8459\n",
            "Epoch 18/20\n",
            "25/25 [==============================] - 0s 5ms/step - loss: 10.4992 - mae: 10.4992\n",
            "Epoch 19/20\n",
            "25/25 [==============================] - 0s 6ms/step - loss: 10.6743 - mae: 10.6743\n",
            "Epoch 20/20\n",
            "25/25 [==============================] - 0s 6ms/step - loss: 10.4763 - mae: 10.4763\n"
          ],
          "name": "stdout"
        },
        {
          "output_type": "execute_result",
          "data": {
            "text/plain": [
              "<tensorflow.python.keras.callbacks.History at 0x7f48db9a1390>"
            ]
          },
          "metadata": {
            "tags": []
          },
          "execution_count": 95
        }
      ]
    },
    {
      "cell_type": "code",
      "metadata": {
        "id": "4Z214DyC2paW",
        "colab": {
          "base_uri": "https://localhost:8080/"
        },
        "outputId": "fce13b80-029a-4729-de76-455553dd8e5c"
      },
      "source": [
        "model_dense.evaluate(test_dataset)"
      ],
      "execution_count": 96,
      "outputs": [
        {
          "output_type": "stream",
          "text": [
            "6/6 [==============================] - 0s 7ms/step - loss: 14.6197 - mae: 14.6197\n"
          ],
          "name": "stdout"
        },
        {
          "output_type": "execute_result",
          "data": {
            "text/plain": [
              "[14.619673728942871, 14.619673728942871]"
            ]
          },
          "metadata": {
            "tags": []
          },
          "execution_count": 96
        }
      ]
    },
    {
      "cell_type": "code",
      "metadata": {
        "colab": {
          "base_uri": "https://localhost:8080/"
        },
        "id": "1s28JJ342paX",
        "outputId": "ca3253cd-eb01-4174-a9cd-5de74d6261f0"
      },
      "source": [
        "dense_preds = tf.squeeze(model_dense.predict(test_dataset))\n",
        "dense_preds.shape"
      ],
      "execution_count": 97,
      "outputs": [
        {
          "output_type": "execute_result",
          "data": {
            "text/plain": [
              "TensorShape([190])"
            ]
          },
          "metadata": {
            "tags": []
          },
          "execution_count": 97
        }
      ]
    },
    {
      "cell_type": "code",
      "metadata": {
        "id": "6JDAiwnh2q4N",
        "colab": {
          "base_uri": "https://localhost:8080/",
          "height": 442
        },
        "outputId": "657db11c-6652-4b53-82a2-21f2df498c98"
      },
      "source": [
        "plt.figure(figsize=(10,7))\n",
        "plt.scatter(X_train, y_train,s=5, label='training_data')\n",
        "plt.scatter(X_test, y_test,s=5, label='test_data')\n",
        "plt.scatter(X_test[:-10], dense_preds,s=5, label='baseline_forecast') # we minus 10 becuase that is the window size\n",
        "\n",
        "plt.legend()\n",
        "plt.xlabel(\"timesteps\")\n",
        "plt.ylabel(\"values\")\n",
        "plt.show()"
      ],
      "execution_count": 98,
      "outputs": [
        {
          "output_type": "display_data",
          "data": {
            "image/png": "[encoded data removed]",
            "text/plain": [
              "<Figure size 720x504 with 1 Axes>"
            ]
          },
          "metadata": {
            "tags": [],
            "needs_background": "light"
          }
        }
      ]
    },
    {
      "cell_type": "markdown",
      "metadata": {
        "id": "-gLLtMoN2_OH"
      },
      "source": [
        "## Model 2 - Conv1D"
      ]
    },
    {
      "cell_type": "code",
      "metadata": {
        "id": "IGtnu44R3GcV"
      },
      "source": [
        "# conv1D model\n",
        "Inp = Input(shape=[None,1],name='Input')\n",
        "x = Conv1D(64, kernel_size=5, activation='relu', name='Conv1d_01')(Inp)\n",
        "x= GlobalAveragePooling1D(name='GlobalPolling')(x)\n",
        "outputs = Dense(1, name='Outputs')(x)"
      ],
      "execution_count": 99,
      "outputs": []
    },
    {
      "cell_type": "code",
      "metadata": {
        "id": "ReaBBjsc3GcV"
      },
      "source": [
        "model_conv = tf.keras.Model(Inp, outputs, name='Baseline_conv')"
      ],
      "execution_count": 100,
      "outputs": []
    },
    {
      "cell_type": "code",
      "metadata": {
        "id": "yC3n8QJ63GcV",
        "colab": {
          "base_uri": "https://localhost:8080/"
        },
        "outputId": "59d27254-1e05-430f-f043-aa552e19b268"
      },
      "source": [
        "model_conv.summary()"
      ],
      "execution_count": 101,
      "outputs": [
        {
          "output_type": "stream",
          "text": [
            "Model: \"Baseline_conv\"\n",
            "_________________________________________________________________\n",
            "Layer (type)                 Output Shape              Param #   \n",
            "=================================================================\n",
            "Input (InputLayer)           [(None, None, 1)]         0         \n",
            "_________________________________________________________________\n",
            "Conv1d_01 (Conv1D)           (None, None, 64)          384       \n",
            "_________________________________________________________________\n",
            "GlobalPolling (GlobalAverage (None, 64)                0         \n",
            "_________________________________________________________________\n",
            "Outputs (Dense)              (None, 1)                 65        \n",
            "=================================================================\n",
            "Total params: 449\n",
            "Trainable params: 449\n",
            "Non-trainable params: 0\n",
            "_________________________________________________________________\n"
          ],
          "name": "stdout"
        }
      ]
    },
    {
      "cell_type": "code",
      "metadata": {
        "id": "_pw6Rn2s3GcW"
      },
      "source": [
        "model_conv.compile(loss='mae', optimizer='Adam', metrics=['mae'])"
      ],
      "execution_count": 103,
      "outputs": []
    },
    {
      "cell_type": "code",
      "metadata": {
        "id": "Z2rN4MCY4Fh3",
        "colab": {
          "base_uri": "https://localhost:8080/"
        },
        "outputId": "6af41891-a2c1-407b-dd78-8b46f454a88d"
      },
      "source": [
        "#train the model\n",
        "es = tf.keras.callbacks.EarlyStopping(monitor='mae', mode='auto', restore_best_weights=True)\n",
        "model_conv.fit(train_dataset, epochs=20, callbacks=[es])"
      ],
      "execution_count": 104,
      "outputs": [
        {
          "output_type": "stream",
          "text": [
            "Epoch 1/20\n",
            "25/25 [==============================] - 0s 5ms/step - loss: 789.1412 - mae: 789.1412\n",
            "Epoch 2/20\n",
            "25/25 [==============================] - 0s 5ms/step - loss: 108.0453 - mae: 108.0453\n",
            "Epoch 3/20\n",
            "25/25 [==============================] - 0s 5ms/step - loss: 24.2551 - mae: 24.2551\n",
            "Epoch 4/20\n",
            "25/25 [==============================] - 0s 5ms/step - loss: 10.1505 - mae: 10.1505\n",
            "Epoch 5/20\n",
            "25/25 [==============================] - 0s 5ms/step - loss: 9.0392 - mae: 9.0392\n",
            "Epoch 6/20\n",
            "25/25 [==============================] - 0s 5ms/step - loss: 9.6113 - mae: 9.6113\n"
          ],
          "name": "stdout"
        },
        {
          "output_type": "execute_result",
          "data": {
            "text/plain": [
              "<tensorflow.python.keras.callbacks.History at 0x7f48ddd96910>"
            ]
          },
          "metadata": {
            "tags": []
          },
          "execution_count": 104
        }
      ]
    },
    {
      "cell_type": "markdown",
      "metadata": {
        "id": "FCZRFbO3LktD"
      },
      "source": [
        "Implemented early stopping callbacks as i see that mae increases in the midst of training. "
      ]
    },
    {
      "cell_type": "code",
      "metadata": {
        "id": "Wt44IC8A4Fh5",
        "colab": {
          "base_uri": "https://localhost:8080/"
        },
        "outputId": "17cf60e8-66d9-4670-fd32-734d97d83117"
      },
      "source": [
        "model_conv.evaluate(test_dataset)"
      ],
      "execution_count": 105,
      "outputs": [
        {
          "output_type": "stream",
          "text": [
            "6/6 [==============================] - 0s 7ms/step - loss: 13.5058 - mae: 13.5058\n"
          ],
          "name": "stdout"
        },
        {
          "output_type": "execute_result",
          "data": {
            "text/plain": [
              "[13.505838394165039, 13.505838394165039]"
            ]
          },
          "metadata": {
            "tags": []
          },
          "execution_count": 105
        }
      ]
    },
    {
      "cell_type": "code",
      "metadata": {
        "id": "z6ci0LnQ4Fh5",
        "colab": {
          "base_uri": "https://localhost:8080/"
        },
        "outputId": "4958585d-3bbe-497f-caf6-c4e635add6e9"
      },
      "source": [
        "# predict\n",
        "conv_preds = tf.squeeze(model_conv.predict(test_dataset))\n",
        "conv_preds.shape"
      ],
      "execution_count": 106,
      "outputs": [
        {
          "output_type": "execute_result",
          "data": {
            "text/plain": [
              "TensorShape([190])"
            ]
          },
          "metadata": {
            "tags": []
          },
          "execution_count": 106
        }
      ]
    },
    {
      "cell_type": "code",
      "metadata": {
        "id": "QNQRgNK60ntW",
        "colab": {
          "base_uri": "https://localhost:8080/",
          "height": 442
        },
        "outputId": "54e0498e-6519-419b-9d6d-cddef666c9b3"
      },
      "source": [
        "plt.figure(figsize=(10,7))\n",
        "plt.scatter(X_train, y_train,s=5, label='training_data')\n",
        "plt.scatter(X_test, y_test,s=5, label='test_data')\n",
        "plt.scatter(X_test[:-10], conv_preds,s=5, label='baseline_forecast') # we minus 10 becuase that is the window size\n",
        "\n",
        "plt.legend()\n",
        "plt.xlabel(\"timesteps\")\n",
        "plt.ylabel(\"values\")\n",
        "plt.show()"
      ],
      "execution_count": 107,
      "outputs": [
        {
          "output_type": "display_data",
          "data": {
            "image/png": "[encoded data removed]",
            "text/plain": [
              "<Figure size 720x504 with 1 Axes>"
            ]
          },
          "metadata": {
            "tags": [],
            "needs_background": "light"
          }
        }
      ]
    },
    {
      "cell_type": "markdown",
      "metadata": {
        "id": "oaRoQiKW7rC6"
      },
      "source": [
        "## Model 3 LSTM"
      ]
    },
    {
      "cell_type": "code",
      "metadata": {
        "id": "iZ2ZaKeA7x8h",
        "colab": {
          "base_uri": "https://localhost:8080/"
        },
        "outputId": "d50e282f-3f94-4b16-8bd8-01fac7a51645"
      },
      "source": [
        "# LSTM model model\n",
        "Inp = Input(shape=[None, 1], name='Inputs')\n",
        "x = LSTM(32, return_sequences=True, activation='relu', name='LSTM_01')(Inp)\n",
        "#x= Dropout(0.1)(x)\n",
        "x = LSTM(64, return_sequences=False, activation='relu', name='LSTM_02')(x)\n",
        "outputs = Dense(1, name='Output')(x)"
      ],
      "execution_count": 245,
      "outputs": [
        {
          "output_type": "stream",
          "text": [
            "WARNING:tensorflow:Layer LSTM_01 will not use cuDNN kernel since it doesn't meet the cuDNN kernel criteria. It will use generic GPU kernel as fallback when running on GPU\n",
            "WARNING:tensorflow:Layer LSTM_02 will not use cuDNN kernel since it doesn't meet the cuDNN kernel criteria. It will use generic GPU kernel as fallback when running on GPU\n"
          ],
          "name": "stdout"
        }
      ]
    },
    {
      "cell_type": "markdown",
      "metadata": {
        "id": "B0DMDCqvM2iw"
      },
      "source": [
        "Tried:\n",
        "1. Drop out, does not improve\n",
        "2. Using 1 layer gives higher loss\n",
        "3. Adding additional layer gives similar results\n",
        "4. Increasing epochs does nothelp as loss saturate\n",
        "5. Callbacks do not help in this case as loss fluctuates at start of training\n",
        "6. Chaning activation to tanh makes it worse"
      ]
    },
    {
      "cell_type": "code",
      "metadata": {
        "id": "izQ5hXw67x8i"
      },
      "source": [
        "model_lstm = tf.keras.Model(Inp, outputs, name='baseline_lstm')"
      ],
      "execution_count": 246,
      "outputs": []
    },
    {
      "cell_type": "code",
      "metadata": {
        "id": "iaqZoS4F7x8i"
      },
      "source": [
        "model_lstm.compile(loss='mae', optimizer='adam',metrics=['mae','mape'])"
      ],
      "execution_count": 247,
      "outputs": []
    },
    {
      "cell_type": "code",
      "metadata": {
        "id": "K_2S5vyN7x8j",
        "colab": {
          "base_uri": "https://localhost:8080/"
        },
        "outputId": "8596bcaa-3408-4c35-849d-b46b015fba99"
      },
      "source": [
        "model_lstm.summary()"
      ],
      "execution_count": 237,
      "outputs": [
        {
          "output_type": "stream",
          "text": [
            "Model: \"baseline_lstm\"\n",
            "_________________________________________________________________\n",
            "Layer (type)                 Output Shape              Param #   \n",
            "=================================================================\n",
            "Inputs (InputLayer)          [(None, None, 1)]         0         \n",
            "_________________________________________________________________\n",
            "LSTM_01 (LSTM)               (None, None, 64)          16896     \n",
            "_________________________________________________________________\n",
            "LSTM_02 (LSTM)               (None, 32)                12416     \n",
            "_________________________________________________________________\n",
            "Output (Dense)               (None, 1)                 33        \n",
            "=================================================================\n",
            "Total params: 29,345\n",
            "Trainable params: 29,345\n",
            "Non-trainable params: 0\n",
            "_________________________________________________________________\n"
          ],
          "name": "stdout"
        }
      ]
    },
    {
      "cell_type": "code",
      "metadata": {
        "id": "cYRfVw437x8j",
        "colab": {
          "base_uri": "https://localhost:8080/"
        },
        "outputId": "75213989-0999-4900-fa49-95d768428b4d"
      },
      "source": [
        "# train the model\n",
        "es = tf.keras.callbacks.EarlyStopping(monitor='mape', mode='auto', restore_best_weights=True)\n",
        "model_lstm.fit(train_dataset, epochs=20)"
      ],
      "execution_count": 248,
      "outputs": [
        {
          "output_type": "stream",
          "text": [
            "Epoch 1/20\n",
            "25/25 [==============================] - 2s 31ms/step - loss: 353.2119 - mae: 353.2119 - mape: 33.5098\n",
            "Epoch 2/20\n",
            "25/25 [==============================] - 1s 31ms/step - loss: 16.6336 - mae: 16.6336 - mape: 1.4596\n",
            "Epoch 3/20\n",
            "25/25 [==============================] - 1s 32ms/step - loss: 11.1035 - mae: 11.1035 - mape: 0.9882\n",
            "Epoch 4/20\n",
            "25/25 [==============================] - 1s 31ms/step - loss: 14.4170 - mae: 14.4170 - mape: 1.2782\n",
            "Epoch 5/20\n",
            "25/25 [==============================] - 1s 31ms/step - loss: 17.6268 - mae: 17.6268 - mape: 1.5727\n",
            "Epoch 6/20\n",
            "25/25 [==============================] - 1s 33ms/step - loss: 16.5889 - mae: 16.5889 - mape: 1.5191\n",
            "Epoch 7/20\n",
            "25/25 [==============================] - 1s 30ms/step - loss: 13.1682 - mae: 13.1682 - mape: 1.1572\n",
            "Epoch 8/20\n",
            "25/25 [==============================] - 1s 30ms/step - loss: 15.1201 - mae: 15.1201 - mape: 1.3346\n",
            "Epoch 9/20\n",
            "25/25 [==============================] - 1s 30ms/step - loss: 15.1368 - mae: 15.1368 - mape: 1.3500\n",
            "Epoch 10/20\n",
            "25/25 [==============================] - 1s 30ms/step - loss: 12.2103 - mae: 12.2103 - mape: 1.0853\n",
            "Epoch 11/20\n",
            "25/25 [==============================] - 1s 30ms/step - loss: 13.9005 - mae: 13.9005 - mape: 1.2222\n",
            "Epoch 12/20\n",
            "25/25 [==============================] - 1s 30ms/step - loss: 14.1256 - mae: 14.1256 - mape: 1.2439\n",
            "Epoch 13/20\n",
            "25/25 [==============================] - 1s 31ms/step - loss: 14.5426 - mae: 14.5426 - mape: 1.2865\n",
            "Epoch 14/20\n",
            "25/25 [==============================] - 1s 31ms/step - loss: 14.6568 - mae: 14.6568 - mape: 1.2943\n",
            "Epoch 15/20\n",
            "25/25 [==============================] - 1s 31ms/step - loss: 15.0136 - mae: 15.0136 - mape: 1.3283\n",
            "Epoch 16/20\n",
            "25/25 [==============================] - 1s 30ms/step - loss: 15.5248 - mae: 15.5248 - mape: 1.3781\n",
            "Epoch 17/20\n",
            "25/25 [==============================] - 1s 31ms/step - loss: 12.5455 - mae: 12.5455 - mape: 1.1116\n",
            "Epoch 18/20\n",
            "25/25 [==============================] - 1s 31ms/step - loss: 11.7384 - mae: 11.7384 - mape: 1.0416\n",
            "Epoch 19/20\n",
            "25/25 [==============================] - 1s 31ms/step - loss: 11.7908 - mae: 11.7908 - mape: 1.0438\n",
            "Epoch 20/20\n",
            "25/25 [==============================] - 1s 32ms/step - loss: 12.2701 - mae: 12.2701 - mape: 1.0886\n"
          ],
          "name": "stdout"
        },
        {
          "output_type": "execute_result",
          "data": {
            "text/plain": [
              "<tensorflow.python.keras.callbacks.History at 0x7f47ccf19210>"
            ]
          },
          "metadata": {
            "tags": []
          },
          "execution_count": 248
        }
      ]
    },
    {
      "cell_type": "code",
      "metadata": {
        "id": "UPHj5GMH7x8k",
        "colab": {
          "base_uri": "https://localhost:8080/"
        },
        "outputId": "7131044d-9729-4b18-8e7c-103dd494e549"
      },
      "source": [
        "model_lstm.evaluate(test_dataset)"
      ],
      "execution_count": 252,
      "outputs": [
        {
          "output_type": "stream",
          "text": [
            "6/6 [==============================] - 0s 7ms/step - loss: 15.7778 - mae: 15.7778 - mape: 0.8276\n"
          ],
          "name": "stdout"
        },
        {
          "output_type": "execute_result",
          "data": {
            "text/plain": [
              "[15.777775764465332, 15.777775764465332, 0.8275585174560547]"
            ]
          },
          "metadata": {
            "tags": []
          },
          "execution_count": 252
        }
      ]
    },
    {
      "cell_type": "code",
      "metadata": {
        "id": "f_k3WAcX7x8k",
        "colab": {
          "base_uri": "https://localhost:8080/"
        },
        "outputId": "e6c06a1a-ec1f-43f9-8116-01f4a13d3ca8"
      },
      "source": [
        "lstm_preds = tf.squeeze(model_lstm.predict(test_dataset))\n",
        "lstm_preds.shape"
      ],
      "execution_count": 250,
      "outputs": [
        {
          "output_type": "execute_result",
          "data": {
            "text/plain": [
              "TensorShape([190])"
            ]
          },
          "metadata": {
            "tags": []
          },
          "execution_count": 250
        }
      ]
    },
    {
      "cell_type": "code",
      "metadata": {
        "colab": {
          "base_uri": "https://localhost:8080/",
          "height": 442
        },
        "id": "GcKogCuKDG3A",
        "outputId": "fa23f281-8cf0-4b55-a84b-ba20826791e9"
      },
      "source": [
        "plt.figure(figsize=(10,7))\n",
        "plt.scatter(X_train, y_train,s=5, label='training_data')\n",
        "plt.scatter(X_test, y_test,s=5, label='test_data')\n",
        "plt.scatter(X_test[:-10], lstm_preds,s=5, label='baseline_forecast') # we minus 10 becuase that is the window size\n",
        "\n",
        "plt.legend()\n",
        "plt.xlabel(\"timesteps\")\n",
        "plt.ylabel(\"values\")\n",
        "plt.show()"
      ],
      "execution_count": 251,
      "outputs": [
        {
          "output_type": "display_data",
          "data": {
            "image/png": "[encoded data removed]",
            "text/plain": [
              "<Figure size 720x504 with 1 Axes>"
            ]
          },
          "metadata": {
            "tags": [],
            "needs_background": "light"
          }
        }
      ]
    },
    {
      "cell_type": "code",
      "metadata": {
        "id": "akIN4dLsDKRN"
      },
      "source": [
        "## Add in comparing on different Loss functions\n",
        "def evaluate_metrics(y_true, y_preds, use_window=True, window_size=10):\n",
        "  if use_window:\n",
        "    y_true = y_true[window_size:]\n",
        "\n",
        "  #convert to tf tensors\n",
        "  y_true = tf.constant(y_true, tf.float32)\n",
        "  y_preds = tf.constant(y_preds, tf.float32)\n",
        "\n",
        "  #calculate loss metrics\n",
        "  mae = tf.keras.metrics.mean_absolute_error(y_true, y_preds)\n",
        "  mse = tf.keras.metrics.mean_squared_error(y_true, y_preds)\n",
        "  mape = tf.keras.metrics.mean_absolute_percentage_error(y_true, y_preds)\n",
        "\n",
        "  return {\"mae\": mae.numpy(), \"mse\": mse.numpy(), \"mape\": mape.numpy()}"
      ],
      "execution_count": 155,
      "outputs": []
    },
    {
      "cell_type": "code",
      "metadata": {
        "colab": {
          "base_uri": "https://localhost:8080/"
        },
        "id": "VCqcVB_9-B1-",
        "outputId": "2d8dfecc-66cb-4b95-ffb9-510f0d134e59"
      },
      "source": [
        "evaluate_metrics(y_test, dense_preds)"
      ],
      "execution_count": 156,
      "outputs": [
        {
          "output_type": "execute_result",
          "data": {
            "text/plain": [
              "{'mae': 14.619674, 'mape': 0.76835173, 'mse': 325.45706}"
            ]
          },
          "metadata": {
            "tags": []
          },
          "execution_count": 156
        }
      ]
    },
    {
      "cell_type": "code",
      "metadata": {
        "colab": {
          "base_uri": "https://localhost:8080/"
        },
        "id": "IVg1YIl9-Phy",
        "outputId": "466b0512-630f-41a6-c454-c84bdbb7b7d3"
      },
      "source": [
        "evaluate_metrics(y_test, conv_preds)"
      ],
      "execution_count": 157,
      "outputs": [
        {
          "output_type": "execute_result",
          "data": {
            "text/plain": [
              "{'mae': 13.505838, 'mape': 0.70929027, 'mse': 272.5939}"
            ]
          },
          "metadata": {
            "tags": []
          },
          "execution_count": 157
        }
      ]
    },
    {
      "cell_type": "code",
      "metadata": {
        "colab": {
          "base_uri": "https://localhost:8080/"
        },
        "id": "8rEKBf2K-Qxm",
        "outputId": "aeae26eb-c2a4-46fd-dbb8-785a3a4cbf6b"
      },
      "source": [
        "evaluate_metrics(y_test, lstm_preds)"
      ],
      "execution_count": 253,
      "outputs": [
        {
          "output_type": "execute_result",
          "data": {
            "text/plain": [
              "{'mae': 15.777776, 'mape': 0.8275585, 'mse': 357.6522}"
            ]
          },
          "metadata": {
            "tags": []
          },
          "execution_count": 253
        }
      ]
    }
  ]
}